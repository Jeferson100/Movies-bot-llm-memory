{
 "cells": [
  {
   "cell_type": "code",
   "execution_count": 1,
   "metadata": {},
   "outputs": [
    {
     "name": "stderr",
     "output_type": "stream",
     "text": [
      "USER_AGENT environment variable not set, consider setting it to identify your requests.\n"
     ]
    }
   ],
   "source": [
    "from IPython.display import Image, display\n",
    "\n",
    "from typing import Any\n",
    "from typing_extensions import TypedDict\n",
    "\n",
    "from langgraph.graph import END, START, StateGraph, MessagesState\n",
    "from langgraph.graph.message import add_messages\n",
    "from typing import Annotated\n",
    "from langgraph.checkpoint.memory import MemorySaver\n",
    "\n",
    "from funcoes_auxiliares.funcoes_auxiliares import search_and_incorporate\n",
    "# Add nodes\n",
    "graph_builder = StateGraph(MessagesState)"
   ]
  },
  {
   "cell_type": "code",
   "execution_count": 2,
   "metadata": {},
   "outputs": [],
   "source": [
    "from langchain_groq import ChatGroq\n",
    "#from langchain.chains import LLMChain\n",
    "\n",
    "from langchain.prompts.chat import (\n",
    "    ChatPromptTemplate,\n",
    "    SystemMessagePromptTemplate,\n",
    "    HumanMessagePromptTemplate,\n",
    ")\n",
    "from langchain_core.chat_history import BaseChatMessageHistory\n",
    "from langchain_core.messages import BaseMessage, AIMessage\n",
    "from pydantic import BaseModel, Field\n",
    "from langchain_core.prompts import ChatPromptTemplate\n",
    "from langchain_core.output_parsers import StrOutputParser\n",
    "from typing import List\n",
    "import os\n",
    "from dotenv import load_dotenv\n",
    "from langchain_community.vectorstores import FAISS\n",
    "from funcoes_auxiliares.funcoes_auxiliares import search_and_incorporate\n",
    "\n",
    "load_dotenv()\n",
    "def chat_bot(mensagem):\n",
    "    \n",
    "    model = ChatGroq(\n",
    "        api_key=os.getenv(\"GROQ_API_KEY\"),\n",
    "        model=\"llama-3.2-11b-vision-preview\",\n",
    "        temperature=0.5,\n",
    "    )\n",
    "    \n",
    "    prompt = ChatPromptTemplate.from_messages(\n",
    "        [\n",
    "            SystemMessagePromptTemplate.from_template(\"\"\"\n",
    "                                                      You are a chatbot specialized in movie recommendations for WhatsApp. Respond only to questions related to movie suggestions.\n",
    "\n",
    "                                                        Behavior:\n",
    "                                                        If the user greets you, greet them back; otherwise, respond only to the user's question.\n",
    "\n",
    "                                                        Recommendations:\n",
    "                                                        Always provide up to 5 movie suggestions with a brief summary of each. You receive internet search data about the subject requested by the user and should use this data to base your responses.\n",
    "                                                        You are a chatbot specialized in movie recommendations for WhatsApp. Respond only to questions related to movie suggestions.\n",
    "                                                        \n",
    "                                                        \n",
    "                                                        Restrictions:\n",
    "                                                        Respond only if the user initiates contact. If the user neither greets nor asks a question, do not respond.\n",
    "                                                        If the user asks where they can watch a movie, Just indicate where the movie is available without recommending another movie.\n",
    "\n",
    "                                                        Final Note: Provide all responses in Portuguese.\n",
    "                                                      \"\"\"),\n",
    "            HumanMessagePromptTemplate.from_template(\"{input}\")\n",
    "        ]\n",
    "    )\n",
    "    \n",
    "    llm_chain = prompt | model| StrOutputParser()\n",
    "    \n",
    "    resposta = llm_chain.invoke([{\"role\": \"user\", \"content\": mensagem}])\n",
    "    \n",
    "    return {\"messages\": [{\"role\": \"assistant\", \"content\": resposta}]}\n",
    "    "
   ]
  },
  {
   "cell_type": "code",
   "execution_count": 3,
   "metadata": {},
   "outputs": [],
   "source": [
    "graph_builder = StateGraph(MessagesState)\n",
    "graph_builder.add_node(\"chatbot\", chat_bot)\n",
    "graph_builder.add_edge(START, \"chatbot\")\n",
    "graph_builder.add_edge(\"chatbot\", END)\n",
    "checkpointer = MemorySaver()\n",
    "graph = graph_builder.compile(checkpointer=checkpointer)"
   ]
  },
  {
   "cell_type": "code",
   "execution_count": 4,
   "metadata": {},
   "outputs": [
    {
     "data": {
      "image/jpeg": "[encoded data removed]",
      "text/plain": [
       "<IPython.core.display.Image object>"
      ]
     },
     "metadata": {},
     "output_type": "display_data"
    }
   ],
   "source": [
    "from IPython.display import Image, display\n",
    "\n",
    "try:\n",
    "    display(Image(graph.get_graph().draw_mermaid_png()))\n",
    "except Exception:\n",
    "    # This requires some extra dependencies and is optional\n",
    "    pass"
   ]
  },
  {
   "cell_type": "code",
   "execution_count": 5,
   "metadata": {},
   "outputs": [],
   "source": [
    "config = {\"configurable\": {\"thread_id\": \"foo\"}}\n",
    "mensagem = 'Ola tudo bem?'\n",
    "resposta = graph.invoke({\"messages\": [(\"user\", mensagem)]}, config= config )"
   ]
  },
  {
   "cell_type": "code",
   "execution_count": 6,
   "metadata": {},
   "outputs": [
    {
     "data": {
      "text/plain": [
       "{'messages': [HumanMessage(content='Ola tudo bem?', additional_kwargs={}, response_metadata={}, id='ca481efb-a733-4628-98a4-4d98071a7ed9'),\n",
       "  AIMessage(content='Olá, tudo bem! Estou aqui para ajudar com sugestões de filmes. Como posso ajudar?', additional_kwargs={}, response_metadata={}, id='9d46b9ba-e618-4be5-8cec-63e5f0711c82')]}"
      ]
     },
     "execution_count": 6,
     "metadata": {},
     "output_type": "execute_result"
    }
   ],
   "source": [
    "resposta"
   ]
  },
  {
   "cell_type": "code",
   "execution_count": 7,
   "metadata": {},
   "outputs": [
    {
     "data": {
      "text/plain": [
       "{'configurable': {'thread_id': 'foo'}}"
      ]
     },
     "execution_count": 7,
     "metadata": {},
     "output_type": "execute_result"
    }
   ],
   "source": [
    "config"
   ]
  },
  {
   "cell_type": "code",
   "execution_count": 8,
   "metadata": {},
   "outputs": [],
   "source": [
    "mensagem = 'gostaria de ver um filme de comedia'\n",
    "resposta = graph.invoke({\"messages\": [(\"user\", mensagem)]}, config= config )"
   ]
  },
  {
   "cell_type": "code",
   "execution_count": 9,
   "metadata": {},
   "outputs": [
    {
     "data": {
      "text/plain": [
       "{'messages': [HumanMessage(content='Ola tudo bem?', additional_kwargs={}, response_metadata={}, id='ca481efb-a733-4628-98a4-4d98071a7ed9'),\n",
       "  AIMessage(content='Olá, tudo bem! Estou aqui para ajudar com sugestões de filmes. Como posso ajudar?', additional_kwargs={}, response_metadata={}, id='9d46b9ba-e618-4be5-8cec-63e5f0711c82'),\n",
       "  HumanMessage(content='gostaria de ver um filme de comedia', additional_kwargs={}, response_metadata={}, id='80d8816b-98c3-44d4-93ca-9e8df02d0d28'),\n",
       "  AIMessage(content='Olá, tudo bem! Estou aqui para ajudar com sugestões de filmes. Como posso ajudar? \\n\\nVocê gostaria de ver um filme de comédia, né? Aqui estão algumas sugestões:\\n\\n1. **Os Incríveis** (2004) - Uma história sobre uma família de super-heróis que tentam proteger a cidade de um vilão.\\n2. **O Grande Lebowski** (1998) - Uma comédia sobre um homem que se torna um detetive para resolver um mistério envolvendo uma pintura de arte.\\n3. **A Maldição do Drácula** (2004) - Uma comédia de terror sobre um homem que se torna o novo Drácula e tenta viver uma vida normal.\\n4. **Superbad** (2007) - Uma comédia sobre dois amigos que tentam comprar álcool para uma festa de formatura.\\n5. **O Grande Golpe** (2003) - Uma comédia sobre dois irmãos que tentam roubar um banco.\\n\\nEspero que essas sugestões sejam úteis!', additional_kwargs={}, response_metadata={}, id='9f80fe2e-ef4e-458a-9df5-4ffb05733d25')]}"
      ]
     },
     "execution_count": 9,
     "metadata": {},
     "output_type": "execute_result"
    }
   ],
   "source": [
    "resposta"
   ]
  },
  {
   "cell_type": "code",
   "execution_count": 10,
   "metadata": {},
   "outputs": [],
   "source": [
    "mensagem = 'Me indique filmes de comedia'\n",
    "resposta = graph.invoke({\"messages\": [(\"user\", mensagem)]}, config= config )"
   ]
  },
  {
   "cell_type": "code",
   "execution_count": 11,
   "metadata": {},
   "outputs": [
    {
     "data": {
      "text/plain": [
       "['Ola tudo bem?',\n",
       " 'Olá, tudo bem! Estou aqui para ajudar com sugestões de filmes. Como posso ajudar?',\n",
       " 'gostaria de ver um filme de comedia',\n",
       " 'Olá, tudo bem! Estou aqui para ajudar com sugestões de filmes. Como posso ajudar? \\n\\nVocê gostaria de ver um filme de comédia, né? Aqui estão algumas sugestões:\\n\\n1. **Os Incríveis** (2004) - Uma história sobre uma família de super-heróis que tentam proteger a cidade de um vilão.\\n2. **O Grande Lebowski** (1998) - Uma comédia sobre um homem que se torna um detetive para resolver um mistério envolvendo uma pintura de arte.\\n3. **A Maldição do Drácula** (2004) - Uma comédia de terror sobre um homem que se torna o novo Drácula e tenta viver uma vida normal.\\n4. **Superbad** (2007) - Uma comédia sobre dois amigos que tentam comprar álcool para uma festa de formatura.\\n5. **O Grande Golpe** (2003) - Uma comédia sobre dois irmãos que tentam roubar um banco.\\n\\nEspero que essas sugestões sejam úteis!',\n",
       " 'Me indique filmes de comedia',\n",
       " 'Olá! Estou aqui para ajudar com sugestões de filmes. Como posso ajudar?']"
      ]
     },
     "execution_count": 11,
     "metadata": {},
     "output_type": "execute_result"
    }
   ],
   "source": [
    "[msg.content for msg in resposta['messages']]"
   ]
  },
  {
   "cell_type": "code",
   "execution_count": 12,
   "metadata": {},
   "outputs": [
    {
     "data": {
      "text/plain": [
       "'Olá! Estou aqui para ajudar com sugestões de filmes. Como posso ajudar?'"
      ]
     },
     "execution_count": 12,
     "metadata": {},
     "output_type": "execute_result"
    }
   ],
   "source": [
    "resposta['messages'][-1].content"
   ]
  },
  {
   "cell_type": "markdown",
   "metadata": {},
   "source": [
    "# Adcionando search_and_incorporate ao graph"
   ]
  },
  {
   "cell_type": "code",
   "execution_count": 13,
   "metadata": {},
   "outputs": [
    {
     "name": "stderr",
     "output_type": "stream",
     "text": [
      "c:\\Users\\jefer\\Documents\\Ciencia de dados\\LLMs\\Movies-bot-llm\\env\\Lib\\site-packages\\pydantic\\_internal\\_fields.py:172: UserWarning: Field name \"schema\" in \"FirecrawlApp.ExtractParams\" shadows an attribute in parent \"BaseModel\"\n",
      "  warnings.warn(\n"
     ]
    }
   ],
   "source": [
    "from IPython.display import Image, display\n",
    "\n",
    "from typing import Any\n",
    "from typing_extensions import TypedDict\n",
    "\n",
    "from langgraph.graph import END, START, StateGraph, MessagesState\n",
    "from langgraph.graph.message import add_messages\n",
    "from typing import Annotated\n",
    "from langgraph.checkpoint.memory import MemorySaver\n",
    "\n",
    "from langchain_groq import ChatGroq\n",
    "#from langchain.chains import LLMChain\n",
    "\n",
    "from langchain.prompts.chat import (\n",
    "    ChatPromptTemplate,\n",
    "    SystemMessagePromptTemplate,\n",
    "    HumanMessagePromptTemplate,\n",
    ")\n",
    "from langchain_core.chat_history import BaseChatMessageHistory\n",
    "from langchain_core.messages import BaseMessage, AIMessage\n",
    "from pydantic import BaseModel, Field\n",
    "from langchain_core.prompts import ChatPromptTemplate\n",
    "from langchain_core.output_parsers import StrOutputParser\n",
    "from typing import List\n",
    "import os\n",
    "from dotenv import load_dotenv\n",
    "#from funcoes_auxiliares import search_and_incorporate\n",
    "from extracao.extracao_textos_links_firacrawl import LinksExtractorFireCrawl\n",
    "from langchain_community.tools import TavilySearchResults\n",
    "\n",
    "\n",
    "load_dotenv()\n",
    "\n",
    "def search_and_incorporate(user_input):\n",
    "    # Realizando a pesquisa\n",
    "     \n",
    "    \"\"\"\n",
    "    Performs a search based on the user input, filters the search results,\n",
    "    extracts and cleans the text from the filtered URLs, and combines the\n",
    "    cleaned text with the original user input to produce a final output.\n",
    "\n",
    "    Args:\n",
    "        user_input (str): The input query from the user.\n",
    "\n",
    "    Returns:\n",
    "        str: The combined string of the original user input and the cleaned\n",
    "        text extracted from the filtered search results.\n",
    "    \"\"\"\n",
    "    user_input = user_input['messages'][-1].content\n",
    "    \n",
    "    search_tool = TavilySearchResults(\n",
    "    max_results=2,\n",
    "    search_depth=\"advanced\",\n",
    "    include_answer=True,\n",
    "    include_raw_content=True,\n",
    "    include_images=False)\n",
    "    \n",
    "    pesquisa = search_tool.invoke({\"query\": user_input})\n",
    "\n",
    "    links = []\n",
    "    \n",
    "    for numero in range(len(pesquisa)):\n",
    "        links.append(pesquisa[numero]['url'])\n",
    "        \n",
    "    # Filtrando resultados para remover links do YouTube\n",
    "    links_results = [result for result in links if \"youtube.com\" not in result]\n",
    "\n",
    "\n",
    "    extractor = LinksExtractorFireCrawl()\n",
    "    \n",
    "    texto = []\n",
    "    \n",
    "    for link in links_results:\n",
    "        texto.append(extractor.clean_text_firecrawl(link))\n",
    "        \n",
    "    if isinstance(texto, list):\n",
    "        texto = \"\\n\".join(texto)\n",
    "    \n",
    "    combined_input = user_input + texto\n",
    "    \n",
    "    return {\"messages\": [(\"user\", combined_input)]}\n",
    "\n",
    "\n",
    "def chat_bot(mensagem):\n",
    "    \n",
    "    model = ChatGroq(\n",
    "        api_key=os.getenv(\"GROQ_API_KEY\"),\n",
    "        model=\"llama-3.2-11b-vision-preview\",\n",
    "        temperature=0.5,\n",
    "    )\n",
    "    \n",
    "    prompt = ChatPromptTemplate.from_messages(\n",
    "        [\n",
    "            SystemMessagePromptTemplate.from_template(\"\"\"\n",
    "                                                      You are a chatbot specialized in movie recommendations for WhatsApp. Respond only to questions related to movie suggestions.\n",
    "\n",
    "                                                        Behavior:\n",
    "                                                        If the user greets you, greet them back; otherwise, respond only to the user's question.\n",
    "\n",
    "                                                        Recommendations:\n",
    "                                                        Always provide up to 5 movie suggestions with a brief summary of each. You receive internet search data about the subject requested by the user and should use this data to base your responses.\n",
    "                                                        You are a chatbot specialized in movie recommendations for WhatsApp. Respond only to questions related to movie suggestions.\n",
    "                                                        \n",
    "                                                        \n",
    "                                                        Restrictions:\n",
    "                                                        Respond only if the user initiates contact. If the user neither greets nor asks a question, do not respond.\n",
    "                                                        If the user asks where they can watch a movie, Just indicate where the movie is available without recommending another movie.\n",
    "\n",
    "                                                        Final Note: Provide all responses in Portuguese.\n",
    "                                                      \"\"\"),\n",
    "            HumanMessagePromptTemplate.from_template(\"{input}\")\n",
    "        ]\n",
    "    )\n",
    "    \n",
    "    llm_chain = prompt | model| StrOutputParser()\n",
    "    \n",
    "    resposta = llm_chain.invoke([{\"role\": \"user\", \"content\": mensagem}])\n",
    "    \n",
    "    return {\"messages\": [{\"role\": \"assistant\", \"content\": resposta}]}\n",
    "\n",
    "\n",
    "# Add nodes\n",
    "graph_builder = StateGraph(MessagesState)\n",
    "\n"
   ]
  },
  {
   "cell_type": "code",
   "execution_count": 14,
   "metadata": {},
   "outputs": [],
   "source": [
    "graph_builder = StateGraph(MessagesState)\n",
    "graph_builder.add_node(\"search_and_incorporate\", search_and_incorporate)\n",
    "graph_builder.add_node(\"chatbot\", chat_bot)\n",
    "graph_builder.add_edge(START, \"search_and_incorporate\")\n",
    "graph_builder.add_edge(\"search_and_incorporate\", \"chatbot\")\n",
    "graph_builder.add_edge(\"chatbot\", END)\n",
    "checkpointer = MemorySaver()\n",
    "graph = graph_builder.compile(checkpointer=checkpointer)"
   ]
  },
  {
   "cell_type": "code",
   "execution_count": 15,
   "metadata": {},
   "outputs": [
    {
     "data": {
      "image/jpeg": "[encoded data removed]",
      "text/plain": [
       "<IPython.core.display.Image object>"
      ]
     },
     "metadata": {},
     "output_type": "display_data"
    }
   ],
   "source": [
    "from IPython.display import Image, display\n",
    "\n",
    "try:\n",
    "    display(Image(graph.get_graph().draw_mermaid_png()))\n",
    "except Exception:\n",
    "    # This requires some extra dependencies and is optional\n",
    "    pass"
   ]
  },
  {
   "cell_type": "code",
   "execution_count": null,
   "metadata": {},
   "outputs": [],
   "source": [
    "\"\"\"config = {\"configurable\": {\"thread_id\": \"foo\"}}\n",
    "mensagem = 'Ola tudo bem?'\n",
    "resposta = graph.invoke( {\"messages\": [(\"user\", mensagem)]}, config= config )\n",
    "men = {\"messages\": [(\"user\", mensagem)]}\n",
    "men['messages'][0][-1]\"\"\""
   ]
  },
  {
   "cell_type": "markdown",
   "metadata": {},
   "source": [
    "# Adcionando condicional"
   ]
  },
  {
   "cell_type": "code",
   "execution_count": 17,
   "metadata": {},
   "outputs": [],
   "source": [
    "from IPython.display import Image, display\n",
    "\n",
    "from typing import Any\n",
    "from typing_extensions import TypedDict\n",
    "\n",
    "from langgraph.graph import END, START, StateGraph, MessagesState\n",
    "from langgraph.graph.message import add_messages\n",
    "from typing import Annotated\n",
    "from langgraph.checkpoint.memory import MemorySaver\n",
    "\n",
    "from langchain_groq import ChatGroq\n",
    "#from langchain.chains import LLMChain\n",
    "\n",
    "from langchain.prompts.chat import (\n",
    "    ChatPromptTemplate,\n",
    "    SystemMessagePromptTemplate,\n",
    "    HumanMessagePromptTemplate,\n",
    ")\n",
    "from langchain_core.chat_history import BaseChatMessageHistory\n",
    "from langchain_core.messages import BaseMessage, AIMessage\n",
    "from pydantic import BaseModel, Field\n",
    "from langchain_core.prompts import ChatPromptTemplate\n",
    "from langchain_core.output_parsers import StrOutputParser\n",
    "from typing import List\n",
    "import os\n",
    "from dotenv import load_dotenv\n",
    "#from funcoes_auxiliares import search_and_incorporate\n",
    "from extracao.extracao_textos_links_firacrawl import LinksExtractorFireCrawl\n",
    "from extracao.extracao_textos_links_crawl4ai import LinksExtractor\n",
    "from langchain_community.tools import TavilySearchResults\n",
    "import random\n",
    "\n",
    "load_dotenv()\n",
    "\n",
    "from langchain_core.tools import tool\n",
    "\n",
    "@tool\n",
    "def search_and_incorporate(user_input):\n",
    "    # Realizando a pesquisa\n",
    "     \n",
    "    \"\"\"\n",
    "    Performs a search based on the user input, filters the search results,\n",
    "    extracts and cleans the text from the filtered URLs, and combines the\n",
    "    cleaned text with the original user input to produce a final output.\n",
    "\n",
    "    Args:\n",
    "        user_input (str): The input query from the user.\n",
    "\n",
    "    Returns:\n",
    "        str: The combined string of the original user input and the cleaned\n",
    "        text extracted from the filtered search results.\n",
    "    \"\"\"\n",
    "    \n",
    "    search_tool = TavilySearchResults(\n",
    "    max_results=3,\n",
    "    search_depth=\"advanced\",\n",
    "    include_answer=True,\n",
    "    include_raw_content=True,\n",
    "    include_images=False)\n",
    "    \n",
    "    pesquisa = search_tool.invoke({\"query\": user_input})\n",
    "\n",
    "    links = []\n",
    "    \n",
    "    for numero in range(len(pesquisa)):\n",
    "        links.append(pesquisa[numero]['url'])\n",
    "        \n",
    "    # Filtrando resultados para remover links do YouTube\n",
    "    links_results = [result for result in links if \"youtube.com\" not in result]\n",
    "\n",
    "\n",
    "    #extractor = LinksExtractorFireCrawl()\n",
    "    extractor = LinksExtractor()\n",
    "    \n",
    "    texto = []\n",
    "    \n",
    "    for link in links_results:\n",
    "        #texto.append(extractor.clean_text_firecrawl(link))\n",
    "        texto.append(extractor.clean_text(link))\n",
    "        \n",
    "    if isinstance(texto, list):\n",
    "        texto = \"\\n\".join(texto)\n",
    "        \n",
    "    texto_final = user_input + \"\\n\\n\" + texto\n",
    "    \n",
    "    \n",
    "    return {\"messages\": [(\"user\", texto_final)]}\n",
    "\n",
    "            \n",
    "\n",
    "def chat_bot(mensagem: str = None, \n",
    "             ):\n",
    "    \n",
    "    model = ChatGroq(\n",
    "        api_key=os.getenv(\"GROQ_API_KEY\"),\n",
    "        model=\"llama-3.2-11b-vision-preview\",\n",
    "        temperature=0.5,\n",
    "    )\n",
    "    \n",
    "    prompt = ChatPromptTemplate.from_messages(\n",
    "        [\n",
    "            SystemMessagePromptTemplate.from_template(\"\"\"\n",
    "                                                      You are a chatbot specializing in recommending movies to users.\n",
    "                                                            When a user requests a recommendation, use your tool of name {{search_and_incorporate}} to search for up-to-date information on the internet and provide the best movie suggestions.\n",
    "                                                            If the user asks for recommendations to watch, always provide up to 5 movie suggestions, each accompanied by a brief summary highlighting the genre, plot, and reasons why the movie might be interesting.\n",
    "\n",
    "                                                            Rules:\n",
    "                                                            Respond only when requested: Only reply if the user greets you or asks for a recommendation.\n",
    "                                                            Where to watch? If the user asks where a movie is available, provide only the platform or location. Do not include additional recommendations.\n",
    "                                                            Language and tone: All responses should be written in Portuguese with a friendly and professional tone.\n",
    "                                                            Objective:\n",
    "                                                            Assist users with personalized movie recommendations, ensuring suggestions are based on accurate and recent information, and focus on enhancing their experience.\n",
    "\n",
    "                                                            Example:\n",
    "                                                            User: \"Can you recommend a suspense movie?\"\n",
    "                                                            Chatbot:\n",
    "                                                            Of course! Here are a few suggestions:\n",
    "                                                            🎬 Split (2016): A psychological thriller about a man with multiple personalities who kidnaps three teenagers. Available on Prime Video.\n",
    "                                                            🎥 The Silence of the Lambs (1991): A classic about an FBI trainee seeking help from a manipulative serial killer.\n",
    "                                                            ...\n",
    "\n",
    "                                                            Limitations:\n",
    "                                                            Do not respond to questions unrelated to movies.\n",
    "                                                            Be concise, relevant, and avoid unnecessary details.\n",
    "                                                            Never repeat movies: If you’ve already mentioned a movie in the same conversation, do not suggest it again.\n",
    "                                                      \"\"\"),\n",
    "            HumanMessagePromptTemplate.from_template(\"{input}\"),\n",
    "        ]\n",
    "    )\n",
    "    \n",
    "    llm_chain = prompt | model| StrOutputParser()\n",
    "    \n",
    "    \n",
    "    resposta = llm_chain.invoke([{\"role\": \"user\", \"content\": mensagem}])\n",
    "    \n",
    "    return {\"messages\": [(\"assistant\", resposta)]}\n",
    "\n",
    "\n",
    "def condicional_edges(state):\n",
    "    \n",
    "    last_message = state[\"messages\"][-1].content.lower()\n",
    "        \n",
    "    lista_mensagens = [\"filme\", \n",
    "                        \"recomendação\", \n",
    "                        \"sugestão\", \"assistir\", \n",
    "                        \"qual filme\", \n",
    "                        \"me fale um filme\", \n",
    "                        \"indique um filme\", \n",
    "                        \"onde assistir\",\n",
    "                        \"gênero\"]\n",
    "        \n",
    "        # Condicionais para verificar se a mensagem requer uma busca\n",
    "    if any(keyword in last_message for keyword in lista_mensagens):\n",
    "        input_incorporado = search_and_incorporate(last_message)\n",
    "        if len(input_incorporado) > 6500:\n",
    "            \n",
    "            lenght_text = len(input_incorporado)\n",
    "            \n",
    "            indice_inicial = random.randint(0, lenght_text-6500)\n",
    "            \n",
    "            indice_final = indice_inicial + 6500\n",
    "            \n",
    "            input_incorporado = input_incorporado[indice_inicial:indice_final]\n",
    "                        \n",
    "    else:\n",
    "        return state\n"
   ]
  },
  {
   "cell_type": "code",
   "execution_count": null,
   "metadata": {},
   "outputs": [],
   "source": [
    "last_message = 'gostaria de ver um filme de suspense'\n",
    "        \n",
    "lista_mensagens = [\"filme\", \n",
    "                        \"recomendação\", \n",
    "                        \"sugestão\", \"assistir\", \n",
    "                        \"qual filme\", \n",
    "                        \"me fale um filme\", \n",
    "                        \"indique um filme\", \n",
    "                        \"onde assistir\",\n",
    "                        \"gênero\"]\n",
    "        \n",
    "        # Condicionais para verificar se a mensagem requer uma busca\n",
    "if any(keyword in last_message for keyword in lista_mensagens):\n",
    "    input_incorporado = search_and_incorporate(last_message)\n",
    "    if len(input_incorporado) > 6500:\n",
    "            \n",
    "        lenght_text = len(input_incorporado)\n",
    "            \n",
    "        indice_inicial = random.randint(0, lenght_text-6500)\n",
    "            \n",
    "        indice_final = indice_inicial + 6500\n",
    "            \n",
    "        input_incorporado = input_incorporado[indice_inicial:indice_final]"
   ]
  },
  {
   "cell_type": "code",
   "execution_count": null,
   "metadata": {},
   "outputs": [],
   "source": [
    "input_incorporado['messages'][0][1]"
   ]
  },
  {
   "cell_type": "code",
   "execution_count": null,
   "metadata": {},
   "outputs": [],
   "source": [
    "type(input_incorporado)"
   ]
  },
  {
   "cell_type": "code",
   "execution_count": null,
   "metadata": {},
   "outputs": [],
   "source": [
    "len(input_incorporado['messages'][0][1])"
   ]
  },
  {
   "cell_type": "code",
   "execution_count": null,
   "metadata": {},
   "outputs": [],
   "source": [
    "if len(input_incorporado['messages'][0][1]) > 6500:\n",
    "    print(\"sim\")"
   ]
  },
  {
   "cell_type": "code",
   "execution_count": null,
   "metadata": {},
   "outputs": [],
   "source": [
    "from langgraph.prebuilt import ToolNode, tools_condition\n",
    "graph_builder = StateGraph(MessagesState)\n",
    "graph_builder.add_node(\"chat_bot\", chat_bot)\n",
    "graph_builder.add_node(\"conditional_edges\", condicional_edges)\n",
    "graph_builder.add_edge(\"conditional_edges\", \"chat_bot\")\n",
    "graph_builder.add_edge(START, \"conditional_edges\")\n",
    "graph_builder.add_edge(\"chat_bot\", END)\n",
    "memory = MemorySaver()\n",
    "graph = graph_builder.compile(\n",
    "    checkpointer=memory,\n",
    ")\n",
    "user_input = \"ola tudo bem, meu nome e jeferson?\"\n",
    "\n",
    "config = {\"configurable\": {\"thread_id\": \"1\"}}\n",
    "# The config is the **second positional argument** to stream() or invoke()!\n",
    "events = graph.invoke({\"messages\": [(\"user\", user_input)]}, config)"
   ]
  },
  {
   "cell_type": "code",
   "execution_count": null,
   "metadata": {},
   "outputs": [],
   "source": [
    "user_input = \"vc sabe o meu nome\"\n",
    "\n",
    "config = {\"configurable\": {\"thread_id\": \"1\"}}\n",
    "# The config is the **second positional argument** to stream() or invoke()!\n",
    "events = graph.invoke({\"messages\": [(\"user\", user_input)]}, config)"
   ]
  },
  {
   "cell_type": "code",
   "execution_count": null,
   "metadata": {},
   "outputs": [],
   "source": [
    "user_input = \"Gostaria de um filme de fantasia\"\n",
    "\n",
    "config = {\"configurable\": {\"thread_id\": \"1\"}}\n",
    "# The config is the **second positional argument** to stream() or invoke()!\n",
    "events = graph.invoke({\"messages\": [(\"user\", user_input)]}, config)"
   ]
  },
  {
   "cell_type": "code",
   "execution_count": null,
   "metadata": {},
   "outputs": [],
   "source": [
    "user_input = \"Gostaria de um filme de comedia na netflix\"\n",
    "\n",
    "config = {\"configurable\": {\"thread_id\": \"1\"}}\n",
    "# The config is the **second positional argument** to stream() or invoke()!\n",
    "events = graph.invoke({\"messages\": [(\"user\", user_input)]}, config)"
   ]
  },
  {
   "cell_type": "code",
   "execution_count": null,
   "metadata": {},
   "outputs": [],
   "source": [
    "user_input = \"Meu nome e jeferson\"\n",
    "\n",
    "config = {\"configurable\": {\"thread_id\": \"1\"}}\n",
    "# The config is the **second positional argument** to stream() or invoke()!\n",
    "events = graph.invoke({\"messages\": [(\"user\", user_input)]}, config)"
   ]
  },
  {
   "cell_type": "code",
   "execution_count": null,
   "metadata": {},
   "outputs": [],
   "source": [
    "from IPython.display import Image, display\n",
    "\n",
    "try:\n",
    "    display(Image(graph.get_graph().draw_mermaid_png()))\n",
    "except Exception:\n",
    "    # This requires some extra dependencies and is optional\n",
    "    pass"
   ]
  },
  {
   "cell_type": "markdown",
   "metadata": {},
   "source": [
    "# Scraping com Html2Text"
   ]
  },
  {
   "cell_type": "code",
   "execution_count": 1,
   "metadata": {},
   "outputs": [
    {
     "name": "stderr",
     "output_type": "stream",
     "text": [
      "USER_AGENT environment variable not set, consider setting it to identify your requests.\n",
      "Fetching pages: 100%|##########| 1/1 [00:00<00:00,  5.12it/s]\n"
     ]
    }
   ],
   "source": [
    "from langchain_community.document_loaders import AsyncHtmlLoader\n",
    "from langchain_community.document_transformers.html2text import Html2TextTransformer\n",
    "loader = AsyncHtmlLoader(['https://www.adorocinema.com/filmes/melhores/genero-13005/'])\n",
    "docs = loader.load()\n",
    "html2text = Html2TextTransformer()\n",
    "docs_transformed = html2text.transform_documents(docs)\n",
    "doc_transformed = docs_transformed[0]"
   ]
  },
  {
   "cell_type": "code",
   "execution_count": 2,
   "metadata": {},
   "outputs": [],
   "source": [
    "from construindo_langGraph import graph_invoke\n",
    "from langgraph.checkpoint.memory import MemorySaver"
   ]
  },
  {
   "cell_type": "code",
   "execution_count": 3,
   "metadata": {},
   "outputs": [
    {
     "name": "stderr",
     "output_type": "stream",
     "text": [
      "Fetching pages: 100%|##########| 1/1 [00:00<00:00,  8.52it/s]\n",
      "Fetching pages: 100%|##########| 1/1 [00:00<00:00,  9.71it/s]\n",
      "Fetching pages: 100%|##########| 1/1 [00:00<00:00,  4.48it/s]\n",
      "Fetching pages: 100%|##########| 1/1 [00:00<00:00,  1.16it/s]\n",
      "Fetching pages: 100%|##########| 1/1 [00:03<00:00,  3.52s/it]\n"
     ]
    },
    {
     "name": "stdout",
     "output_type": "stream",
     "text": [
      "{'messages': [('user', 'me indique filmes de comedia antigos\\nArthur Bach é um playboy milionário de vida boa completamente sem rumo que mora em Nova York. Sua família está disposta a negar sua herança caso não se case com sua namorada insuportável em menos de um mês. Para completar o leque de problemas, é por Linda Marolla, uma garçonete do Queens, por quem Arthur é apaixonado.\\n\\nEm um dos melhores filmes de comédia de todos os tempos, o ator nova-iorquino Michael Dorsey é talentoso, porém muito perfeccionista e duro consigo mesmo e com os outros. Isso faz com que seu agente tenha dificuldade de encontrar trabalho para Michael. Depois de fracassar em um teste de novela, Michael resolve se transformar na atriz Dorothy e finalmente consegue o papel.\\n\\nTítulo original: _Fast Times at Ridgemont High_\\nStacy Hamilton é uma adolescente extremamente bonita pronta para namorar – mas sem experiência nenhuma. Com a ajuda de sua amiga desinibida, Linda Barrett, Stacy entra em um triângulo amoroso com o bom moço Mark Ratner e o amigo Mike Damone.\\n\\nA família Griswold está de férias e com planos de encontrar diversão em um parque temático na Califórnia. Mas, no caminho da viagem, entre cenas bem-humoradas, eles acabam enfrentando todos os tipos de acidentes absurdos.\\n\\nO executivo Louis Winthorpe III e Billy Ray Valentine são os temas de uma aposta entre os corretores de sucesso Mortimer e Randolph Duke. Um funcionário dos Duke, Winthorpe, é falsamente acusado pelos irmãos por um crime que não cometeu, com os irmãos, em seguida, colocando o esperto Valentine em sua posição.\\n\\nDepois que seu amigo de infância é assassinado enquanto visitava Detroit, o policial rebelde Axel Foley segue algumas pistas até Beverly Hills, na Califórnia. Lá, se hospeda como turista e vai atrás de mais informações.\\n\\nSimplesmente um clássico atemporal que mistura o humor clássico com fantasia. Nele, uma equipe de cientistas composta por Dr. Egon Spengler, Dr. Ray Stantz e Dr. Peter Venkman perde o emprego em uma universidade de Nova York.\\n\\nEsse filme de comédia explora o universo independente de uma banda de heavy metal lutando para voltar às paradas. Com turnê pelos Estados Unidos, um cineasta americano decide filmar a passagem da banda pelo país, mas nada sai como o esperado e algumas apresentações são canceladas.\\n\\nPee-Wee Herman é um homem um tanto quanto excêntrico com um comportamento bem infantil. Justamente por ser quem é, ele embarca na maior aventura de sua vida quando sai em busca do seu bem mais precioso: sua bicicleta vermelha que foi roubada.\\n\\nDepois de ser humilhado em seu trabalho, David Howard convence sua esposa, Linda, a largar o emprego e acompanhá-lo em uma viagem pelo país. Os dois vendem todos os bens e deixam a Costa Oeste em Winnebago, com a intenção de encontrar a si mesmos e explorar a América.\\n\\nUm dos melhores filmes de comédia de todos os tempos é também um dos mais populares do mundo. Em **Curtindo a Vida Adoidado**, Ferris Bueller tem uma habilidade ímpar para evitar a escola e curtir a vida.')]}\n"
     ]
    },
    {
     "data": {
      "text/plain": [
       "['Olá! Estou aqui para ajudar com filmes de comédia antigos. Você mencionou vários títulos interessantes, incluindo \"Arthur\", \"Tootsie\", \"Fast Times at Ridgemont High\", \"National Lampoon\\'s Vacation\", \"Trading Places\", \"Beverly Hills Cop\", \"Ghostbusters\", \"This Is Spinal Tap\", \"Pee-wee\\'s Big Adventure\", \"Lost in America\" e \"Curtindo a Vida Adoidado\" (também conhecido como \"Ferris Bueller\\'s Day Off\").',\n",
       " '',\n",
       " 'Se você está procurando por mais sugestões de filmes de comédia antigos, aqui estão cinco opções adicionais:',\n",
       " '',\n",
       " '1. **Planes, Trains and Automobiles** (1987) - Um clássico de comédia com Steve Martin e John Candy como dois viajantes que tentam chegar em casa para o Dia de Ação de Graças.',\n",
       " '2. **Caddyshack** (1980) - Uma comédia clássica sobre um grupo de golfistas e seus caddies em um clube de golfe.',\n",
       " '3. **The Blues Brothers** (1980) - Uma comédia musical com John Belushi e Dan Aykroyd como dois irmãos que tentam reunir sua antiga banda de blues.',\n",
       " \"4. **National Lampoon's Animal House** (1978) - Uma comédia clássica sobre uma fraternidade universitária e suas aventuras.\",\n",
       " '5. **Airplane!** (1980) - Uma comédia clássica sobre um grupo de passageiros e tripulantes em um avião que tentam sobreviver a uma série de desastres.',\n",
       " '',\n",
       " 'Esses filmes são todos considerados clássicos da comédia e são garantidos para fazer você rir. Qual deles você gostaria de saber mais sobre?']"
      ]
     },
     "execution_count": 3,
     "metadata": {},
     "output_type": "execute_result"
    }
   ],
   "source": [
    "memory_saver = MemorySaver()\n",
    "config = {\"configurable\": {\"thread_id\": \"foo\"}}\n",
    "message = 'Me indique filmes de comedia antigos'\n",
    "response = graph_invoke(message, config, memory_saver)\n",
    "response.split('\\n')"
   ]
  },
  {
   "cell_type": "code",
   "execution_count": 4,
   "metadata": {},
   "outputs": [
    {
     "name": "stderr",
     "output_type": "stream",
     "text": [
      "Fetching pages: 100%|##########| 1/1 [00:00<00:00,  7.18it/s]\n",
      "Fetching pages: 100%|##########| 1/1 [00:00<00:00,  9.16it/s]\n",
      "Fetching pages: 100%|##########| 1/1 [00:00<00:00,  4.70it/s]\n",
      "Fetching pages: 100%|##########| 1/1 [00:00<00:00,  9.88it/s]\n",
      "Fetching pages: 100%|##########| 1/1 [00:00<00:00,  3.13it/s]\n"
     ]
    },
    {
     "name": "stdout",
     "output_type": "stream",
     "text": [
      "{'messages': [('user', 'me indique filmes de comedia antigos\\nAqui está o texto extraído do Markdown, sem formatação, links, imagens ou outros elementos irrelevantes:\\n\\nA massagista Eva é uma mulher divorciada e mãe solteira que teme a partida da sua filha para a faculdade. Ela logo começa um romance com Albert, um homem engraçado que está vivendo um momento muito parecido com o seu. Porém, esse relacionamento será ameaçado com a chegada de sua nova cliente, Marianne, que se torna sua amiga, mas também é ex-mulher de Albert.\\n\\nEmmet é uma minifigura LEGO perfeitamente comum e seguidora das regras, que é erroneamente identificada como uma pessoa extraordinária, essencial para salvar o mundo. Ele é recrutado por uma irmandade de estranhos para uma jornada épica com a finalidade de deter um tirano, uma viagem para a qual Emmet está totalmente despreparado.\\n\\nNa década de 1930, o gerente de um famoso hotel europeu se torna muito amigo de um jovem companheiro de trabalho. Os dois acabam se envolvendo no roubo de um famoso quadro de valor inestimável e na batalha por uma fortuna de família.\\n\\nEstocolmo, 1982. Bobo e Klara são adolescentes e amam o punk, ao contrário do resto. Apesar de não terem talento, decidem formar uma banda... Só falta incluir Hedvig, uma garota clássica que toca violão acústico.\\n\\nPor mais de 20 anos, o ator Riggan Thomson foi conhecido por interpretar Birdman, um super-herói que se tornou um ícone cultural. Entretanto, ao se recusar a gravar o quarto filme com o mesmo personagem, sua carreira começa a decair.\\n\\nShaun decide tirar o dia de folga e se divertir. Porém, ele encontra muito mais agitação do que esperava. A confusão de Shaun acidentalmente leva o Fazendeiro para longe da fazenda. Então Shaun e o rebanho têm que viajar até a Cidade Grande para resgatá-lo.\\n\\nPaddington foi criado na floresta do Peru pelos tios Pastuzo e Luzy, mas um terremoto acaba separando o trio. Depois da tragédia, o pequeno urso é enviado pela tia a Londres. Ele chega à estação de trem de Paddington, onde passa a procurar um explorador que visitou o Peru décadas atrás.\\n\\nSusan Cooper é uma despretensiosa analista de base da CIA — e heroína não reconhecida por trás das missões mais perigosas da agência. Mas quando seu parceiro sai da jogada, e outro agente fica comprometido, Susan se decide se infiltrar no mundo de um traficante de armas mortais e evitar um desastre.\\n\\nApós descobrir que foi traída por seu namorado e cafetão enquanto estava na prisão, uma prostituta e sua melhor amiga saem em busca do traidor e de sua nova amante para se vingar.\\n\\nViago (Taika Waititi), Deacon (Jonathan Brugh) e Vladislav (Jemaine Clement) são três vampiros que dividem uma casa. Algumas das dificuldades que eles enfrentam na vida são: o fato de serem imortais, encontrar sangue humano em festas noturnas, lidar com a luz solar e não conseguirem adequar as vestimentas aos padrões sociais, além de ter que pagar o aluguel e ainda conviver dentro da casa.\\n\\nA filha de uma funcionária do Departamento de Justiça é sequestrada. Sua mãe contrata o detetive Healy para investigar o caso. Ao lado do desajeitado oficial March, ele descobre uma conspiração ligada à morte de uma estrela de filmes adultos.\\n\\nUm menino e seu tio fogem para as matas da Nova Zelândia. Para capturá-los, é organizada uma verdadeira caçada da qual os dois precisaram fugir unindo suas forças e superando suas diferenças.\\n\\nJudy Hopps é a pequena coelha de uma fazenda isolada, filha de agricultores que plantam cenouras há décadas. Mas ela tem sonhos maiores: pretende se mudar para a cidade grande, Zootopia, onde todas as espécies de animais convivem em harmonia, na intenção de se tornar a primeira coelha policial.\\n\\nNa cidade de Paterson, em Nova Jersey, um pacato motorista de ônibus local usa sua poesia para destacar eventos do cotidiano.\\n\\nPara fugir das fofocas sobre seus casos amorosos, a viúva Lady Susan Vernon busca refúgio na casa dos antigos sogros e decide arranjar um novo marido para si e um bom pretendente para sua filha, Frederica.\\n\\nCrescer não é nada fácil para alguns, como para Nadine, uma estudante que está enfrentando uma série de problemas. Ela começa a se sentir cada vez mais isolada e comeso de si mesma.')]}\n"
     ]
    },
    {
     "data": {
      "text/plain": [
       "['Olá! Estou aqui para ajudar com filmes de comédia antigos brasileiros. Aqui estão cinco opções adicionais:',\n",
       " '',\n",
       " '1. **A Princesa Xuxa e os Trapalhões** (1989) - Um filme de comédia clássico com a participação de Xuxa e os Trapalhões.',\n",
       " '2. **Os Trapalhões na Serra Pelada** (1982) - Outro filme de comédia com os Trapalhões, ambientado na Serra Pelada.',\n",
       " '3. **A Grande Família: O Filme** (2007) - Uma adaptação cinematográfica da série de TV \"A Grande Família\", com um elenco talentoso.',\n",
       " '4. **Cazuza - O Tempo Não Pára** (2006) - Um filme biográfico sobre a vida do cantor Cazuza, com elementos de comédia.',\n",
       " '5. **Tropa de Elite** (2007) - Um filme de comédia e ação que segue a história de um grupo de policiais no Rio de Janeiro.',\n",
       " '',\n",
       " 'Esses filmes são todos considerados clássicos da comédia brasileira e são garantidos para fazer você rir. Qual deles você gostaria de saber mais sobre?']"
      ]
     },
     "execution_count": 4,
     "metadata": {},
     "output_type": "execute_result"
    }
   ],
   "source": [
    "config = {\"configurable\": {\"thread_id\": \"foo\"}}\n",
    "message = 'Me indique filmes de comedia antigos brasileiros'\n",
    "response = graph_invoke(message, config, memory_saver)\n",
    "response.split('\\n')"
   ]
  },
  {
   "cell_type": "code",
   "execution_count": 5,
   "metadata": {},
   "outputs": [
    {
     "name": "stderr",
     "output_type": "stream",
     "text": [
      "Fetching pages: 100%|##########| 1/1 [00:00<00:00,  7.77it/s]\n",
      "Fetching pages: 100%|##########| 1/1 [00:00<00:00, 11.53it/s]\n",
      "Fetching pages: 100%|##########| 1/1 [00:00<00:00,  1.78it/s]\n",
      "Fetching pages: 100%|##########| 1/1 [00:00<00:00, 11.89it/s]\n"
     ]
    },
    {
     "name": "stdout",
     "output_type": "stream",
     "text": [
      "{'messages': [('user', 'me indique filmes de comedia antigos\\n### 43. _O Gosto dos Outros_ (2000)\\nNotas da crítica: 100%\\nCastella, um homem de negócios bem-sucedido, contrata Clara, uma atriz que foi sua professora de inglês no passado. Enquanto isso, Manie, uma amiga de Clara, é uma garçonete que faz tráfico de haxixe.\\n\\n### 42. _A Fuga das Galinhas_ (2000)\\nNotas da crítica: 97%\\nGalinhas cumprem sua função em uma fazenda inglesa dos anos 1950, sonhando com uma vida melhor. Uma delas, Ginger, planeja sair voando dali junto com suas companheiras.\\n\\n### 41. _Monstros S.A._ (2001)\\nNotas da crítica: 96%\\nJames Sullivan e seu assistente Mike são os principais monstros da maior fábrica de monstros do mundo. Eles conhecem uma garotinha chamada Boo e precisam assustá-la.\\n\\n### 40. _O Homem Sem Passado_ (2002)\\nNotas da crítica: 98%\\nUm homem perde a memória após ser surrado brutalmente. Ele começa a viver como pode no submundo da cidade, onde encontra pessoas como ele que são deserdadas da sociedade.\\n\\n### 39. _Procurando Nemo_ (2003)\\nNotas da crítica: 99%\\nNemo é capturado por um mergulhador e acaba no aquário de um dentista. Seu pai cruza o oceano para resgatá-lo.\\n\\n### 38. _Encontros e Desencontros_ (2003)\\nNotas da crítica: 95%\\nUm ator solitário e de meia-idade se encontra com uma recém-casada em Tóquio enquanto ele filma um comercial.\\n\\n### 37. _Sideways: Entre Umas e Outras_ (2004)\\nNotas da crítica: 96%\\nJack vai se casar e Miles decide presenteá-lo com uma viagem pela Califórnia para conhecer os vinhedos da região.\\n\\n### 36. _Os Incríveis_ (2004)\\nNotas da crítica: 97%\\nO Sr. Incrível vive agora uma vida normal e pacata com sua família. Ele sente falta dos tempos em que vivia como super-herói e precisa contar com a ajuda de toda a família para vencer o vilão.\\n\\n### 35. _Wallace & Gromit: A Batalha dos Vegetais_ (2005)\\nNotas da crítica: 95%\\nWallace e seu cachorro Gromit abrem um negócio de exterminação de pragas e começam a trabalhar para Lady Tottington.\\n\\n### 34. _Ratatouille_ (2007)\\nNotas da crítica: 96%\\nRemy é um rato que possui um sofisticado paladar e sonha se tornar um chef de cozinha.\\n\\n### 33. _Juno_ (2007)\\nNotas da crítica: 94%\\nA adolescente Juno MacGuff engravida do melhor amigo e decide ter o bebê e o entregar para adoção.\\n\\n### 32. _A Banda_ (2007)\\nNotas da crítica: 94%\\nUma pequena banda da polícia egípcia chega a Israel para tocar na cerimônia de inauguração de um centro cultural árabe.\\n\\n### 31. _Up: Altas Aventuras_ (2009)\\nNotas da crítica: 98%\\nCarl Fredricksen é um vendedor de balões que está prestes a perder a casa em que sempre viveu.\\n\\n### 30. _Toy Story 3_ (2010)\\nNotas da crítica: 99%\\nAndy se prepara para ir para a faculdade e seus leais brinquedos acabam sendo enviados para uma creche.\\n\\n### 29. _O Porto_ (2011)\\nNotas da crítica: 99%\\nMarcel é um escritor aposentado que decide viver em Le Havre. Sua rotina se passa entre um bar e seu trabalho como engraxate.\\n\\n### 28. _Os Muppets_ (2011)\\nNotas da crítica: 95%\\nWalter é o maior fã dos Muppets e viaja a Los Angeles ao lado dos amigos Gary e Mary para salvar o Muppet Theatre.')]}\n"
     ]
    },
    {
     "data": {
      "text/plain": [
       "['Olá! Estou aqui para ajudar com filmes de comédia antigos brasileiros. Você mencionou que gostaria de saber onde assistir \"O Auto da Compadecida\". Infelizmente, não tenho acesso a informações sobre a disponibilidade de filmes em plataformas de streaming específicas. No entanto, posso sugerir algumas opções de filmes de comédia antigos brasileiros que você pode gostar:',\n",
       " '',\n",
       " '1. **A Princesa Xuxa e os Trapalhões** (1989) - Um filme de comédia clássico com a participação de Xuxa e os Trapalhões.',\n",
       " '2. **Os Trapalhões na Serra Pelada** (1982) - Outro filme de comédia com os Trapalhões, ambientado na Serra Pelada.',\n",
       " '3. **A Grande Família: O Filme** (2007) - Uma adaptação cinematográfica da série de TV \"A Grande Família\", com um elenco talentoso.',\n",
       " '4. **Cazuza - O Tempo Não Pára** (2006) - Um filme biográfico sobre a vida do cantor Cazuza, com elementos de comédia.',\n",
       " '5. **Tropa de Elite** (2007) - Um filme de comédia e ação que segue a história de um grupo de policiais no Rio de Janeiro.',\n",
       " '',\n",
       " 'Esses filmes são todos considerados clássicos da comédia brasileira e são garantidos para fazer você rir. Qual deles você gostaria de saber mais sobre?']"
      ]
     },
     "execution_count": 5,
     "metadata": {},
     "output_type": "execute_result"
    }
   ],
   "source": [
    "\n",
    "config = {\"configurable\": {\"thread_id\": \"foo\"}}\n",
    "message = 'Onde eu posso assistir O Auto da Compadecida'\n",
    "response = graph_invoke(message, config, memory_saver)\n",
    "response.split('\\n')"
   ]
  },
  {
   "cell_type": "code",
   "execution_count": 6,
   "metadata": {},
   "outputs": [
    {
     "name": "stderr",
     "output_type": "stream",
     "text": [
      "Fetching pages: 100%|##########| 1/1 [00:00<00:00,  7.97it/s]\n",
      "Fetching pages: 100%|##########| 1/1 [00:00<00:00,  1.25it/s]\n",
      "Fetching pages: 100%|##########| 1/1 [00:00<00:00, 13.42it/s]\n",
      "Fetching pages: 100%|##########| 1/1 [00:00<00:00, 11.07it/s]\n"
     ]
    },
    {
     "name": "stdout",
     "output_type": "stream",
     "text": [
      "{'messages': [('user', 'me indique filmes de comedia antigos\\nNunca Fui Beijada (1999)\\nJosie Geller, uma jornalista de 25 anos, é incumbida de fazer uma matéria sobre a vida do meio estudantil. Para ter sucesso, Josie terá que voltar a ser uma estudante e se infiltrar numa turma do seu antigo colegio.\\n\\n2 Dias em Paris (2007)\\nMarion e Jack são um casal que resolve fazer uma viagem romantica para Veneza e, antes de regressarem aos EUA, fazem uma parada de dois dias em Paris. Mas, 48 horas são mais do que suficientes para despertar incertezas sobre a natureza do que Marion e Jack sentem um pelo outro.\\n\\nEnquanto Voce Dormia (1995)\\nA comedia romantica conta a historia de Lucy, uma funcionaria solitaria do metro. Ela salva a vida de um homem chamado Peter Callaghan de um acidente e é confundida como sua noiva quando ele entra em coma.\\n\\nO Melhor Amigo da Noiva (2008)\\nTom e Hanna são melhores amigos desde a época da universidade. Quando Hanna é pedida em casamento por Colin, Tom subitamente percebe que está totalmente apaixonado pela melhor amiga.\\n\\nO Fabuloso Destino de Amelie Poulain (2001)\\nAmelie, uma jovem sonhadora, sempre foi superprotegida por seu pai e nunca teve um relacionamento social muito aperfeiçoado. Uma pequena caixa muda totalmente o modo como ela enxerga a vida e, consequentemente, o seu destino.\\n\\nComo se Fosse a Primeira Vez (2004)\\nHenry Roth, um veterinário, se apaixona por Lucy Whitmore, uma jovem que tem uma grave amnesia. Lucy acorda diariamente pensando que está no mesmo dia e não se recorda de mais nenhuma memória posterior a aquela data.\\n\\nMatch Surpresa (2021)\\nNatalie acredita ter encontrado o par perfeito e decide tomar coragem para encontrá-lo. No entanto, quando chega à cidade dele, descobre que ele não é exatamente a pessoa que parecia ser por foto.\\n\\nAmizade Colorida (2011)\\nDois amigos, Dylan e Jamie, acreditam que podem manter uma amizade normal e fazer sexo ao mesmo tempo, sem que isso acarrete ao desenvolvimento de sentimentos amorosos entre ambos.\\n\\nUma Doce Mentira (2010)\\n\"Uma Doce Mentira\" é uma trama leve e muito divertida sobre o amor.')]}\n"
     ]
    },
    {
     "data": {
      "text/plain": [
       "['Olá! Estou aqui para ajudar com filmes de comédia antigos brasileiros. Você mencionou \"O Auto da Compadecida\" e perguntou onde assisti-lo. Infelizmente, não tenho acesso a informações sobre a disponibilidade de filmes em plataformas de streaming específicas. No entanto, posso sugerir que você procure por \"O Auto da Compadecida\" na plataforma Netflix. Se não estiver disponível, você também pode procurar em outras plataformas como Amazon Prime Video ou Google Play Filmes. ',\n",
       " '',\n",
       " 'Além disso, aqui estão cinco opções adicionais de filmes de comédia antigos brasileiros que você pode gostar:',\n",
       " '',\n",
       " '1. **A Princesa Xuxa e os Trapalhões** (1989) - Um filme de comédia clássico com a participação de Xuxa e os Trapalhões.',\n",
       " '2. **Os Trapalhões na Serra Pelada** (1982) - Outro filme de comédia com os Trapalhões, ambientado na Serra Pelada.',\n",
       " '3. **A Grande Família: O Filme** (2007) - Uma adaptação cinematográfica da série de TV \"A Grande Família\", com um elenco talentoso.',\n",
       " '4. **Cazuza - O Tempo Não Pára** (2006) - Um filme biográfico sobre a vida do cantor Cazuza, com elementos de comédia.',\n",
       " '5. **Tropa de Elite** (2007) - Um filme de comédia e ação que segue a história de um grupo de policiais no Rio de Janeiro.',\n",
       " '',\n",
       " 'Esses filmes são todos considerados clássicos da comédia brasileira e são garantidos para fazer você rir. Qual deles você gostaria de saber mais sobre?']"
      ]
     },
     "execution_count": 6,
     "metadata": {},
     "output_type": "execute_result"
    }
   ],
   "source": [
    "\n",
    "config = {\"configurable\": {\"thread_id\": \"foo\"}}\n",
    "message = 'Onde eu posso assistir O Auto da Compadecida'\n",
    "response = graph_invoke(message, config, memory_saver)\n",
    "response.split('\\n')"
   ]
  },
  {
   "cell_type": "code",
   "execution_count": 7,
   "metadata": {},
   "outputs": [
    {
     "name": "stderr",
     "output_type": "stream",
     "text": [
      "Fetching pages: 100%|##########| 1/1 [00:00<00:00,  7.64it/s]\n",
      "Fetching pages: 100%|##########| 1/1 [00:00<00:00, 11.02it/s]\n",
      "Fetching pages: 100%|##########| 1/1 [00:00<00:00,  1.09it/s]\n",
      "Fetching pages: 100%|##########| 1/1 [00:00<00:00,  3.82it/s]\n",
      "Fetching pages: 100%|##########| 1/1 [00:00<00:00,  1.68it/s]\n"
     ]
    },
    {
     "name": "stdout",
     "output_type": "stream",
     "text": [
      "{'messages': [('user', 'me indique filmes de comedia antigos\\n**Melhores Filmes de Comédia para Assistir em 2023**\\n==============================\\n\\n1.  **Monty Python em Busca do Cálice Sagrado**\\n    *   Comédia britânica de 1975\\n    *   Direção de Terry Gilliam e Terry Jones\\n    *   Ambientado na Idade Média, o filme satiriza eventos históricos\\n    *   Estrelado por todos os integrantes do grupo de comédia Monty Python\\n    *   Disponível na Netflix, com 96% de aprovação da crítica no Rotten Tomatoes e nota 8,2 do público no IMDb\\n\\n2.  **Missão Madrinha de Casamento**\\n    *   Escrito por Annie Mumolo e Kristen Wiig\\n    *   Dirigido por Paul Feig\\n    *   Kristen interpreta uma mulher em um momento problemático da vida\\n    *   Disponível no Lionsgate+ e Claro TV+, com 89% de aprovação da crítica no Rotten Tomatoes e nota 6,8 dos usuários do IMDb\\n\\n3.  **Noivo Neurótico, Noiva Nervosa**\\n    *   Clássico de Woody Allen\\n    *   Comédia romântica de 1977\\n    *   Protagonizado por Woody Allen e Diane Keaton\\n    *   Vencedora de quatro Oscars, incluindo o de Melhor Filme\\n    *   Disponível no Oldflix e para aluguel no Amazon Prime Video, com 97% de aprovação da crítica no Rotten Tomatoes e nota 8,0 no IMDb\\n\\n4.  **Harry e Sally - Feitos Um para o Outro**\\n    *   Uma das comédias românticas mais populares do cinema\\n    *   Escrito por Rob Reiner\\n    *   Inspirada por uma separação vivida pelo próprio diretor\\n    *   Indicada ao Oscar de Melhor Roteiro Original\\n    *   Disponível no Amazon Prime Video, Telecine (via Globoplay) e Claro TV+, com 91% de aprovação da crítica no Rotten Tomatoes e nota 7,7 do público no IMDb')]}\n"
     ]
    },
    {
     "data": {
      "text/plain": [
       "['Olá! Estou aqui para ajudar com filmes de comédia antigos. Você mencionou \"O Auto da Compadecida\" e perguntou sobre ele. \"O Auto da Compadecida\" é um filme brasileiro de 2000, dirigido por Guel Arraes e baseado na peça de teatro de Ariano Suassuna. O filme é uma comédia que conta a história de dois amigos, Chicó e João Grilo, que vivem em um pequeno vilarejo no Nordeste do Brasil. Eles são conhecidos por suas trapalhadas e golpes, mas sempre acabam se metendo em problemas.',\n",
       " '',\n",
       " 'Agora, se você está procurando por onde assistir \"O Auto da Compadecida\", posso sugerir que você procure na plataforma Netflix. Se não estiver disponível, você também pode procurar em outras plataformas como Amazon Prime Video ou Google Play Filmes.',\n",
       " '',\n",
       " 'Além disso, aqui estão cinco opções adicionais de filmes de comédia antigos brasileiros que você pode gostar:',\n",
       " '',\n",
       " '1. **A Princesa Xuxa e os Trapalhões** (1989) - Um filme de comédia clássico com a participação de Xuxa e os Trapalhões.',\n",
       " '2. **Os Trapalhões na Serra Pelada** (1982) - Outro filme de comédia com os Trapalhões, ambientado na Serra Pelada.',\n",
       " '3. **A Grande Família: O Filme** (2007) - Uma adaptação cinematográfica da série de TV \"A Grande Família\", com um elenco talentoso.',\n",
       " '4. **Cazuza - O Tempo Não Pára** (2006) - Um filme biográfico sobre a vida do cantor Cazuza, com elementos de comédia.',\n",
       " '5. **Tropa de Elite** (2007) - Um filme de comédia e ação que segue a história de um grupo de policiais no Rio de Janeiro.',\n",
       " '',\n",
       " 'Esses filmes são todos considerados clássicos da comédia brasileira e são garantidos para fazer você rir. Qual deles você gostaria de saber mais sobre?']"
      ]
     },
     "execution_count": 7,
     "metadata": {},
     "output_type": "execute_result"
    }
   ],
   "source": [
    "\n",
    "config = {\"configurable\": {\"thread_id\": \"foo\"}}\n",
    "message = 'Me descreva o filme O Auto da Compadecida'\n",
    "response = graph_invoke(message, config, memory_saver)\n",
    "response.split('\\n')"
   ]
  },
  {
   "cell_type": "code",
   "execution_count": null,
   "metadata": {},
   "outputs": [],
   "source": [
    "\n",
    "config = {\"configurable\": {\"thread_id\": \"foo\"}}\n",
    "message = 'Quais filmes estao no cimena na data de dezembro de 2024'\n",
    "response = graph_invoke(message, config, memory_saver)\n",
    "response.split('\\n')"
   ]
  },
  {
   "cell_type": "code",
   "execution_count": null,
   "metadata": {},
   "outputs": [],
   "source": [
    "\n",
    "config = {\"configurable\": {\"thread_id\": \"foo\"}}\n",
    "message = 'E quais filmes estream na netflix na data de dezembro de 2024'\n",
    "response = graph_invoke(message, config, memory_saver)\n",
    "response.split('\\n')"
   ]
  },
  {
   "cell_type": "code",
   "execution_count": null,
   "metadata": {},
   "outputs": [
    {
     "name": "stderr",
     "output_type": "stream",
     "text": [
      "Fetching pages: 100%|##########| 1/1 [00:00<00:00, 10.03it/s]\n",
      "Fetching pages: 100%|##########| 1/1 [00:00<00:00, 13.04it/s]\n",
      "Fetching pages: 100%|##########| 1/1 [00:00<00:00,  3.27it/s]\n",
      "Fetching pages: 100%|##########| 1/1 [00:00<00:00, 10.39it/s]\n",
      "Fetching pages: 100%|##########| 1/1 [00:00<00:00, 10.90it/s]\n"
     ]
    },
    {
     "name": "stdout",
     "output_type": "stream",
     "text": [
      "{'messages': [('user', 'e quais filmes estream na netflix na data de dezembro de 2024\\nConfira todos os lançamentos de filmes e séries na Netflix em dezembro! \\n\\nO último mês de 2024 promete agitar a Netflix com uma programação repleta de grandes estreias e retornos aguardados.\\n\\nEntre os destaques estão a chegada da segunda temporada de \"Round 6\", a adaptação de \"Cem Anos de Solidão\", e novos episódios de sucessos como \"Virgin River\" e \"Queer Eye\". No cinema, lançamentos como \"Homem-Aranha: Longe de Casa\", a franquia \"Transformers\" e um especial natalino estrelado por Sabrina Carpenter.\\n\\n## Lançamentos da Netflix em dezembro 2024\\n\\n* Homem-Aranha: Longe de Casa | 01/12/2024\\n* Taxi Driver | 01/12/2024\\n* Transformers | 01/12/2024\\n* Transformers: O Lado Oculto da Lua | 01/12/2024\\n* Transformers: O Último Cavaleiro | 01/12/2024\\n* Transformers: A Era da Extinção | 01/12/2024\\n* Transformers: A Vingança dos Derrotados | 01/12/2024\\n* Bumblebee | 01/12/2024\\n* O Amor Não Tira Férias | 01/12/2024\\n* Ghostbusters: Mais Além | 02/12/2024\\n* Princesa Adormecida | 03/12/2024\\n* O Telefone Preto | 03/12/2024\\n* Bob Marley: One Love | 03/12/2024\\n* A Nonsense Christmas with Sabrina Carpenter | 06/12/2024\\n* Virgem Maria | 06/12/2024\\n* Bagagem de Risco | 13/12/2024\\n* Anaconda | 15/12/2024\\n* Desejo e Reparação | 16/12/2024\\n* Tropa de Elite | 16/12/2024\\n* Batalhão 6888 | 20/12/2024\\n* A Presepada | 21/12/2024\\n* Lara Croft: Tomb Raider | 22/12/2024\\n* Lara Croft: Tomb Raider – A Origem da Vida | 22/12/2024\\n* O Último Mestre do Ar | 22/12/2024\\n\\n### Documentários e especiais\\n\\n* Jamie Foxx: What Had Happened Was… | 10/12/2024\\n* Ronny Chieng: Love To Hate It | 17/12/2024\\n* O Ultimato: Ou Casa ou Vaza | 04/12/2024\\n* Black Doves | 05/12/2024\\n* O Show da Luna!: Temporada 4 | 09/12/2024\\n* Rugby: Vencer ou Morrer | 10/12/2024\\n* Cem Anos de Solidão: Parte 1 | 11/12/2024\\n* Queer Eye: Temporada 9 | 11/12/2024\\n* Quem Vê Casa… | 12/12/2024\\n* A Culpa é do Cabral: Temporadas 11-12 | 14/12/2024\\n* Parenthood: Temporada 1 | 15/12/2024\\n* Virgin River: Temporada 6 | 19/12/2024\\n* Round 6 - Temporada 2 | 26/12/2024\\n\\n### Conteúdo infantil e família\\n\\n* O Grinch | 01/12/2024\\n* Aquele Natal | 04/12/2024\\n* iCarly: Temporada 4 | 31/12/2024\\n* Naruto Shippuden: Temporada 10 | 01/12/2024\\n* Naruto Shippuden: Temporada 11 | 01/12/2024\\n* Histórias Netflix: Virgin River (Edição de Natal) | JÁ DISPONÍVEL\\n* The Rise of the Golden Idol | JÁ DISPONÍVEL\\n* TED Tumblewords | JÁ DISPONÍVEL\\n* Monument Valley 3 | 10/12/2024\\n* Round 6: O céu é o limite | 17/12/2024')]}\n"
     ]
    },
    {
     "data": {
      "text/plain": [
       "['Olá! Estou aqui para ajudar com suas dúvidas sobre filmes e séries.',\n",
       " '',\n",
       " 'Parece que você está procurando por informações sobre os lançamentos da Netflix em dezembro de 2024. Aqui estão alguns dos filmes e séries que entrarão na Netflix em dezembro:',\n",
       " '',\n",
       " '**Filmes:**',\n",
       " '',\n",
       " '* Homem-Aranha: Longe de Casa',\n",
       " '* Taxi Driver',\n",
       " '* Transformers',\n",
       " '* Ghostbusters: Mais Além',\n",
       " '* Bob Marley: One Love',\n",
       " '* A Nonsense Christmas with Sabrina Carpenter',\n",
       " '* Tropa de Elite',\n",
       " '',\n",
       " '**Séries:**',\n",
       " '',\n",
       " '* O Ultimato: Ou Casa ou Vaza',\n",
       " '* Black Doves',\n",
       " '* O Show da Luna!: Temporada 4',\n",
       " '* Rugby: Vencer ou Morrer',\n",
       " '* Cem Anos de Solidão: Parte 1',\n",
       " '* Queer Eye: Temporada 9',\n",
       " '* Quem Vê Casa…',\n",
       " '* A Culpa é do Cabral: Temporadas 11-12',\n",
       " '* Parenthood: Temporada 1',\n",
       " '* Virgin River: Temporada 6',\n",
       " '* Round 6 - Temporada 2',\n",
       " '',\n",
       " 'Além disso, você também perguntou sobre a série \"Churchill em Guerra\", mas não há informações sobre essa série nos dados que eu tenho. Se você tiver mais informações ou detalhes sobre essa série, posso tentar ajudar melhor.',\n",
       " '',\n",
       " 'Se você tiver alguma outra pergunta ou precisar de mais recomendações, basta perguntar! Estou aqui para ajudar.']"
      ]
     },
     "execution_count": 11,
     "metadata": {},
     "output_type": "execute_result"
    }
   ],
   "source": [
    "\n",
    "config = {\"configurable\": {\"thread_id\": \"foo\"}}\n",
    "message = 'Me descreva sobre a serie Churchill em Guerra'\n",
    "response = graph_invoke(message, config, memory_saver)\n",
    "response.split('\\n')"
   ]
  },
  {
   "cell_type": "code",
   "execution_count": null,
   "metadata": {},
   "outputs": [
    {
     "name": "stderr",
     "output_type": "stream",
     "text": [
      "Fetching pages: 100%|##########| 1/1 [00:00<00:00, 10.29it/s]\n",
      "Fetching pages: 100%|##########| 1/1 [00:00<00:00,  6.84it/s]\n",
      "Fetching pages: 100%|##########| 1/1 [00:01<00:00,  1.62s/it]\n",
      "Fetching pages: 100%|##########| 1/1 [00:00<00:00,  9.79it/s]\n",
      "Fetching pages: 100%|##########| 1/1 [00:01<00:00,  1.50s/it]\n"
     ]
    },
    {
     "name": "stdout",
     "output_type": "stream",
     "text": [
      "{'messages': [('user', \"onde eu posso assistir a serie churchill em guerra\\nChurchill na Guerra\\n================\\n\\n### Sinopse\\n\\nEsta cativante série documental analisa o papel fundamental de Winston Churchill na 2.ª Guerra Mundial e os eventos que fizeram dele o líder ideal para uma era.\\n\\n### Gêneros\\n\\n- Documentário\\n- História\\n- Guerra & Militar\\n\\n### Temporadas\\n\\n- 1 Temporada, 4 Episódios\\n\\n### Episódios\\n\\n1. **T1 Ep1 - Tempesta em arrivo**: Spinto dalla determinação a salvare la Gran Bretagna fin dall'infanzia, Churchill si fa strada da soldato a Primo ministro enquanto incombe la minaccia delle forze tedesche.\\n2. **T1 Ep2 - O seu melhor momento**: Da Primo ministro e Ministro della difesa, Churchill mobilita a nação com discursos volti ad attirare il sostegno degli Stati Uniti mentre Hitler lancia il Blitz su Londra.\\n3. **T1 Ep3 - O dia do destino**: Gli sforzi indefessi di Churchill portano all'entrata in guerra degli Stati Uniti, ma per sconfiggere la Germania nazista deve formare un secondo fronte con Stalin e Roosevelt.\\n4. **T1 Ep4 - Depois da tempestade**: Alla fine della guerra Churchill affronta un panorama globale mutevole, caratterizzato da tensioni tra Stati Uniti e Unione Sovietica, decolonizzazione e l'emergente era nucleare.\\n\\n### Elenco\\n\\n- Langley Kirkwood como **Franklin Delano Roosevelt**\\n- Christian McKay como **Winston Churchill**\\n- Martin...\")]}\n"
     ]
    },
    {
     "data": {
      "text/plain": [
       "['A série \"Churchill em Guerra\" está disponível na plataforma Netflix. Se você tiver interesse em assistir a outros documentários ou séries sobre história ou guerra, posso sugerir algumas opções. Você gostaria de algumas recomendações?']"
      ]
     },
     "execution_count": 12,
     "metadata": {},
     "output_type": "execute_result"
    }
   ],
   "source": [
    "\n",
    "config = {\"configurable\": {\"thread_id\": \"foo\"}}\n",
    "message = 'Onde eu posso assistir a serie Churchill em Guerra'\n",
    "response = graph_invoke(message, config, memory_saver)\n",
    "response.split('\\n')"
   ]
  },
  {
   "cell_type": "code",
   "execution_count": null,
   "metadata": {},
   "outputs": [],
   "source": [
    "\n",
    "config = {\"configurable\": {\"thread_id\": \"foo\"}}\n",
    "message = 'Onde eu posso assistir Churchill: O Último Leão'\n",
    "response = graph_invoke(message, config, memory_saver)\n",
    "response.split('\\n')"
   ]
  },
  {
   "cell_type": "code",
   "execution_count": null,
   "metadata": {},
   "outputs": [],
   "source": []
  },
  {
   "cell_type": "code",
   "execution_count": 10,
   "metadata": {},
   "outputs": [],
   "source": [
    "from funcoes_auxiliares.funcoes_auxiliares import search_and_incorporate,condicional_edges"
   ]
  },
  {
   "cell_type": "code",
   "execution_count": 12,
   "metadata": {},
   "outputs": [
    {
     "name": "stderr",
     "output_type": "stream",
     "text": [
      "Fetching pages: 100%|##########| 1/1 [00:00<00:00, 14.96it/s]\n",
      "Fetching pages: 100%|##########| 1/1 [00:00<00:00,  2.25it/s]\n",
      "Fetching pages: 100%|##########| 1/1 [00:00<00:00,  1.98it/s]\n",
      "Fetching pages: 100%|##########| 1/1 [00:00<00:00, 13.13it/s]\n",
      "Fetching pages: 100%|##########| 1/1 [00:00<00:00, 10.71it/s]\n"
     ]
    },
    {
     "name": "stdout",
     "output_type": "stream",
     "text": [
      "{'messages': [('user', 'qual filme estao no cinema na data de dezembro de 2024\\nO Senhor dos Anéis: A Guerra dos Rohirrim\\nLogo no início de dezembro, é hora de os fãs das obras de J.R.R. Tolkien retornarem ao incrível universo de _O Senhor dos Anéis_ com o filme animado _O Senhor dos Anéis: A Guerra dos Rohirrim_. \"Em Rohan, um ataque surpresa de Wulf, um senhor Dunlendino astuto e implacável em busca de vingança pela morte de seu pai, força o rei Helm Mão-de-Martelo e seu povo a fazerem uma última resistência ousada na antiga fortaleza de Hornburg\", diz a sinopse.\\n\\nChapeuzinho Vermelho – Herança de Família\\nRecheado de aventura, ação e fantasia, _Chapeuzinho Vermelho – Herança de Família_ também é uma ótima opção para assistir no cinema em dezembro. \"Salvando sua cidade dos lobos, Chapeuzinho Vermelho terá que resolver o mistério do desaparecimento de seu pai, Wolfboy, encarar seus medos nos olhos e encontrar seu destino\", revela a trama do filme russo.\\n\\nMato ou Morro\\nDirigido por Caco Souza, o longa brasileiro _Mato ou Morro_ consiste em uma comédia que segue a história de Marcos e Carlo, dois amigos que abrem uma pousada no interior do Rio Grande do Sul. Contudo, as coisas desandam quando um jovem casal de argentinos chega para administrar o local, trazendo uma série de desentendimentos e confusões. Raphael Logam, Sacha Bali e Brendha Haddad estão no elenco.\\n\\nSolo Leveling – Segundo Despertar\\nO anime _Solo Leveling_ é um dos maiores sucessos dos últimos anos nas telinhas e ganhará um filme em dezembro, bastante aguardado pelos fãs. A obra é uma recapitulação da 1ª temporada da série, contudo, inclui 2 episódios da nova temporada. Ou seja, para quem quer um gostinho do que o novo ano do anime trará, não há como perder o lançamento!\\n\\nSting – Aranha Assassina\\nSe você tem aracnofobia, _Sting – Aranha Assassina_ , definitivamente, não é para você. Contudo, se ver aranhas gigantescas e assassinas aterrorizando moradores de um prédio não é um problema para você, então, vale a pena conferir este filme de terror. O projeto é dirigido por Kiah Roache-Turner e estrelado por Noni Hazlehurst, Alyla Browne e Jermaine.\\n\\nKraven – O Caçador\\nAgora, um dos maiores lançamentos deste mês de dezembro no cinema: _Kraven – O Caçador_. Sim, o conhecido vilão do universo de Homem-Aranha ganhou um filme para chamar só de seu e promete chamar bastante atenção. \"A complexa relação de Kraven com o pai, Nikolai Kravinoff, o leva a uma jornada de vingança com consequências brutais, o motivando a se tornar um dos maiores e mais temidos caçadores do mundo\", revela o enredo.\\n\\nUm Homem Diferente\\nComandado por Aaron Schimberg e estrelado pelo badalado ator Sebastian Stan, _Um Homem Diferente_ tem o selo A24 de qualidade e traz um drama peculiar e provocante. \"Um aspirante a ator passa por um procedimento médico radical para transformar sua aparência. Mas esse tão sonhado novo rosto logo se transforma em pesadelo\", conta a trama do filme, que também tem Renate Reinsve, Adam Pearson e Miles G. Jackson no elenco.\\n\\nMufasa: O Rei Leão\\nDezembro também trará mais um filme da franquia O Rei Leão. Pois é, finalmente, os fãs dos filmes icônicos terão contato com Mufasa: O Rei Leão, projeto conduzido por Barry Jenkins que traz muita aventura, ação e drama. \"Mufasa, um filhote perdido e sozinho, conhece um simpático leãozinho chamado Taka, o herdeiro de uma linhagem real. O encontro casual dá início a uma jornada transformadora de um grupo de desajustados em busca de seus destinos\", diz a sinopse.\\n\\nO Auto da Compadecida 2\\nUm absoluto clássico do cinema nacional ganhará uma sequência em pleno dia de Natal. Estamos falando de _O Auto da Compadecida 2_ , que desembarca nas telonas 24 anos após o primeiro longa. Dirigido por Guel Arraes e Flávia Lacerda, o projeto traz os retornos dos personagens João Grilo (Matheus Nachtergaele) e Chicó (Selton Mello), que viverão uma nova aventura e ainda mais confusões.\\n\\nSonic 3 – O Filme\\nPara finalizar, no mesmo dia de Natal, estreia _Sonic 3_ , que aposta na seguinte narrativa: \"Sonic, Knuckles e Tails se reúnem contra um novo e poderoso adversário, Shadow, um vilão misterioso com poderes diferentes de tudo o que já enfrentaram antes. Com suas habilidades excepcionais, a Equipe Sonic busca uma aliança improvável.\" Aventuras e surpresas não faltarão para os fãs do ouriço azul!')]}\n"
     ]
    },
    {
     "data": {
      "text/plain": [
       "{'messages': [('user',\n",
       "   'qual filme estao no cinema na data de dezembro de 2024\\nO Senhor dos Anéis: A Guerra dos Rohirrim\\nLogo no início de dezembro, é hora de os fãs das obras de J.R.R. Tolkien retornarem ao incrível universo de _O Senhor dos Anéis_ com o filme animado _O Senhor dos Anéis: A Guerra dos Rohirrim_. \"Em Rohan, um ataque surpresa de Wulf, um senhor Dunlendino astuto e implacável em busca de vingança pela morte de seu pai, força o rei Helm Mão-de-Martelo e seu povo a fazerem uma última resistência ousada na antiga fortaleza de Hornburg\", diz a sinopse.\\n\\nChapeuzinho Vermelho – Herança de Família\\nRecheado de aventura, ação e fantasia, _Chapeuzinho Vermelho – Herança de Família_ também é uma ótima opção para assistir no cinema em dezembro. \"Salvando sua cidade dos lobos, Chapeuzinho Vermelho terá que resolver o mistério do desaparecimento de seu pai, Wolfboy, encarar seus medos nos olhos e encontrar seu destino\", revela a trama do filme russo.\\n\\nMato ou Morro\\nDirigido por Caco Souza, o longa brasileiro _Mato ou Morro_ consiste em uma comédia que segue a história de Marcos e Carlo, dois amigos que abrem uma pousada no interior do Rio Grande do Sul. Contudo, as coisas desandam quando um jovem casal de argentinos chega para administrar o local, trazendo uma série de desentendimentos e confusões. Raphael Logam, Sacha Bali e Brendha Haddad estão no elenco.\\n\\nSolo Leveling – Segundo Despertar\\nO anime _Solo Leveling_ é um dos maiores sucessos dos últimos anos nas telinhas e ganhará um filme em dezembro, bastante aguardado pelos fãs. A obra é uma recapitulação da 1ª temporada da série, contudo, inclui 2 episódios da nova temporada. Ou seja, para quem quer um gostinho do que o novo ano do anime trará, não há como perder o lançamento!\\n\\nSting – Aranha Assassina\\nSe você tem aracnofobia, _Sting – Aranha Assassina_ , definitivamente, não é para você. Contudo, se ver aranhas gigantescas e assassinas aterrorizando moradores de um prédio não é um problema para você, então, vale a pena conferir este filme de terror. O projeto é dirigido por Kiah Roache-Turner e estrelado por Noni Hazlehurst, Alyla Browne e Jermaine.\\n\\nKraven – O Caçador\\nAgora, um dos maiores lançamentos deste mês de dezembro no cinema: _Kraven – O Caçador_. Sim, o conhecido vilão do universo de Homem-Aranha ganhou um filme para chamar só de seu e promete chamar bastante atenção. \"A complexa relação de Kraven com o pai, Nikolai Kravinoff, o leva a uma jornada de vingança com consequências brutais, o motivando a se tornar um dos maiores e mais temidos caçadores do mundo\", revela o enredo.\\n\\nUm Homem Diferente\\nComandado por Aaron Schimberg e estrelado pelo badalado ator Sebastian Stan, _Um Homem Diferente_ tem o selo A24 de qualidade e traz um drama peculiar e provocante. \"Um aspirante a ator passa por um procedimento médico radical para transformar sua aparência. Mas esse tão sonhado novo rosto logo se transforma em pesadelo\", conta a trama do filme, que também tem Renate Reinsve, Adam Pearson e Miles G. Jackson no elenco.\\n\\nMufasa: O Rei Leão\\nDezembro também trará mais um filme da franquia O Rei Leão. Pois é, finalmente, os fãs dos filmes icônicos terão contato com Mufasa: O Rei Leão, projeto conduzido por Barry Jenkins que traz muita aventura, ação e drama. \"Mufasa, um filhote perdido e sozinho, conhece um simpático leãozinho chamado Taka, o herdeiro de uma linhagem real. O encontro casual dá início a uma jornada transformadora de um grupo de desajustados em busca de seus destinos\", diz a sinopse.\\n\\nO Auto da Compadecida 2\\nUm absoluto clássico do cinema nacional ganhará uma sequência em pleno dia de Natal. Estamos falando de _O Auto da Compadecida 2_ , que desembarca nas telonas 24 anos após o primeiro longa. Dirigido por Guel Arraes e Flávia Lacerda, o projeto traz os retornos dos personagens João Grilo (Matheus Nachtergaele) e Chicó (Selton Mello), que viverão uma nova aventura e ainda mais confusões.\\n\\nSonic 3 – O Filme\\nPara finalizar, no mesmo dia de Natal, estreia _Sonic 3_ , que aposta na seguinte narrativa: \"Sonic, Knuckles e Tails se reúnem contra um novo e poderoso adversário, Shadow, um vilão misterioso com poderes diferentes de tudo o que já enfrentaram antes. Com suas habilidades excepcionais, a Equipe Sonic busca uma aliança improvável.\" Aventuras e surpresas não faltarão para os fãs do ouriço azul!')]}"
      ]
     },
     "execution_count": 12,
     "metadata": {},
     "output_type": "execute_result"
    }
   ],
   "source": [
    "input = {\"messages\": [{\"content\": \"qual filme estao no cinema na data de dezembro de 2024\"}]}\n",
    "condicional_edges(input)"
   ]
  },
  {
   "cell_type": "markdown",
   "metadata": {},
   "source": [
    "# Adicionando memória\n",
    "\n",
    "https://python.langchain.com/api_reference/core/runnables/langchain_core.runnables.history.RunnableWithMessageHistory.html"
   ]
  },
  {
   "cell_type": "code",
   "execution_count": 103,
   "metadata": {},
   "outputs": [
    {
     "data": {
      "text/plain": [
       "True"
      ]
     },
     "execution_count": 103,
     "metadata": {},
     "output_type": "execute_result"
    }
   ],
   "source": [
    "from operator import itemgetter\n",
    "from typing import List\n",
    "from langchain_core.chat_history import BaseChatMessageHistory\n",
    "from langchain_core.messages import BaseMessage, AIMessage\n",
    "from langchain_core.prompts import ChatPromptTemplate, MessagesPlaceholder\n",
    "from pydantic import BaseModel, Field\n",
    "from langchain_core.runnables.history import RunnableWithMessageHistory\n",
    "from langchain_groq import ChatGroq\n",
    "from langchain.prompts.chat import (\n",
    "    SystemMessagePromptTemplate,\n",
    "    HumanMessagePromptTemplate,\n",
    ")\n",
    "import os\n",
    "from langchain_core.output_parsers import StrOutputParser\n",
    "from dotenv import load_dotenv\n",
    "from langchain_core.messages import HumanMessage\n",
    "from funcoes_auxiliares.funcoes_auxiliares import condicional_edges\n",
    "load_dotenv()"
   ]
  },
  {
   "cell_type": "code",
   "execution_count": null,
   "metadata": {},
   "outputs": [],
   "source": [
    "class InMemoryHistory(BaseChatMessageHistory, BaseModel):\n",
    "    \"\"\"In memory implementation of chat message history.\"\"\"\n",
    "\n",
    "    messages: List[BaseMessage] = Field(default_factory=list)\n",
    "\n",
    "    def add_messages(self, messages: List[BaseMessage]) -> None:\n",
    "        \"\"\"Add a list of messages to the store\"\"\"\n",
    "        self.messages.extend(messages)\n",
    "\n",
    "    def clear(self) -> None:\n",
    "        self.messages = []\n",
    "\n",
    "# Here we use a global variable to store the chat message history.\n",
    "# This will make it easier to inspect it to see the underlying results.\n",
    "store = {}\n",
    "\n",
    "def get_by_session_id(session_id: str) -> BaseChatMessageHistory:\n",
    "    if session_id not in store:\n",
    "        store[session_id] = InMemoryHistory()\n",
    "    return store[session_id]\n"
   ]
  },
  {
   "cell_type": "code",
   "execution_count": 138,
   "metadata": {},
   "outputs": [],
   "source": [
    "def chat_bot(mensagem: str, \n",
    "             memory,\n",
    "             config: dict) -> dict:\n",
    "    \n",
    "\n",
    "    model = ChatGroq(\n",
    "        api_key=os.getenv(\"GROQ_API_KEY\"),\n",
    "        model=\"llama-3.2-11b-vision-preview\",\n",
    "        temperature=0.5,\n",
    "    )\n",
    "    \n",
    "    \n",
    "    prompt = ChatPromptTemplate.from_messages(\n",
    "        [\n",
    "            SystemMessagePromptTemplate.from_template(\"\"\"\n",
    "                                                      Role: You are a chatbot focused on movies and series. You receive messages from a user and a list of movies and series with research data gathered from the internet. \n",
    "                                                      Use this list of information to provide detailed insights, recommendations, and answers about movies and TV series.\n",
    "                                                      Never comment in your response that you recebed a list of movies or series from a font external.\n",
    "                                                      Use this information to provide detailed insights, recommendations, and answers about movies and series.\n",
    "\n",
    "                                                    Capabilities:\n",
    "\n",
    "                                                    Provide streaming platforms, synopses, genres, and casts of movies.\n",
    "                                                    Suggest up to 5 movies with brief summaries if requested.\n",
    "                                                    Rules:\n",
    "\n",
    "                                                    Respond only if asked directly about movies or series.\n",
    "                                                    For streaming availability, share only the platform.\n",
    "                                                    Respond in Portuguese with a friendly, professional tone.\n",
    "                                                    Avoid repetition of movies within the same conversation.\n",
    "                                                    \n",
    "                                                    Objective:\n",
    "                                                    Offer accurate, engaging, and concise movie recommendations to enhance the user's experience.\n",
    "\n",
    "                                                    Limitations:\n",
    "\n",
    "                                                    Only respond to topics about movies or series.\n",
    "                                                    Ensure all answers are concise, relevant, and accurate.\n",
    "                                                      \"\"\"),\n",
    "            MessagesPlaceholder(variable_name=\"history\"),\n",
    "            HumanMessagePromptTemplate.from_template(\"{input}\"),\n",
    "        ]\n",
    "    )\n",
    "    \n",
    "    \n",
    "    llm_chain = prompt | model| StrOutputParser()\n",
    "    \n",
    "    chain_with_history = RunnableWithMessageHistory(\n",
    "        llm_chain,\n",
    "        # Uses the get_by_session_id function defined in the example\n",
    "        # above.\n",
    "        memory,\n",
    "        input_messages_key=\"input\",\n",
    "        history_messages_key=\"history\",\n",
    "    )\n",
    "    \n",
    "    \n",
    "    resposta = chain_with_history.invoke({\"input\": mensagem}, config=config)\n",
    "    \n",
    "    \n",
    "    return {\"messages\": [(\"assistant\", resposta)]}"
   ]
  },
  {
   "cell_type": "code",
   "execution_count": 190,
   "metadata": {},
   "outputs": [],
   "source": [
    "def chat_reposta_condicional(input, memory, config):\n",
    "    input = {\"messages\": [{\"content\": input}]}\n",
    "    resposta_incorporada = condicional_edges(input)\n",
    "    try:\n",
    "        if isinstance(resposta_incorporada, dict):\n",
    "            resposta_incorporada = resposta_incorporada['messages'][0][1]\n",
    "    except KeyError:\n",
    "        resposta_incorporada = resposta_incorporada['messages'][0]['content']\n",
    "        \n",
    "    resposta_concluida = chat_bot(resposta_incorporada, memory, config)\n",
    "    \n",
    "    return resposta_concluida['messages'][0][1]"
   ]
  },
  {
   "cell_type": "code",
   "execution_count": 191,
   "metadata": {},
   "outputs": [
    {
     "name": "stderr",
     "output_type": "stream",
     "text": [
      "Fetching pages: 100%|##########| 1/1 [00:00<00:00, 12.50it/s]\n",
      "Fetching pages: 100%|##########| 1/1 [00:00<00:00,  1.50it/s]\n",
      "Fetching pages: 100%|##########| 1/1 [00:00<00:00,  3.27it/s]\n",
      "Fetching pages: 100%|##########| 1/1 [00:00<00:00,  1.49it/s]\n",
      "Fetching pages: 100%|##########| 1/1 [00:00<00:00,  1.52it/s]\n"
     ]
    },
    {
     "name": "stdout",
     "output_type": "stream",
     "text": [
      "{'messages': [('user', 'indique um filme de acao?\\n1. 007 Contra Goldfinger (1964)\\n    *   Rotten Tomatoes: 99%\\n    *   Metacritic: 87\\n    *   IMDB: 7,7\\n    *   Título original: _Goldfinger_\\n    *   Bond, James Bond, é o querido personagem interpretado por Sean Connery, George Lazenby, Roger Moore, Timothy Dalton, Pierce Brosnan e Daniel Craig.\\n    *   O filme é um sucesso de público e crítica, com sua icônica música tema e sexy Bond Girl, Pussy Galore (Honor Blackman).\\n    *   007 Contra Goldfinger é o preferido entre pelo menos metade dos fãs da franquia e um dos melhores filmes de ação já lançados.\\n    *   O agente 007 precisa encarar um dos mais notórios vilões de todos os tempos, Auric Goldfinger (Gert Fröbe), e impedi-lo de roubar as reservas americanas de ouro existentes em Fort Knox.\\n2. 71: Esquecido em Belfast (2014)\\n    *   Rotten Tomatoes: 96%\\n    *   Metacritic: 83\\n    *   IMDB: 7,2\\n    *   Título original: _’71_\\n    *   Em 1971, após um grande tumulto nas ruas de Belfast, capital da Irlanda do Norte, o jovem e inexperiente soldado Gary (Jack O’Connell) é acidentalmente abandonado por sua unidade em uma zona de guerra.\\n    *   Aterrorizado, ferido e sem saber distinguir amigo de inimigo, ele deve sobreviver à noite sozinho e encontrar seu caminho para a segurança.\\n    *   O longa foi um sucesso de crítica e público, com direção de Yann Demange e roteiro de Gregory Burke.\\n3. A Hora Mais Escura (2012)\\n    *   Rotten Tomatoes: 91%\\n    *   Metacritic: 95\\n    *   IMDB: 7,4\\n    *   Título original: _Zero Dark Thirty_\\n    *   Baseado em fatos e indicado a cinco Oscar, A Hora Mais Escura de Kathryn Bigelow narra uma década de caça ao líder terrorista da Al Qaeda, Osama Bin Laden, após os ataques terroristas de 11 de setembro de 2001 nos Estados Unidos.\\n    *   A trama acompanha Maya (Jessica Chastain), uma agente da CIA cuja primeira experiência foi no interrogatório de prisioneiros após os ataques.\\n    *   Após uma década de uma busca frenética por pistas do paradeiro do líder da Al Qaeda, em 2011, Maya tem certeza que descobriu sua localização.\\n    *   Com uma equipe SEAL da Marinha dos EUA, ela é enviada a Abbottabad, no Paquistão, para matar ou capturar Bin Laden.\\n4. A Origem (2010)\\n    *   Rotten Tomatoes: 87%\\n    *   Metacritic: 74\\n    *   IMDB: 8,8\\n    *   Título original: _Inception_\\n    *   Com direção e roteiro de Christopher Nolan, A Origem mistura suspense, ficção científica e muita ação em um longa que não é para qualquer um.\\n    *   Em um mundo onde é possível entrar na mente humana, Cobb (Leonardo DiCaprio) está entre os melhores na arte de roubar segredos valiosos do inconsciente, durante o estado de sonho.\\n    *   No entanto, agora ele é um fugitivo internacional e está impedido de retornar aos Estados Unidos.\\n    *   Desesperado para rever seus filhos, Cobb aceita uma ousada chance de redenção proposta por Saito (Ken Watanabe), um empresário japonês: realizar a impossível missão de plantar uma ideia ao invés de roubar uma.')]}\n",
      "Um filme de ação que eu gostaria de recomendar é \"A Origem\" (2010) também conhecido como \"Inception\". Embora seja um filme de ficção científica, é cheio de ação e suspense. A história segue Cobb, um especialista em roubo de segredos do inconsciente, que aceita uma missão para plantar uma ideia em vez de roubar uma. O filme é dirigido por Christopher Nolan e estrelado por Leonardo DiCaprio.\n",
      "\n",
      "Se você está procurando por algo mais tradicional, posso sugerir \"007 Contra Goldfinger\" (1964). É um clássico da franquia James Bond e é considerado um dos melhores filmes de ação já lançados. A história segue Bond enquanto ele enfrenta o vilão Auric Goldfinger e tenta impedi-lo de roubar as reservas americanas de ouro em Fort Knox.\n",
      "\n",
      "Ambos os filmes são excelentes escolhas para quem gosta de ação e suspense.\n"
     ]
    }
   ],
   "source": [
    "store = {}\n",
    "config={\"configurable\": {\"session_id\": \"foo\"}}\n",
    "mensagem = 'indique um filme de acao?'\n",
    "resposta = chat_reposta_condicional(mensagem, get_by_session_id, config = config)\n",
    "print(resposta)"
   ]
  },
  {
   "cell_type": "code",
   "execution_count": 192,
   "metadata": {},
   "outputs": [
    {
     "name": "stdout",
     "output_type": "stream",
     "text": [
      "Boa noite, Jefferson! É um prazer conversar com você. O que posso fazer por você hoje? Você gostaria de saber mais sobre um filme em particular ou talvez precisar de uma recomendação? Estou aqui para ajudar!\n"
     ]
    }
   ],
   "source": [
    "config={\"configurable\": {\"session_id\": \"foo\"}}\n",
    "mensagem = 'Boa noite meu nome e jeferson'\n",
    "resposta = chat_reposta_condicional(mensagem, get_by_session_id, config = config)\n",
    "print(resposta)"
   ]
  },
  {
   "cell_type": "code",
   "execution_count": 193,
   "metadata": {},
   "outputs": [
    {
     "name": "stdout",
     "output_type": "stream",
     "text": [
      "Seu nome é Jefferson! Eu lembrei!\n"
     ]
    }
   ],
   "source": [
    "mensagem = 'qual e o meu nome'\n",
    "resposta = chat_reposta_condicional(mensagem, get_by_session_id, config = config)\n",
    "print(resposta)"
   ]
  },
  {
   "cell_type": "code",
   "execution_count": 194,
   "metadata": {},
   "outputs": [
    {
     "name": "stderr",
     "output_type": "stream",
     "text": [
      "Fetching pages: 100%|##########| 1/1 [00:00<00:00, 13.22it/s]\n",
      "Fetching pages: 100%|##########| 1/1 [00:00<00:00, 11.42it/s]\n",
      "Fetching pages: 100%|##########| 1/1 [00:00<00:00,  8.14it/s]\n",
      "Fetching pages: 100%|##########| 1/1 [00:00<00:00,  1.48it/s]\n",
      "Fetching pages: 100%|##########| 1/1 [00:00<00:00,  2.75it/s]\n"
     ]
    },
    {
     "name": "stdout",
     "output_type": "stream",
     "text": [
      "{'messages': [('user', 'me fale um filme de acao\\nOs Piratas: Em Busca do Tesouro Perdido (2022)\\nNa premissa oficial, durante a Dinastia Joseon, uma corajosa tripulação de piratas e bandidos luta contra adversidades, pistas intrigantes e rivais em busca do ouro real perdido no mar.\\n60% de aprovação no Rotten Tomatoes\\n\\nO Protetor (2014)\\nEm “O Protetor”, o ex-agente secreto Robert McCall (Denzel Washington) acredita que seu passado ficou para trás e tenta viver uma nova vida. Mas, no meio do caminho, ele conhece uma jovem que está sob poder de uma quadrilha russa, e simplesmente não consegue ignorá-la. Munido de suas extraordinárias habilidades, ele ressurge como um verdadeiro anjo vingador.\\n60% de aprovação no Rotten Tomatoes\\n\\nAlerta Vermelho (2021)\\nEm um dos melhores filmes de ação da Netflix, um alerta vermelho da Interpol é emitido e o agente do FBI John Hartley (Dwayne Johnson) assume o caso. Durante sua busca, ele se vê diante de um assalto ousado e é forçado a se aliar ao maior ladrão de arte da história, Nolan Booth (Ryan Reynolds), para capturar a ladra de arte mais procurada do mundo atualmente, Sarah Black (Gal Gadot).\\n92% de aprovação de audiência no Rotten Tomatoes\\n\\nA Batalha Esquecida (2021)\\nNa trama, durante a Segunda Guerra Mundial, na crucial Batalha do Rio Escalda, três vidas totalmente diferentes se cruzam e cada um vê o conflito sob perspectivas diferentes – sendo um deles um piloto britânico, outro um garoto holandês e por fim um membro da resistência holandesa.\\n100% de aprovação no Rotten Tomatoes\\n\\nExército de Ladrões: Invasão da Europa (2021)\\nEm “Exército de Ladrões: Invasão da Europa”, Gwendoline Starr (Nathalie Emmanuel) é uma mulher misteriosa que recruta o bancário Ludwig Dieter (Matthias Schweighöfer) para ajudar sua equipe a arrombar três cofres lendários na Europa.\\n68% de aprovação no Rotten Tomatoes\\n\\nBlade Runner 2049 (2017)\\nEm “Blade Runner 2049”, após descobrir um segredo que ameaça o que resta da sociedade, um novo policial parte em busca de Rick Deckard (Harrison Ford), que está desaparecido há 30 anos.\\n88% de aprovação no Rotten Tomatoes\\n\\nVingança e Castigo (2021)\\nEm um dos melhores filmes de ação na Netflix, quando o bandido Nat Love (Jonathan Majors) descobre que seu maior inimigo, o impiedoso Rufus Buck (Idris Elba), será solto da prisão, ele reúne seu bando em uma busca ininterrupta por vingança.\\n88% de aprovação no Rotten Tomatoes\\n\\nMajor Grom Contra o Dr. Peste (2021)\\nEm “Major Grom Contra o Dr. Peste”, Igor Grom (Tikhon Zhiznevskiy), um detetive rebelde, e seu parceiro novato são os únicos que podem parar um assassino mascarado que está aterrorizando a cidade.\\n85% de aprovação de audiência no Rotten Tomatoes\\n\\nDestacamento Blood (2020)\\nEm “Destacamento Blood”, quatro veteranos afro-americanos lutam contra as forças dos homens e da natureza quando retornam ao Vietnã, décadas depois do fim da guerra, em busca dos restos mortais de seu líder e a fortuna em ouro que ajudaram a esconder.\\n92% de aprovação no Rotten Tomatoes\\n\\nLuther: O Cair da Noite (2023)\\nO longa-metragem “Luther: O Cair da Noite” é uma sequência da série policial britânica “Luther” que traz mais uma vez Idris Elba no papel do detetive e inspetor John Luther. Na nova trama, assombrado por um assassinato que não foi resolvido, o brilhante policial foge da prisão em busca de um serial killer.\\n69% de aprovação no Rotten Tomatoes\\n\\nPower (2020)\\nEm “Power”, um ex-soldado, uma adolescente e um policial exploram New Orleans em busca de uma pílula perigosa que desperta super poderes temporários.\\n61% de aprovação no Rotten Tomatoes\\n\\nMissão Impossível: Efeito Fallout (2018)\\nNa sinopse oficial, em uma perigosa tarefa para recuperar o plutônio roubado, Ethan Hunt (Tom Cruise) opta por salvar sua equipe em vez de completar a missão. Com isso, armas nucleares caem nas mãos de agentes altamente qualificados e que pertencem a uma rede mortal que deseja destruir a civilização. Agora, com o mundo em risco, Ethan e sua equipe da IMF são forçados a unir-se a um obstinado agente da CIA.\\n97% de aprovação no Rotten Tomatoes\\n\\nBaby Driver: Em Ritmo de Fuga (2017)\\nEm um dos melhores filmes na Netflix, o talentoso motorista de fuga Baby (Ansel Elgort) confia nas batidas de sua própria trilha sonora para ser o melhor que existe. A música silencia um zumbido que o perturba desde um acidente na infância. Após conhecer a mulher dos seus sonhos, ele reconhece uma oportunidade de se livrar do estilo de vida questionável e recomeçar do zero. Obrigado a trabalhar para um chefão do crime, Baby lida com a música ao mesmo tempo em que um golpe fadado ao fracasso ameaça sua vida, seu amor e sua\\n92% de aprovação no Rotten Tomatoes\\n\\nJurassic Park: O Parque dos Dinossauros (1993)\\nSim, o clássico “Jurassic Park: O Parque dos Dinossauros” está disponível na Netflix. Nesse longa-metragem original dos anos 1993, os paleontólogos Alan Grant (Sam Neill), Ellie Sattler (Laura Dern) e o matemático Ian Malcolm (Jeff Goldblum) fazem parte de um seleto grupo escolhido para visitar uma ilha habitada por dinossauros criados a partir de DNA pré-histórico. O idealizador do projeto e bilionário John Hammond (Richard Attenborough) garante a todos que a instalação é completamente segura. Mas a')]}\n",
      "Olá, Jefferson!\n",
      "\n",
      "Você está procurando um filme de ação, né? Eu tenho algumas sugestões para você!\n",
      "\n",
      "Eu recomendo \"Missão Impossível: Efeito Fallout\" (2018). É um filme de ação emocionante com Tom Cruise no papel de Ethan Hunt. A trama é sobre uma equipe da IMF que precisa recuperar plutônio roubado e evitar uma catástrofe nuclear.\n",
      "\n",
      "Outra opção é \"Blade Runner 2049\" (2017). É um filme de ação e ficção científica que explora a história de um policial que descobre um segredo que ameaça a sociedade.\n",
      "\n",
      "Se você gosta de filmes de ação com superpoderes, eu recomendo \"Power\" (2020). É um filme sobre um ex-soldado, uma adolescente e um policial que exploram New Orleans em busca de uma pílula que desperta superpoderes temporários.\n",
      "\n",
      "E por fim, eu recomendo \"Baby Driver: Em Ritmo de Fuga\" (2017). É um filme de ação e música que conta a história de um motorista de fuga que usa sua trilha sonora para ser o melhor que existe.\n",
      "\n",
      "Qual é a sua escolha, Jefferson?\n"
     ]
    }
   ],
   "source": [
    "mensagem = 'Me fale um filme de acao'\n",
    "resposta = chat_reposta_condicional(mensagem, get_by_session_id, config = config)\n",
    "print(resposta)"
   ]
  },
  {
   "cell_type": "code",
   "execution_count": 188,
   "metadata": {},
   "outputs": [
    {
     "name": "stderr",
     "output_type": "stream",
     "text": [
      "Fetching pages: 100%|##########| 1/1 [00:00<00:00,  3.11it/s]\n",
      "Fetching pages: 100%|##########| 1/1 [00:00<00:00, 11.38it/s]\n",
      "Fetching pages: 100%|##########| 1/1 [00:01<00:00,  1.43s/it]\n",
      "Fetching pages: 100%|##########| 1/1 [00:00<00:00,  1.49it/s]\n",
      "Fetching pages: 100%|##########| 1/1 [00:00<00:00, 10.80it/s]\n"
     ]
    },
    {
     "name": "stdout",
     "output_type": "stream",
     "text": [
      "{'messages': [('user', 'me fale um filme de acao brasileiro\\n## O que é isso, companheiro? (1997)\\nO filme conta a história do sequestro do embaixador norte-americano no Brasil Charles Elbrick, em setembro de 1969, por militantes políticos clandestinos que lutavam contra a ditadura militar.\\n\\n## Bacurau (2019)\\nO filme desenrola uma trama envolvente de suspense e terror no coração do interior do Brasil. Os habitantes deparam-se com uma descoberta perturbadora: a cidade desapareceu de todos os mapas conhecidos.\\n\\n## Tatuagem (2013)\\nA história conta a luta, paixão e esperança na década de 1970, em plena ditadura militar no Brasil. Clécio é o líder de uma trupe amadora de teatro que apresenta shows provocantes e de deboche, inclusive contra a ditadura.\\n\\n## Aquarius (2016)\\nA história conta a vida de Clara, uma mulher aposentada que mora sozinha em um antigo prédio na cobiçada Avenida Boa Viagem, em Recife. Uma construtora interessada em comprar o prédio e demoli-lo começa a assediá-la.\\n\\n## Edifício Master (2002)\\nO filme é uma rica exploração do Brasil, concentrada em uma icônica região carioca: Copacabana. O documentário captura histórias emocionantes, divertidas e profundamente pessoais dos habitantes do Edifício Master.\\n\\n## Hoje Eu Quero Voltar Sozinho (2014)\\nO filme narra a vida de Leonardo, um jovem no ensino médio que possui deficiência visual. Quando Gabriel, um novo aluno transferido, entra em sua vida, Leonardo descobre sentimentos que nunca antes havia experimentado.\\n\\n## Lavoura Arcaica (2001)\\nA história conta a vida de André, que foge da casa paterna por não suportar o ambiente asfixiante da vida tradicional. Segundo os críticos da Abraccine, é o 16º melhor filme brasileiro da história.\\n\\n## Que Horas ela Volta? (2015)\\nA história conta a vida de Val, uma empregada doméstica pernambucana que trabalha e mora há anos na casa dos patrões, em São Paulo. A suposta harmonia da relação entre Val e a família para a qual trabalha é quebrada quando sua filha Jéssica vai a São Paulo.\\n\\n## O Auto da Compadecida (2000)\\nO filme conta as aventuras hilariantes de Chicó e João Grilo no interior da Paraíba nos anos 30. A história é tão cativante que é impossível desgrudar os olhos da tela.\\n\\n## Macunaíma (1969)\\nO filme narra a história de Macunaíma, o herói sem nenhum caráter, do seu nascimento às margens do rio Uraricoera, em Roraima, às suas aventuras na cidade grande.\\n\\n## Todas as Mulheres do Mundo (1967)\\nA história conta a história de um mulherengo, Paulo, que se apaixona e acaba conquistando o coração de Maria Alice, que rompe o noivado para ficar com ele.\\n\\n## Dona Flor e seus Dois Maridos (1976)\\nA história conta o triângulo amoroso entre Dona Flor, o farmacêutico Madureira e o fantasma do malandro Vadinho, narrastou multidões aos cinemas nos anos 70, transformando-se num dos maiores sucessos de bilheteria de todos os tempos do cinema nacional.\\n\\n## Cabra Marcado para Morrer (1984)\\nO filme conta a história do líder comunista Chico Rei, que é preso e torturado pelo regime militar. O documentário é um retrato crítico da ditadura militar brasileira.')]}\n",
      "{'messages': [('assistant', 'Um filme de ação brasileiro que eu gostaria de recomendar é **Bacurau (2019)**. Dirigido por Kleber Mendonça Filho e Juliano Dornelles, este filme é uma trama envolvente de suspense e terror que se passa no interior do Brasil. Os habitantes de uma cidade descobrem que a cidade desapareceu de todos os mapas conhecidos, e eles precisam lidar com a consequência disso.\\n\\nSe você está procurando por mais opções, aqui estão cinco filmes de ação brasileiros que eu gostaria de recomendar:\\n\\n1. **Bacurau (2019)** - Uma trama envolvente de suspense e terror que se passa no interior do Brasil.\\n2. **Tatuagem (2013)** - Uma história que conta a luta, paixão e esperança na década de 1970, em plena ditadura militar no Brasil.\\n3. **Lavoura Arcaica (2001)** - Uma história que conta a vida de André, que foge da casa paterna por não suportar o ambiente asfixiante da vida tradicional.\\n4. **Que Horas ela Volta? (2015)** - Uma história que conta a vida de Val, uma empregada doméstica pernambucana que trabalha e mora há anos na casa dos patrões, em São Paulo.\\n5. **O Auto da Compadecida (2000)** - Uma história que conta as aventuras hilariantes de Chicó e João Grilo no interior da Paraíba nos anos 30.\\n\\nEspero que você goste dessas recomendações!')]}\n"
     ]
    }
   ],
   "source": [
    "mensagem = 'Me fale um filme de acao brasileiro'\n",
    "resposta = chat_reposta_condicional(mensagem, get_by_session_id, config = config)\n",
    "print(resposta)"
   ]
  },
  {
   "cell_type": "code",
   "execution_count": 85,
   "metadata": {},
   "outputs": [],
   "source": [
    "from chat_bots.chat_bot import chat_bot\n",
    "from langchain_core.chat_history import BaseChatMessageHistory\n",
    "from langgraph.checkpoint.memory import MemorySaver\n",
    "from requests.exceptions import HTTPError\n",
    "from funcoes_auxiliares.memory import InMemoryHistory\n",
    "from funcoes_auxiliares.funcoes_auxiliares import search_and_incorporateta_LinkupClient,condicional_edges, summarize_messages\n",
    "from langchain_core.messages import HumanMessage, AIMessage\n",
    "from chat_bots.chat_perguntas_ofensivas import chat_avaliacao_perguntas_ofensivas"
   ]
  },
  {
   "cell_type": "code",
   "execution_count": 84,
   "metadata": {},
   "outputs": [],
   "source": [
    "store = {}\n",
    "config = {\"configurable\": {\"session_id\": \"foo\"}}\n",
    "def get_by_session_id(session_id: str) -> BaseChatMessageHistory:\n",
    "    if session_id not in store:\n",
    "        store[session_id] = InMemoryHistory()\n",
    "        \n",
    "    if store[session_id].messages:\n",
    "        for message in store[session_id].messages[-2:]:  \n",
    "            if isinstance(message, HumanMessage):\n",
    "                if \"\\n%%%\\n\" in message.content:\n",
    "                    store[session_id].messages[store[session_id].messages.index(message)] = HumanMessage(content=message.content.split('\\n%%%\\n')[0])           \n",
    "            if isinstance(message, AIMessage):\n",
    "                store[session_id].messages[store[session_id].messages.index(message)] = AIMessage(content=summarize_messages(message.content)) \n",
    "    \n",
    "    # Removendo as duas primeiras mensagens\n",
    "    tamanho_memoria = sum([len(message.content) for message in store[session_id].messages])\n",
    "    if tamanho_memoria > 6500:\n",
    "        del store[session_id].messages[:2]      \n",
    "    return store[session_id]"
   ]
  },
  {
   "cell_type": "code",
   "execution_count": 86,
   "metadata": {},
   "outputs": [],
   "source": [
    "def chat_reposta_condicional(input, memory, config):\n",
    "    input = {\"messages\": [{\"content\": input}]}\n",
    "    resposta_incorporada = condicional_edges(input)\n",
    "    try:\n",
    "        if isinstance(resposta_incorporada, dict):\n",
    "            resposta_incorporada = resposta_incorporada['messages'][0][1]\n",
    "    except KeyError:\n",
    "        resposta_incorporada = resposta_incorporada['messages'][0]['content']\n",
    "        \n",
    "    resposta_concluida = chat_bot(resposta_incorporada, memory, config)\n",
    "    \n",
    "    return resposta_concluida['messages'][0][1]"
   ]
  },
  {
   "cell_type": "code",
   "execution_count": 100,
   "metadata": {},
   "outputs": [],
   "source": [
    "from langchain_core.prompts import PromptTemplate\n",
    "from langchain_core.output_parsers import JsonOutputParser\n",
    "\n",
    "\n",
    "class resposta(BaseModel):\n",
    "    boleano: str = Field(description=\"If the question is offensive, respond 'Yes', and if the question is not offensive, respond 'No'.\")\n",
    "    comentario: str = Field(description=\"Comment about the question, explaining why it was offensive.\")\n",
    "\n",
    "\n",
    "\n",
    "def chat_avaliacao_perguntas_ofensivas(mensagem):\n",
    "    model = ChatGroq(\n",
    "            api_key=os.getenv(\"GROQ_API_KEY\"),\n",
    "            model=\"llama-3.2-11b-vision-preview\",\n",
    "            temperature=0.5,\n",
    "        )\n",
    "    parser = JsonOutputParser(pydantic_object=resposta)\n",
    "\n",
    "    prompt = PromptTemplate(\n",
    "        template=\"\"\"You are an evaluator of offensive questions about movies and series.\n",
    "        Your role is to analyze each question submitted by the user and determine whether it contains offensive, discriminatory, or inappropriate content.\n",
    "    \n",
    "    Answer the user query:\\n{format_instructions}\\n{query}\\n\n",
    "    \n",
    "    Se a pergunta for ofensiva, responda \"Sim\" em Resposta e explique por que ela é inadequada em Comentário.\n",
    "    Se a pergunta não for ofensiva, responda \"Não\" em Resposta e indique que ela está dentro dos padrões aceitáveis.\n",
    "    \n",
    "    \n",
    "    Examples:\n",
    "\n",
    "    Input:\n",
    "    \"Why are movies directed by women bad?\"\n",
    "    Response:\n",
    "    \"This question contains discriminatory content and is not allowed. We kindly ask you to avoid generalizations and rephrase your question respectfully.\"\n",
    "\n",
    "    Input:\n",
    "    \"What are the best science fiction movies of the last 10 years?\"\n",
    "    Response:\n",
    "    \"The question meets acceptable standards.\"\n",
    "\n",
    "    Input:\n",
    "    \"Why are actors from a certain country terrible?\"\n",
    "    Response:\n",
    "    \"This question is offensive and not allowed. We kindly ask you to avoid generalizations and rephrase your question respectfully.\"\n",
    "\n",
    "    Input:\n",
    "    \"What is the most popular Netflix series currently?\"\n",
    "    Response:\n",
    "    \"The question meets acceptable standards.\"\n",
    "\n",
    "    Input:\n",
    "    \"Why is a certain ethnicity never good in hero roles?\"\n",
    "    Response:\n",
    "    \"This question contains discriminatory content and is not allowed. We kindly ask you to address the topic with respect and avoid offensive remarks.\"\n",
    "\n",
    "    Input:\n",
    "    \"What are the best documentaries about classic cinema?\"\n",
    "    Response:\n",
    "    \"The question meets acceptable standards.\"\n",
    "\n",
    "    Input:\n",
    "    \"I only like movies with white people; recommend a movie like that.\"\n",
    "    Response:\n",
    "    \"This question is offensive and not allowed.\"                                                   \n",
    "    \n",
    "    \"\"\",\n",
    "    input_variables=[\"query\"],\n",
    "    partial_variables={\"format_instructions\": parser.get_format_instructions()},\n",
    "    )                                             \n",
    "                                                                        \n",
    "    chain = prompt | model | parser\n",
    "\n",
    "    response = chain.invoke({\"query\": mensagem})\n",
    "    \n",
    "    return response\n",
    "    \n"
   ]
  },
  {
   "cell_type": "code",
   "execution_count": null,
   "metadata": {},
   "outputs": [],
   "source": [
    "prompt = 'Vai tomar no cu'\n",
    "avaliacao_ofensividade = chat_avaliacao_perguntas_ofensivas(prompt)\n",
    "\n",
    "print(avaliacao_ofensividade)\n",
    "\n",
    "lista_positiva = ['sim', 'yes']\n",
    "    \n",
    "if any(boleano in avaliacao_ofensividade['boleano'].lower() for boleano in lista_positiva):\n",
    "    response = avaliacao_ofensividade['comentario']\n",
    "\n",
    "else:\n",
    "    response = chat_reposta_condicional(prompt, get_by_session_id, config)"
   ]
  },
  {
   "cell_type": "code",
   "execution_count": 105,
   "metadata": {},
   "outputs": [
    {
     "ename": "OutputParserException",
     "evalue": "Invalid json output: Eu posso ajudar com isso. Aqui está um exemplo de como eu posso analisar cada pergunta e determinar se ela contém conteúdo ofensivo, discriminatório ou inadequado:\n\n**Função para avaliar perguntas**\n\n```python\nimport re\n\ndef avaliar_pergunta(pergunta):\n    # Regras para avaliar perguntas\n    regras = [\n        r\"porque as mulheres são ruins?\",  # Pergunta com conteúdo discriminatório\n        r\"porque os atores de um certo país são ruins?\",  # Pergunta com conteúdo discriminatório\n        r\"porque um certo grupo étnico nunca é bom em papéis de herói?\",  # Pergunta com conteúdo discriminatório\n        r\"apenas gosto de filmes com pessoas brancas\",  # Pergunta com conteúdo ofensivo\n        r\"porque os atores da Ásia são ruins?\",  # Pergunta com conteúdo discriminatório\n        r\"porque as pessoas de cor são ruins em papéis de herói?\",  # Pergunta com conteúdo discriminatório\n    ]\n\n    # Verificar se a pergunta contém algum dos padrões acima\n    for regra in regras:\n        if re.search(regra, pergunta, re.IGNORECASE):\n            return {\n                \"boleano\": \"Sim\",\n                \"comentario\": \"Essa pergunta contém conteúdo discriminatório e não é permitida. Por favor, evite generalizações e reformule a pergunta com respeito.\"\n            }\n\n    # Se a pergunta não contém nenhum dos padrões acima, ela está dentro dos padrões aceitáveis\n    return {\n        \"boleano\": \"Não\",\n        \"comentario\": \"A pergunta atende aos padrões aceitáveis.\"\n    }\n```\n\n**Exemplos de uso**\n\n```python\nprint(avaliar_pergunta(\"Por que as mulheres são ruins?\"))\nprint(avaliar_pergunta(\"O que são os melhores filmes de ficção científica dos últimos 10 anos?\"))\nprint(avaliar_pergunta(\"Por que os atores de um certo país são ruins?\"))\nprint(avaliar_pergunta(\"O que é o mais popular Netflix série atualmente?\"))\nprint(avaliar_pergunta(\"Por que um certo grupo étnico nunca é bom em papéis de herói?\"))\nprint(avaliar_pergunta(\"O que são os melhores documentários sobre cinema clássico?\"))\nprint(avaliar_pergunta(\"Eu apenas gosto de filmes com pessoas brancas; recomende um filme assim.\"))\n```\n\nEssa função `avaliar_pergunta` verifica se a pergunta contém algum dos padrões discriminatórios ou ofensivos definidos nas regras acima. Se encontrar algum desses padrões, retorna uma resposta com o valor \"Sim\" e um comentário explicando por que a pergunta é inadequada. Se a pergunta não contém nenhum desses padrões, retorna uma resposta com o valor \"Não\" e um comentário indicando que a pergunta está dentro dos padrões aceitáveis.\nFor troubleshooting, visit: https://python.langchain.com/docs/troubleshooting/errors/OUTPUT_PARSING_FAILURE",
     "output_type": "error",
     "traceback": [
      "\u001b[1;31m---------------------------------------------------------------------------\u001b[0m",
      "\u001b[1;31mJSONDecodeError\u001b[0m                           Traceback (most recent call last)",
      "File \u001b[1;32mc:\\Users\\jefer\\Documents\\Ciencia de dados\\LLMs\\Movies-bot-llm-memory\\.venv\\Lib\\site-packages\\langchain_core\\output_parsers\\json.py:83\u001b[0m, in \u001b[0;36mJsonOutputParser.parse_result\u001b[1;34m(self, result, partial)\u001b[0m\n\u001b[0;32m     82\u001b[0m \u001b[38;5;28;01mtry\u001b[39;00m:\n\u001b[1;32m---> 83\u001b[0m     \u001b[38;5;28;01mreturn\u001b[39;00m \u001b[43mparse_json_markdown\u001b[49m\u001b[43m(\u001b[49m\u001b[43mtext\u001b[49m\u001b[43m)\u001b[49m\n\u001b[0;32m     84\u001b[0m \u001b[38;5;28;01mexcept\u001b[39;00m JSONDecodeError \u001b[38;5;28;01mas\u001b[39;00m e:\n",
      "File \u001b[1;32mc:\\Users\\jefer\\Documents\\Ciencia de dados\\LLMs\\Movies-bot-llm-memory\\.venv\\Lib\\site-packages\\langchain_core\\utils\\json.py:144\u001b[0m, in \u001b[0;36mparse_json_markdown\u001b[1;34m(json_string, parser)\u001b[0m\n\u001b[0;32m    143\u001b[0m     json_str \u001b[38;5;241m=\u001b[39m json_string \u001b[38;5;28;01mif\u001b[39;00m match \u001b[38;5;129;01mis\u001b[39;00m \u001b[38;5;28;01mNone\u001b[39;00m \u001b[38;5;28;01melse\u001b[39;00m match\u001b[38;5;241m.\u001b[39mgroup(\u001b[38;5;241m2\u001b[39m)\n\u001b[1;32m--> 144\u001b[0m \u001b[38;5;28;01mreturn\u001b[39;00m \u001b[43m_parse_json\u001b[49m\u001b[43m(\u001b[49m\u001b[43mjson_str\u001b[49m\u001b[43m,\u001b[49m\u001b[43m \u001b[49m\u001b[43mparser\u001b[49m\u001b[38;5;241;43m=\u001b[39;49m\u001b[43mparser\u001b[49m\u001b[43m)\u001b[49m\n",
      "File \u001b[1;32mc:\\Users\\jefer\\Documents\\Ciencia de dados\\LLMs\\Movies-bot-llm-memory\\.venv\\Lib\\site-packages\\langchain_core\\utils\\json.py:160\u001b[0m, in \u001b[0;36m_parse_json\u001b[1;34m(json_str, parser)\u001b[0m\n\u001b[0;32m    159\u001b[0m \u001b[38;5;66;03m# Parse the JSON string into a Python dictionary\u001b[39;00m\n\u001b[1;32m--> 160\u001b[0m \u001b[38;5;28;01mreturn\u001b[39;00m \u001b[43mparser\u001b[49m\u001b[43m(\u001b[49m\u001b[43mjson_str\u001b[49m\u001b[43m)\u001b[49m\n",
      "File \u001b[1;32mc:\\Users\\jefer\\Documents\\Ciencia de dados\\LLMs\\Movies-bot-llm-memory\\.venv\\Lib\\site-packages\\langchain_core\\utils\\json.py:118\u001b[0m, in \u001b[0;36mparse_partial_json\u001b[1;34m(s, strict)\u001b[0m\n\u001b[0;32m    115\u001b[0m \u001b[38;5;66;03m# If we got here, we ran out of characters to remove\u001b[39;00m\n\u001b[0;32m    116\u001b[0m \u001b[38;5;66;03m# and still couldn't parse the string as JSON, so return the parse error\u001b[39;00m\n\u001b[0;32m    117\u001b[0m \u001b[38;5;66;03m# for the original string.\u001b[39;00m\n\u001b[1;32m--> 118\u001b[0m \u001b[38;5;28;01mreturn\u001b[39;00m \u001b[43mjson\u001b[49m\u001b[38;5;241;43m.\u001b[39;49m\u001b[43mloads\u001b[49m\u001b[43m(\u001b[49m\u001b[43ms\u001b[49m\u001b[43m,\u001b[49m\u001b[43m \u001b[49m\u001b[43mstrict\u001b[49m\u001b[38;5;241;43m=\u001b[39;49m\u001b[43mstrict\u001b[49m\u001b[43m)\u001b[49m\n",
      "File \u001b[1;32m~\\AppData\\Roaming\\uv\\python\\cpython-3.12.0-windows-x86_64-none\\Lib\\json\\__init__.py:359\u001b[0m, in \u001b[0;36mloads\u001b[1;34m(s, cls, object_hook, parse_float, parse_int, parse_constant, object_pairs_hook, **kw)\u001b[0m\n\u001b[0;32m    358\u001b[0m     kw[\u001b[38;5;124m'\u001b[39m\u001b[38;5;124mparse_constant\u001b[39m\u001b[38;5;124m'\u001b[39m] \u001b[38;5;241m=\u001b[39m parse_constant\n\u001b[1;32m--> 359\u001b[0m \u001b[38;5;28;01mreturn\u001b[39;00m \u001b[38;5;28;43mcls\u001b[39;49m\u001b[43m(\u001b[49m\u001b[38;5;241;43m*\u001b[39;49m\u001b[38;5;241;43m*\u001b[39;49m\u001b[43mkw\u001b[49m\u001b[43m)\u001b[49m\u001b[38;5;241;43m.\u001b[39;49m\u001b[43mdecode\u001b[49m\u001b[43m(\u001b[49m\u001b[43ms\u001b[49m\u001b[43m)\u001b[49m\n",
      "File \u001b[1;32m~\\AppData\\Roaming\\uv\\python\\cpython-3.12.0-windows-x86_64-none\\Lib\\json\\decoder.py:337\u001b[0m, in \u001b[0;36mJSONDecoder.decode\u001b[1;34m(self, s, _w)\u001b[0m\n\u001b[0;32m    333\u001b[0m \u001b[38;5;250m\u001b[39m\u001b[38;5;124;03m\"\"\"Return the Python representation of ``s`` (a ``str`` instance\u001b[39;00m\n\u001b[0;32m    334\u001b[0m \u001b[38;5;124;03mcontaining a JSON document).\u001b[39;00m\n\u001b[0;32m    335\u001b[0m \n\u001b[0;32m    336\u001b[0m \u001b[38;5;124;03m\"\"\"\u001b[39;00m\n\u001b[1;32m--> 337\u001b[0m obj, end \u001b[38;5;241m=\u001b[39m \u001b[38;5;28;43mself\u001b[39;49m\u001b[38;5;241;43m.\u001b[39;49m\u001b[43mraw_decode\u001b[49m\u001b[43m(\u001b[49m\u001b[43ms\u001b[49m\u001b[43m,\u001b[49m\u001b[43m \u001b[49m\u001b[43midx\u001b[49m\u001b[38;5;241;43m=\u001b[39;49m\u001b[43m_w\u001b[49m\u001b[43m(\u001b[49m\u001b[43ms\u001b[49m\u001b[43m,\u001b[49m\u001b[43m \u001b[49m\u001b[38;5;241;43m0\u001b[39;49m\u001b[43m)\u001b[49m\u001b[38;5;241;43m.\u001b[39;49m\u001b[43mend\u001b[49m\u001b[43m(\u001b[49m\u001b[43m)\u001b[49m\u001b[43m)\u001b[49m\n\u001b[0;32m    338\u001b[0m end \u001b[38;5;241m=\u001b[39m _w(s, end)\u001b[38;5;241m.\u001b[39mend()\n",
      "File \u001b[1;32m~\\AppData\\Roaming\\uv\\python\\cpython-3.12.0-windows-x86_64-none\\Lib\\json\\decoder.py:355\u001b[0m, in \u001b[0;36mJSONDecoder.raw_decode\u001b[1;34m(self, s, idx)\u001b[0m\n\u001b[0;32m    354\u001b[0m \u001b[38;5;28;01mexcept\u001b[39;00m \u001b[38;5;167;01mStopIteration\u001b[39;00m \u001b[38;5;28;01mas\u001b[39;00m err:\n\u001b[1;32m--> 355\u001b[0m     \u001b[38;5;28;01mraise\u001b[39;00m JSONDecodeError(\u001b[38;5;124m\"\u001b[39m\u001b[38;5;124mExpecting value\u001b[39m\u001b[38;5;124m\"\u001b[39m, s, err\u001b[38;5;241m.\u001b[39mvalue) \u001b[38;5;28;01mfrom\u001b[39;00m \u001b[38;5;28;01mNone\u001b[39;00m\n\u001b[0;32m    356\u001b[0m \u001b[38;5;28;01mreturn\u001b[39;00m obj, end\n",
      "\u001b[1;31mJSONDecodeError\u001b[0m: Expecting value: line 1 column 1 (char 0)",
      "\nThe above exception was the direct cause of the following exception:\n",
      "\u001b[1;31mOutputParserException\u001b[0m                     Traceback (most recent call last)",
      "Cell \u001b[1;32mIn[105], line 1\u001b[0m\n\u001b[1;32m----> 1\u001b[0m avaliacao_ofensividade \u001b[38;5;241m=\u001b[39m \u001b[43mchat_avaliacao_perguntas_ofensivas\u001b[49m\u001b[43m(\u001b[49m\u001b[43mprompt\u001b[49m\u001b[43m)\u001b[49m\n",
      "Cell \u001b[1;32mIn[100], line 73\u001b[0m, in \u001b[0;36mchat_avaliacao_perguntas_ofensivas\u001b[1;34m(mensagem)\u001b[0m\n\u001b[0;32m     19\u001b[0m prompt \u001b[38;5;241m=\u001b[39m PromptTemplate(\n\u001b[0;32m     20\u001b[0m     template\u001b[38;5;241m=\u001b[39m\u001b[38;5;124m\"\"\"\u001b[39m\u001b[38;5;124mYou are an evaluator of offensive questions about movies and series.\u001b[39m\n\u001b[0;32m     21\u001b[0m \u001b[38;5;124m    Your role is to analyze each question submitted by the user and determine whether it contains offensive, discriminatory, or inappropriate content.\u001b[39m\n\u001b[1;32m   (...)\u001b[0m\n\u001b[0;32m     68\u001b[0m partial_variables\u001b[38;5;241m=\u001b[39m{\u001b[38;5;124m\"\u001b[39m\u001b[38;5;124mformat_instructions\u001b[39m\u001b[38;5;124m\"\u001b[39m: parser\u001b[38;5;241m.\u001b[39mget_format_instructions()},\n\u001b[0;32m     69\u001b[0m )                                             \n\u001b[0;32m     71\u001b[0m chain \u001b[38;5;241m=\u001b[39m prompt \u001b[38;5;241m|\u001b[39m model \u001b[38;5;241m|\u001b[39m parser\n\u001b[1;32m---> 73\u001b[0m response \u001b[38;5;241m=\u001b[39m \u001b[43mchain\u001b[49m\u001b[38;5;241;43m.\u001b[39;49m\u001b[43minvoke\u001b[49m\u001b[43m(\u001b[49m\u001b[43m{\u001b[49m\u001b[38;5;124;43m\"\u001b[39;49m\u001b[38;5;124;43mquery\u001b[39;49m\u001b[38;5;124;43m\"\u001b[39;49m\u001b[43m:\u001b[49m\u001b[43m \u001b[49m\u001b[43mmensagem\u001b[49m\u001b[43m}\u001b[49m\u001b[43m)\u001b[49m\n\u001b[0;32m     75\u001b[0m \u001b[38;5;28;01mreturn\u001b[39;00m response\n",
      "File \u001b[1;32mc:\\Users\\jefer\\Documents\\Ciencia de dados\\LLMs\\Movies-bot-llm-memory\\.venv\\Lib\\site-packages\\langchain_core\\runnables\\base.py:3024\u001b[0m, in \u001b[0;36mRunnableSequence.invoke\u001b[1;34m(self, input, config, **kwargs)\u001b[0m\n\u001b[0;32m   3022\u001b[0m             \u001b[38;5;28minput\u001b[39m \u001b[38;5;241m=\u001b[39m context\u001b[38;5;241m.\u001b[39mrun(step\u001b[38;5;241m.\u001b[39minvoke, \u001b[38;5;28minput\u001b[39m, config, \u001b[38;5;241m*\u001b[39m\u001b[38;5;241m*\u001b[39mkwargs)\n\u001b[0;32m   3023\u001b[0m         \u001b[38;5;28;01melse\u001b[39;00m:\n\u001b[1;32m-> 3024\u001b[0m             \u001b[38;5;28minput\u001b[39m \u001b[38;5;241m=\u001b[39m \u001b[43mcontext\u001b[49m\u001b[38;5;241;43m.\u001b[39;49m\u001b[43mrun\u001b[49m\u001b[43m(\u001b[49m\u001b[43mstep\u001b[49m\u001b[38;5;241;43m.\u001b[39;49m\u001b[43minvoke\u001b[49m\u001b[43m,\u001b[49m\u001b[43m \u001b[49m\u001b[38;5;28;43minput\u001b[39;49m\u001b[43m,\u001b[49m\u001b[43m \u001b[49m\u001b[43mconfig\u001b[49m\u001b[43m)\u001b[49m\n\u001b[0;32m   3025\u001b[0m \u001b[38;5;66;03m# finish the root run\u001b[39;00m\n\u001b[0;32m   3026\u001b[0m \u001b[38;5;28;01mexcept\u001b[39;00m \u001b[38;5;167;01mBaseException\u001b[39;00m \u001b[38;5;28;01mas\u001b[39;00m e:\n",
      "File \u001b[1;32mc:\\Users\\jefer\\Documents\\Ciencia de dados\\LLMs\\Movies-bot-llm-memory\\.venv\\Lib\\site-packages\\langchain_core\\output_parsers\\base.py:193\u001b[0m, in \u001b[0;36mBaseOutputParser.invoke\u001b[1;34m(self, input, config, **kwargs)\u001b[0m\n\u001b[0;32m    186\u001b[0m \u001b[38;5;28;01mdef\u001b[39;00m \u001b[38;5;21minvoke\u001b[39m(\n\u001b[0;32m    187\u001b[0m     \u001b[38;5;28mself\u001b[39m,\n\u001b[0;32m    188\u001b[0m     \u001b[38;5;28minput\u001b[39m: Union[\u001b[38;5;28mstr\u001b[39m, BaseMessage],\n\u001b[0;32m    189\u001b[0m     config: Optional[RunnableConfig] \u001b[38;5;241m=\u001b[39m \u001b[38;5;28;01mNone\u001b[39;00m,\n\u001b[0;32m    190\u001b[0m     \u001b[38;5;241m*\u001b[39m\u001b[38;5;241m*\u001b[39mkwargs: Any,\n\u001b[0;32m    191\u001b[0m ) \u001b[38;5;241m-\u001b[39m\u001b[38;5;241m>\u001b[39m T:\n\u001b[0;32m    192\u001b[0m     \u001b[38;5;28;01mif\u001b[39;00m \u001b[38;5;28misinstance\u001b[39m(\u001b[38;5;28minput\u001b[39m, BaseMessage):\n\u001b[1;32m--> 193\u001b[0m         \u001b[38;5;28;01mreturn\u001b[39;00m \u001b[38;5;28;43mself\u001b[39;49m\u001b[38;5;241;43m.\u001b[39;49m\u001b[43m_call_with_config\u001b[49m\u001b[43m(\u001b[49m\n\u001b[0;32m    194\u001b[0m \u001b[43m            \u001b[49m\u001b[38;5;28;43;01mlambda\u001b[39;49;00m\u001b[43m \u001b[49m\u001b[43minner_input\u001b[49m\u001b[43m:\u001b[49m\u001b[43m \u001b[49m\u001b[38;5;28;43mself\u001b[39;49m\u001b[38;5;241;43m.\u001b[39;49m\u001b[43mparse_result\u001b[49m\u001b[43m(\u001b[49m\n\u001b[0;32m    195\u001b[0m \u001b[43m                \u001b[49m\u001b[43m[\u001b[49m\u001b[43mChatGeneration\u001b[49m\u001b[43m(\u001b[49m\u001b[43mmessage\u001b[49m\u001b[38;5;241;43m=\u001b[39;49m\u001b[43minner_input\u001b[49m\u001b[43m)\u001b[49m\u001b[43m]\u001b[49m\n\u001b[0;32m    196\u001b[0m \u001b[43m            \u001b[49m\u001b[43m)\u001b[49m\u001b[43m,\u001b[49m\n\u001b[0;32m    197\u001b[0m \u001b[43m            \u001b[49m\u001b[38;5;28;43minput\u001b[39;49m\u001b[43m,\u001b[49m\n\u001b[0;32m    198\u001b[0m \u001b[43m            \u001b[49m\u001b[43mconfig\u001b[49m\u001b[43m,\u001b[49m\n\u001b[0;32m    199\u001b[0m \u001b[43m            \u001b[49m\u001b[43mrun_type\u001b[49m\u001b[38;5;241;43m=\u001b[39;49m\u001b[38;5;124;43m\"\u001b[39;49m\u001b[38;5;124;43mparser\u001b[39;49m\u001b[38;5;124;43m\"\u001b[39;49m\u001b[43m,\u001b[49m\n\u001b[0;32m    200\u001b[0m \u001b[43m        \u001b[49m\u001b[43m)\u001b[49m\n\u001b[0;32m    201\u001b[0m     \u001b[38;5;28;01melse\u001b[39;00m:\n\u001b[0;32m    202\u001b[0m         \u001b[38;5;28;01mreturn\u001b[39;00m \u001b[38;5;28mself\u001b[39m\u001b[38;5;241m.\u001b[39m_call_with_config(\n\u001b[0;32m    203\u001b[0m             \u001b[38;5;28;01mlambda\u001b[39;00m inner_input: \u001b[38;5;28mself\u001b[39m\u001b[38;5;241m.\u001b[39mparse_result([Generation(text\u001b[38;5;241m=\u001b[39minner_input)]),\n\u001b[0;32m    204\u001b[0m             \u001b[38;5;28minput\u001b[39m,\n\u001b[0;32m    205\u001b[0m             config,\n\u001b[0;32m    206\u001b[0m             run_type\u001b[38;5;241m=\u001b[39m\u001b[38;5;124m\"\u001b[39m\u001b[38;5;124mparser\u001b[39m\u001b[38;5;124m\"\u001b[39m,\n\u001b[0;32m    207\u001b[0m         )\n",
      "File \u001b[1;32mc:\\Users\\jefer\\Documents\\Ciencia de dados\\LLMs\\Movies-bot-llm-memory\\.venv\\Lib\\site-packages\\langchain_core\\runnables\\base.py:1927\u001b[0m, in \u001b[0;36mRunnable._call_with_config\u001b[1;34m(self, func, input, config, run_type, serialized, **kwargs)\u001b[0m\n\u001b[0;32m   1923\u001b[0m     context \u001b[38;5;241m=\u001b[39m copy_context()\n\u001b[0;32m   1924\u001b[0m     context\u001b[38;5;241m.\u001b[39mrun(_set_config_context, child_config)\n\u001b[0;32m   1925\u001b[0m     output \u001b[38;5;241m=\u001b[39m cast(\n\u001b[0;32m   1926\u001b[0m         Output,\n\u001b[1;32m-> 1927\u001b[0m         \u001b[43mcontext\u001b[49m\u001b[38;5;241;43m.\u001b[39;49m\u001b[43mrun\u001b[49m\u001b[43m(\u001b[49m\n\u001b[0;32m   1928\u001b[0m \u001b[43m            \u001b[49m\u001b[43mcall_func_with_variable_args\u001b[49m\u001b[43m,\u001b[49m\u001b[43m  \u001b[49m\u001b[38;5;66;43;03m# type: ignore[arg-type]\u001b[39;49;00m\n\u001b[0;32m   1929\u001b[0m \u001b[43m            \u001b[49m\u001b[43mfunc\u001b[49m\u001b[43m,\u001b[49m\u001b[43m  \u001b[49m\u001b[38;5;66;43;03m# type: ignore[arg-type]\u001b[39;49;00m\n\u001b[0;32m   1930\u001b[0m \u001b[43m            \u001b[49m\u001b[38;5;28;43minput\u001b[39;49m\u001b[43m,\u001b[49m\u001b[43m  \u001b[49m\u001b[38;5;66;43;03m# type: ignore[arg-type]\u001b[39;49;00m\n\u001b[0;32m   1931\u001b[0m \u001b[43m            \u001b[49m\u001b[43mconfig\u001b[49m\u001b[43m,\u001b[49m\n\u001b[0;32m   1932\u001b[0m \u001b[43m            \u001b[49m\u001b[43mrun_manager\u001b[49m\u001b[43m,\u001b[49m\n\u001b[0;32m   1933\u001b[0m \u001b[43m            \u001b[49m\u001b[38;5;241;43m*\u001b[39;49m\u001b[38;5;241;43m*\u001b[39;49m\u001b[43mkwargs\u001b[49m\u001b[43m,\u001b[49m\n\u001b[0;32m   1934\u001b[0m \u001b[43m        \u001b[49m\u001b[43m)\u001b[49m,\n\u001b[0;32m   1935\u001b[0m     )\n\u001b[0;32m   1936\u001b[0m \u001b[38;5;28;01mexcept\u001b[39;00m \u001b[38;5;167;01mBaseException\u001b[39;00m \u001b[38;5;28;01mas\u001b[39;00m e:\n\u001b[0;32m   1937\u001b[0m     run_manager\u001b[38;5;241m.\u001b[39mon_chain_error(e)\n",
      "File \u001b[1;32mc:\\Users\\jefer\\Documents\\Ciencia de dados\\LLMs\\Movies-bot-llm-memory\\.venv\\Lib\\site-packages\\langchain_core\\runnables\\config.py:396\u001b[0m, in \u001b[0;36mcall_func_with_variable_args\u001b[1;34m(func, input, config, run_manager, **kwargs)\u001b[0m\n\u001b[0;32m    394\u001b[0m \u001b[38;5;28;01mif\u001b[39;00m run_manager \u001b[38;5;129;01mis\u001b[39;00m \u001b[38;5;129;01mnot\u001b[39;00m \u001b[38;5;28;01mNone\u001b[39;00m \u001b[38;5;129;01mand\u001b[39;00m accepts_run_manager(func):\n\u001b[0;32m    395\u001b[0m     kwargs[\u001b[38;5;124m\"\u001b[39m\u001b[38;5;124mrun_manager\u001b[39m\u001b[38;5;124m\"\u001b[39m] \u001b[38;5;241m=\u001b[39m run_manager\n\u001b[1;32m--> 396\u001b[0m \u001b[38;5;28;01mreturn\u001b[39;00m \u001b[43mfunc\u001b[49m\u001b[43m(\u001b[49m\u001b[38;5;28;43minput\u001b[39;49m\u001b[43m,\u001b[49m\u001b[43m \u001b[49m\u001b[38;5;241;43m*\u001b[39;49m\u001b[38;5;241;43m*\u001b[39;49m\u001b[43mkwargs\u001b[49m\u001b[43m)\u001b[49m\n",
      "File \u001b[1;32mc:\\Users\\jefer\\Documents\\Ciencia de dados\\LLMs\\Movies-bot-llm-memory\\.venv\\Lib\\site-packages\\langchain_core\\output_parsers\\base.py:194\u001b[0m, in \u001b[0;36mBaseOutputParser.invoke.<locals>.<lambda>\u001b[1;34m(inner_input)\u001b[0m\n\u001b[0;32m    186\u001b[0m \u001b[38;5;28;01mdef\u001b[39;00m \u001b[38;5;21minvoke\u001b[39m(\n\u001b[0;32m    187\u001b[0m     \u001b[38;5;28mself\u001b[39m,\n\u001b[0;32m    188\u001b[0m     \u001b[38;5;28minput\u001b[39m: Union[\u001b[38;5;28mstr\u001b[39m, BaseMessage],\n\u001b[0;32m    189\u001b[0m     config: Optional[RunnableConfig] \u001b[38;5;241m=\u001b[39m \u001b[38;5;28;01mNone\u001b[39;00m,\n\u001b[0;32m    190\u001b[0m     \u001b[38;5;241m*\u001b[39m\u001b[38;5;241m*\u001b[39mkwargs: Any,\n\u001b[0;32m    191\u001b[0m ) \u001b[38;5;241m-\u001b[39m\u001b[38;5;241m>\u001b[39m T:\n\u001b[0;32m    192\u001b[0m     \u001b[38;5;28;01mif\u001b[39;00m \u001b[38;5;28misinstance\u001b[39m(\u001b[38;5;28minput\u001b[39m, BaseMessage):\n\u001b[0;32m    193\u001b[0m         \u001b[38;5;28;01mreturn\u001b[39;00m \u001b[38;5;28mself\u001b[39m\u001b[38;5;241m.\u001b[39m_call_with_config(\n\u001b[1;32m--> 194\u001b[0m             \u001b[38;5;28;01mlambda\u001b[39;00m inner_input: \u001b[38;5;28;43mself\u001b[39;49m\u001b[38;5;241;43m.\u001b[39;49m\u001b[43mparse_result\u001b[49m\u001b[43m(\u001b[49m\n\u001b[0;32m    195\u001b[0m \u001b[43m                \u001b[49m\u001b[43m[\u001b[49m\u001b[43mChatGeneration\u001b[49m\u001b[43m(\u001b[49m\u001b[43mmessage\u001b[49m\u001b[38;5;241;43m=\u001b[39;49m\u001b[43minner_input\u001b[49m\u001b[43m)\u001b[49m\u001b[43m]\u001b[49m\n\u001b[0;32m    196\u001b[0m \u001b[43m            \u001b[49m\u001b[43m)\u001b[49m,\n\u001b[0;32m    197\u001b[0m             \u001b[38;5;28minput\u001b[39m,\n\u001b[0;32m    198\u001b[0m             config,\n\u001b[0;32m    199\u001b[0m             run_type\u001b[38;5;241m=\u001b[39m\u001b[38;5;124m\"\u001b[39m\u001b[38;5;124mparser\u001b[39m\u001b[38;5;124m\"\u001b[39m,\n\u001b[0;32m    200\u001b[0m         )\n\u001b[0;32m    201\u001b[0m     \u001b[38;5;28;01melse\u001b[39;00m:\n\u001b[0;32m    202\u001b[0m         \u001b[38;5;28;01mreturn\u001b[39;00m \u001b[38;5;28mself\u001b[39m\u001b[38;5;241m.\u001b[39m_call_with_config(\n\u001b[0;32m    203\u001b[0m             \u001b[38;5;28;01mlambda\u001b[39;00m inner_input: \u001b[38;5;28mself\u001b[39m\u001b[38;5;241m.\u001b[39mparse_result([Generation(text\u001b[38;5;241m=\u001b[39minner_input)]),\n\u001b[0;32m    204\u001b[0m             \u001b[38;5;28minput\u001b[39m,\n\u001b[0;32m    205\u001b[0m             config,\n\u001b[0;32m    206\u001b[0m             run_type\u001b[38;5;241m=\u001b[39m\u001b[38;5;124m\"\u001b[39m\u001b[38;5;124mparser\u001b[39m\u001b[38;5;124m\"\u001b[39m,\n\u001b[0;32m    207\u001b[0m         )\n",
      "File \u001b[1;32mc:\\Users\\jefer\\Documents\\Ciencia de dados\\LLMs\\Movies-bot-llm-memory\\.venv\\Lib\\site-packages\\langchain_core\\output_parsers\\json.py:86\u001b[0m, in \u001b[0;36mJsonOutputParser.parse_result\u001b[1;34m(self, result, partial)\u001b[0m\n\u001b[0;32m     84\u001b[0m \u001b[38;5;28;01mexcept\u001b[39;00m JSONDecodeError \u001b[38;5;28;01mas\u001b[39;00m e:\n\u001b[0;32m     85\u001b[0m     msg \u001b[38;5;241m=\u001b[39m \u001b[38;5;124mf\u001b[39m\u001b[38;5;124m\"\u001b[39m\u001b[38;5;124mInvalid json output: \u001b[39m\u001b[38;5;132;01m{\u001b[39;00mtext\u001b[38;5;132;01m}\u001b[39;00m\u001b[38;5;124m\"\u001b[39m\n\u001b[1;32m---> 86\u001b[0m     \u001b[38;5;28;01mraise\u001b[39;00m OutputParserException(msg, llm_output\u001b[38;5;241m=\u001b[39mtext) \u001b[38;5;28;01mfrom\u001b[39;00m \u001b[38;5;21;01me\u001b[39;00m\n",
      "\u001b[1;31mOutputParserException\u001b[0m: Invalid json output: Eu posso ajudar com isso. Aqui está um exemplo de como eu posso analisar cada pergunta e determinar se ela contém conteúdo ofensivo, discriminatório ou inadequado:\n\n**Função para avaliar perguntas**\n\n```python\nimport re\n\ndef avaliar_pergunta(pergunta):\n    # Regras para avaliar perguntas\n    regras = [\n        r\"porque as mulheres são ruins?\",  # Pergunta com conteúdo discriminatório\n        r\"porque os atores de um certo país são ruins?\",  # Pergunta com conteúdo discriminatório\n        r\"porque um certo grupo étnico nunca é bom em papéis de herói?\",  # Pergunta com conteúdo discriminatório\n        r\"apenas gosto de filmes com pessoas brancas\",  # Pergunta com conteúdo ofensivo\n        r\"porque os atores da Ásia são ruins?\",  # Pergunta com conteúdo discriminatório\n        r\"porque as pessoas de cor são ruins em papéis de herói?\",  # Pergunta com conteúdo discriminatório\n    ]\n\n    # Verificar se a pergunta contém algum dos padrões acima\n    for regra in regras:\n        if re.search(regra, pergunta, re.IGNORECASE):\n            return {\n                \"boleano\": \"Sim\",\n                \"comentario\": \"Essa pergunta contém conteúdo discriminatório e não é permitida. Por favor, evite generalizações e reformule a pergunta com respeito.\"\n            }\n\n    # Se a pergunta não contém nenhum dos padrões acima, ela está dentro dos padrões aceitáveis\n    return {\n        \"boleano\": \"Não\",\n        \"comentario\": \"A pergunta atende aos padrões aceitáveis.\"\n    }\n```\n\n**Exemplos de uso**\n\n```python\nprint(avaliar_pergunta(\"Por que as mulheres são ruins?\"))\nprint(avaliar_pergunta(\"O que são os melhores filmes de ficção científica dos últimos 10 anos?\"))\nprint(avaliar_pergunta(\"Por que os atores de um certo país são ruins?\"))\nprint(avaliar_pergunta(\"O que é o mais popular Netflix série atualmente?\"))\nprint(avaliar_pergunta(\"Por que um certo grupo étnico nunca é bom em papéis de herói?\"))\nprint(avaliar_pergunta(\"O que são os melhores documentários sobre cinema clássico?\"))\nprint(avaliar_pergunta(\"Eu apenas gosto de filmes com pessoas brancas; recomende um filme assim.\"))\n```\n\nEssa função `avaliar_pergunta` verifica se a pergunta contém algum dos padrões discriminatórios ou ofensivos definidos nas regras acima. Se encontrar algum desses padrões, retorna uma resposta com o valor \"Sim\" e um comentário explicando por que a pergunta é inadequada. Se a pergunta não contém nenhum desses padrões, retorna uma resposta com o valor \"Não\" e um comentário indicando que a pergunta está dentro dos padrões aceitáveis.\nFor troubleshooting, visit: https://python.langchain.com/docs/troubleshooting/errors/OUTPUT_PARSING_FAILURE"
     ]
    }
   ],
   "source": [
    "avaliacao_ofensividade = chat_avaliacao_perguntas_ofensivas(prompt)"
   ]
  },
  {
   "cell_type": "code",
   "execution_count": null,
   "metadata": {},
   "outputs": [],
   "source": [
    "perguntas = ['Boa noite meu nome e jeferson', \n",
    "             'qual e o meu nome', \n",
    "             'Me fale um filme de acao', \n",
    "             'Me fale um filme de acao brasileiro',\n",
    "             'Me fale o que estreias em dezembro de 2024 na netflix',\n",
    "             'Me fale o que estreias em dezembro de 2024 na prime video',\n",
    "             'Me fale o que estreias em dezembro de 2024 na disney plus',\n",
    "             'Me fale o que estreias em dezembro de 2024 na hulu',\n",
    "             'Me fale o que estreias em dezembro de 2024 no cinema',\n",
    "             ]\n",
    "\n",
    "for pergunta in perguntas:\n",
    "    print(chat_reposta_condicional(pergunta, get_by_session_id, config = config))\n",
    "    print('\\n')\n",
    "    print('------------------')\n",
    "    print('\\n')"
   ]
  },
  {
   "cell_type": "code",
   "execution_count": 7,
   "metadata": {},
   "outputs": [],
   "source": [
    "del store['foo'].messages[:2] "
   ]
  },
  {
   "cell_type": "code",
   "execution_count": 8,
   "metadata": {},
   "outputs": [
    {
     "data": {
      "text/plain": [
       "[HumanMessage(content='qual e o meu nome', additional_kwargs={}, response_metadata={}),\n",
       " AIMessage(content='Conversa sobre filmes e séries iniciada pelo usuário que busca recomendações informações sobre um título específico ou conhecimento sobre um gênero ou estilo de cinema.', additional_kwargs={}, response_metadata={}),\n",
       " HumanMessage(content='me fale um filme de acao', additional_kwargs={}, response_metadata={}),\n",
       " AIMessage(content='Se você está procurando um filme de ação sugestões incluem O Último Samurai de Akira Kurosawa 007 O Ouro de Goldfinger e Demon Slayer - Kimetsu no Yaiba The Movie ou Paper Tigers', additional_kwargs={}, response_metadata={}),\n",
       " HumanMessage(content='me fale um filme de acao brasileiro', additional_kwargs={}, response_metadata={}),\n",
       " AIMessage(content='Filmes de ação brasileiros incluem Bicho de Sete Cabeças Carandiru Estômago e Bacurau todos disponíveis em plataformas de streaming', additional_kwargs={}, response_metadata={}),\n",
       " HumanMessage(content='me fale o que estreias em dezembro de 2024 na netflix', additional_kwargs={}, response_metadata={}),\n",
       " AIMessage(content='Duas estreias destacadas em dezembro de 2024 na Netflix sao o filme \"Cem Anos de Solidao\" e uma recomendação para a plataforma Crunchyroll em janeiro de 2025 que nao esta relacionada a Netflix', additional_kwargs={}, response_metadata={}),\n",
       " HumanMessage(content='me fale o que estreias em dezembro de 2024 na prime video', additional_kwargs={}, response_metadata={}),\n",
       " AIMessage(content='Algumas estreias em dezembro de 2024 na Prime Video incluem Sua Culpa uma produção norueguesa Missão Porto Seguro um filme brasileiro Reacher terceira temporada e A Roda do Tempo terceira temporada', additional_kwargs={}, response_metadata={}),\n",
       " HumanMessage(content='me fale o que estreias em dezembro de 2024 na disney plus', additional_kwargs={}, response_metadata={}),\n",
       " AIMessage(content='Estreias em dezembro de 2024 na Disney incluem A Guerra dos Mundos, A Pequena Sereia, Guardiões da Galáxia e A Maldição do Faro', additional_kwargs={}, response_metadata={}),\n",
       " HumanMessage(content='me fale o que estreias em dezembro de 2024 na hulu', additional_kwargs={}, response_metadata={}),\n",
       " AIMessage(content='Estreia em dezembro de 2024 na Hulu Sting Aranha Assassina filme de ação com Noni Hazlehurst Jermaine Fowler e Alyla Browne', additional_kwargs={}, response_metadata={}),\n",
       " HumanMessage(content=\"me fale o que estreias em dezembro de 2024 no cinema\\n%%%\\nNão Fale o Mal\\nJames Watkins\\nJames McAvoy, Mackenzie Davis, Aisling Franciosi\\nData de lançamento: 12 de setembro de 2024\\nDuração: 1h 50min\\n\\nHellboy e o Homem Torto\\nBrian Taylor\\nJack Kesy, Jefferson White, Adeline Rudolph\\nData de lançamento: 5 de setembro de 2024\\nDuração: 1h 40min\\n\\nSting: Aranha Assassina\\nKiah Roache-Turner\\nNoni Hazlehurst, Jermaine Fowler, Alyla Browne\\nData de lançamento: 5 de dezembro de 2024\\nDuração: 1h 32min\\n\\nLobos\\nJon Watts\\nBrad Pitt, George Clooney, Amy Ryan\\nData de lançamento: 20 de setembro de 2024\\nDuração: 1h 48min\\n\\nTransformers: O Início\\nJosh Cooley\\nKeegan-Michael Key, Chris Hemsworth, Brian Tyree Henry\\nData de lançamento: 26 de setembro de 2024\\nDuração: 1h 44min\\n\\nCoringa: Delírio a Dois\\nTodd Phillips\\nJoaquin Phoenix, Lady Gaga, Brendan Gleeson\\nData de lançamento: 3 de outubro de 2024\\nDuração: 2h 19min\\n\\nRobô Selvagem\\nChris Sanders\\nLupita Nyong'o, Pedro Pascal, Kit Connor\\nData de lançamento: 10 de outubro de 2024\\nDuração: 1h 42min\\n\\nSorria 2\\nKelly Marcel\\nTom Hardy, Juno Temple, Alanna Ubach\\nData de lançamento: 24 de outubro de 2024\\nDuração: 1h 50min\", additional_kwargs={}, response_metadata={}),\n",
       " AIMessage(content=' Algumas estreias em dezembro de 2024 no cinema incluem:\\n\\n- Sting: Aranha Assassina, um filme de ação estrelado por Noni Hazlehurst, Jermaine Fowler e Alyla Browne, com duração de 1h 32min e lançamento em 5 de dezembro de 2024.', additional_kwargs={}, response_metadata={})]"
      ]
     },
     "execution_count": 8,
     "metadata": {},
     "output_type": "execute_result"
    }
   ],
   "source": [
    "store['foo'].messages"
   ]
  },
  {
   "cell_type": "markdown",
   "metadata": {},
   "source": [
    "# Chat de verificacao de perguntas"
   ]
  },
  {
   "cell_type": "code",
   "execution_count": 4,
   "metadata": {},
   "outputs": [],
   "source": [
    "from langchain.prompts.chat import (\n",
    "    ChatPromptTemplate,\n",
    "    SystemMessagePromptTemplate,\n",
    "    HumanMessagePromptTemplate\n",
    ")\n",
    "from langchain_groq import ChatGroq\n",
    "from langchain_core.output_parsers import StrOutputParser\n",
    "import os\n",
    "#from funcoes_auxiliares import search_and_incorporateta_LinkupClient\n",
    "\n",
    "def chat_avaliacao(mensagem):\n",
    "    model = ChatGroq(\n",
    "            api_key=os.getenv(\"GROQ_API_KEY\"),\n",
    "            model=\"llama-3.2-11b-vision-preview\",\n",
    "            temperature=0.5,\n",
    "        )\n",
    "        \n",
    "        \n",
    "    prompt = ChatPromptTemplate.from_messages(\n",
    "            [\n",
    "                SystemMessagePromptTemplate.from_template(\"\"\"\n",
    "                                                        You are an evaluator of questions. Your task is to determine if a given input is related to movies, series, \n",
    "                                                        or questions about these topics. Answer so \"Yes\" if the input is related, and \"No\" if it is not. Below are examples to help you understand the task.\n",
    "\n",
    "                                                        Examples:\n",
    "                                                        Input 1:\n",
    "                                                        \"What are the new movie releases on Netflix this month?\"\n",
    "                                                        Evaluation: Yes.\n",
    "\n",
    "                                                        Input 2:\n",
    "                                                        \"How does the chemical formula for sodium chloride work?\"\n",
    "                                                        Evaluation: No.\n",
    "\n",
    "                                                        Input 3:\n",
    "                                                        \"Who won the Oscar for Best Actor in 2023?\"\n",
    "                                                        Evaluation: Yes.\n",
    "\n",
    "                                                        Input 4:\n",
    "                                                        \"What is the difference between a CPU and a GPU?\"\n",
    "                                                        Evaluation: No.\n",
    "\n",
    "                                                        Input 5:\n",
    "                                                        \"What is the best order to watch the Marvel Cinematic Universe movies?\"\n",
    "                                                        Evaluation: Yes.\n",
    "\n",
    "                                                        Input 6:\n",
    "                                                        \"What is the duration of Messi's contract with Inter Miami?\"\n",
    "                                                        Evaluation: No.\n",
    "\n",
    "                                                        Input 7:\n",
    "                                                        \"When does the second season of The Witcher premiere on Netflix?\"\n",
    "                                                        Evaluation: Yes.  \n",
    "                                                        \n",
    "                                                        Input 8:\n",
    "                                                        \"My name is jeferson\"\n",
    "                                                        Evaluation: No.    \n",
    "                                                        \n",
    "                                                        Input 9:\n",
    "                                                        \"Who was _______\"\n",
    "                                                        Evaluation: No. \n",
    "                                                        \"\"\n",
    "                                                        \n",
    "                                                        \"\"\"),\n",
    "                HumanMessagePromptTemplate.from_template(\"{input}\"),\n",
    "            ]\n",
    "        )\n",
    "        \n",
    "        \n",
    "    llm_chain = prompt | model| StrOutputParser()\n",
    "        \n",
    "        \n",
    "        \n",
    "    resposta = llm_chain.invoke({\"input\": mensagem})\n",
    "        \n",
    "        \n",
    "    return {\"messages\": [(\"assistant\", resposta)]}"
   ]
  },
  {
   "cell_type": "code",
   "execution_count": 5,
   "metadata": {},
   "outputs": [
    {
     "data": {
      "text/plain": [
       "{'messages': [('assistant', 'No.')]}"
      ]
     },
     "execution_count": 5,
     "metadata": {},
     "output_type": "execute_result"
    }
   ],
   "source": [
    "chat_avaliacao('Que foi Napoleao Bonaparte?')"
   ]
  },
  {
   "cell_type": "code",
   "execution_count": 6,
   "metadata": {},
   "outputs": [
    {
     "name": "stdout",
     "output_type": "stream",
     "text": [
      "Boa noite meu nome e jeferson\n",
      "{'messages': [('assistant', 'No.')]}\n",
      "----------\n",
      "qual e o meu nome\n",
      "{'messages': [('assistant', 'No.')]}\n",
      "----------\n",
      "Me fale um filme de acao\n",
      "{'messages': [('assistant', 'Yes.')]}\n",
      "----------\n",
      "Me fale um filme de acao brasileiro\n",
      "{'messages': [('assistant', 'Yes.')]}\n",
      "----------\n",
      "Me fale o que estreias em dezembro de 2024 na netflix\n",
      "{'messages': [('assistant', 'Yes.')]}\n",
      "----------\n",
      "Me fale o que estreias em dezembro de 2024 na prime video\n",
      "{'messages': [('assistant', 'Sim.')]}\n",
      "----------\n",
      "Me fale o que estreias em dezembro de 2024 na disney plus\n",
      "{'messages': [('assistant', 'Yes.')]}\n",
      "----------\n",
      "Me fale o que estreias em dezembro de 2024 na hulu\n",
      "{'messages': [('assistant', 'Yes.')]}\n",
      "----------\n",
      "Me fale o que estreias em dezembro de 2024 no cinema\n",
      "{'messages': [('assistant', 'Yes.')]}\n",
      "----------\n",
      "Me fale o dia de hoje\n",
      "{'messages': [('assistant', 'Não.')]}\n",
      "----------\n",
      "Qual e acor do ceu\n",
      "{'messages': [('assistant', 'Não.')]}\n",
      "----------\n",
      "Quem foi napoleaoQuem \n",
      "{'messages': [('assistant', 'Não.')]}\n",
      "----------\n"
     ]
    }
   ],
   "source": [
    "perguntas = ['Boa noite meu nome e jeferson', \n",
    "             'qual e o meu nome', \n",
    "             'Me fale um filme de acao', \n",
    "             'Me fale um filme de acao brasileiro',\n",
    "             'Me fale o que estreias em dezembro de 2024 na netflix',\n",
    "             'Me fale o que estreias em dezembro de 2024 na prime video',\n",
    "             'Me fale o que estreias em dezembro de 2024 na disney plus',\n",
    "             'Me fale o que estreias em dezembro de 2024 na hulu',\n",
    "             'Me fale o que estreias em dezembro de 2024 no cinema',\n",
    "             'Me fale o dia de hoje',\n",
    "             'Qual e acor do ceu',\n",
    "             'Quem foi napoleao'\n",
    "             'Quem '\n",
    "             ]\n",
    "for pergunta in perguntas:\n",
    "    print(pergunta)\n",
    "    print(chat_avaliacao(pergunta))\n",
    "    print('-'*10)"
   ]
  },
  {
   "cell_type": "code",
   "execution_count": 6,
   "metadata": {},
   "outputs": [
    {
     "name": "stdout",
     "output_type": "stream",
     "text": [
      "Boa noite meu nome e jeferson\n"
     ]
    },
    {
     "name": "stderr",
     "output_type": "stream",
     "text": [
      "INFO:httpx:HTTP Request: POST https://api.groq.com/openai/v1/chat/completions \"HTTP/1.1 200 OK\"\n"
     ]
    },
    {
     "name": "stdout",
     "output_type": "stream",
     "text": [
      "{'messages': [('assistant', 'No.')]}\n"
     ]
    },
    {
     "name": "stderr",
     "output_type": "stream",
     "text": [
      "INFO:httpx:HTTP Request: POST https://api.groq.com/openai/v1/chat/completions \"HTTP/1.1 200 OK\"\n"
     ]
    },
    {
     "name": "stdout",
     "output_type": "stream",
     "text": [
      "Boa noite, Jeferson! É um prazer conhecê-lo. Estou aqui para ajudar com qualquer coisa relacionada a filmes e séries. Qual é o seu interesse? Você está procurando por recomendações ou informações sobre algum título específico?\n",
      "----------\n",
      "qual e o meu nome\n"
     ]
    },
    {
     "name": "stderr",
     "output_type": "stream",
     "text": [
      "INFO:httpx:HTTP Request: POST https://api.groq.com/openai/v1/chat/completions \"HTTP/1.1 200 OK\"\n"
     ]
    },
    {
     "name": "stdout",
     "output_type": "stream",
     "text": [
      "{'messages': [('assistant', 'No.')]}\n"
     ]
    },
    {
     "name": "stderr",
     "output_type": "stream",
     "text": [
      "INFO:httpx:HTTP Request: POST https://api.groq.com/openai/v1/chat/completions \"HTTP/1.1 200 OK\"\n",
      "INFO:httpx:HTTP Request: POST https://api.groq.com/openai/v1/chat/completions \"HTTP/1.1 200 OK\"\n"
     ]
    },
    {
     "name": "stdout",
     "output_type": "stream",
     "text": [
      "Seu nome é Jeferson! É um prazer conhecê-lo! Você gostaria de saber sobre algum filme ou série em particular?\n",
      "----------\n",
      "Me fale um filme de acao\n"
     ]
    },
    {
     "name": "stderr",
     "output_type": "stream",
     "text": [
      "INFO:httpx:HTTP Request: POST https://api.groq.com/openai/v1/chat/completions \"HTTP/1.1 200 OK\"\n"
     ]
    },
    {
     "name": "stdout",
     "output_type": "stream",
     "text": [
      "{'messages': [('assistant', 'Yes.')]}\n"
     ]
    },
    {
     "name": "stderr",
     "output_type": "stream",
     "text": [
      "INFO:httpx:HTTP Request: GET https://api.linkup.so/v1/search?q=me%20fale%20um%20filme%20de%20acao&depth=standard&outputType=searchResults&includeImages=false \"HTTP/1.1 200 OK\"\n"
     ]
    },
    {
     "name": "stdout",
     "output_type": "stream",
     "text": [
      "https://www.imdb.com/list/ls098726408/\n"
     ]
    },
    {
     "name": "stderr",
     "output_type": "stream",
     "text": [
      "Fetching pages: 100%|##########| 1/1 [00:01<00:00,  1.65s/it]\n"
     ]
    },
    {
     "name": "stdout",
     "output_type": "stream",
     "text": [
      "https://www.imdb.com/list/ls509416951/\n"
     ]
    },
    {
     "name": "stderr",
     "output_type": "stream",
     "text": [
      "Fetching pages: 100%|##########| 1/1 [00:01<00:00,  1.77s/it]\n"
     ]
    },
    {
     "name": "stdout",
     "output_type": "stream",
     "text": [
      "https://observatoriodocinema.uol.com.br/filmes/os-10-melhores-filmes-de-acao-de-2024/\n"
     ]
    },
    {
     "name": "stderr",
     "output_type": "stream",
     "text": [
      "Fetching pages: 100%|##########| 1/1 [00:00<00:00,  8.23it/s]\n"
     ]
    },
    {
     "name": "stdout",
     "output_type": "stream",
     "text": [
      "https://www.imdb.com/list/ls057119790/\n"
     ]
    },
    {
     "name": "stderr",
     "output_type": "stream",
     "text": [
      "Fetching pages: 100%|##########| 1/1 [00:02<00:00,  2.25s/it]\n"
     ]
    },
    {
     "name": "stdout",
     "output_type": "stream",
     "text": [
      "https://www.imdb.com/list/ls054824189/\n"
     ]
    },
    {
     "name": "stderr",
     "output_type": "stream",
     "text": [
      "Fetching pages: 100%|##########| 1/1 [00:02<00:00,  2.38s/it]\n",
      "INFO:httpx:HTTP Request: POST https://api.groq.com/openai/v1/chat/completions \"HTTP/1.1 200 OK\"\n"
     ]
    },
    {
     "name": "stdout",
     "output_type": "stream",
     "text": [
      "{'messages': [('user', \"me fale um filme de acao\\n%%%\\n* 3. Rambo III\\nRambo mounts a one-man mission to rescue his friend Colonel Trautman from the clutches of the formidable invading Soviet forces in Afghanistan.\\nDirector: Peter MacDonald\\nStars: Sylvester Stallone, Richard Crenna, Marc de Jonge\\n\\n* 4. Atomic Blonde\\nAn undercover MI6 agent is sent to Berlin during the Cold War to investigate the murder of a fellow agent and recover a missing list of double agents.\\nDirector: David Leitch\\nStars: Charlize Theron, James McAvoy, John Goodman\\n\\n* 5. Rambo: First Blood Part II\\nRambo returns to the jungles of Vietnam on a mission to infiltrate an enemy base-camp and rescue the American POWs still held captive there.\\nDirector: George P. Cosmatos\\nStars: Sylvester Stallone, Richard Crenna, Charles Napier\\n\\n* 6. The Raid\\nAn international fugitive and his thugs trap a small Specials Operations force inside a building. Based on the concept from Gareth Evans' 2011 film 'The Raid: Redemption'.\\nDirector: Patrick Hughes, Ali Abbas Zafar\\n\\n* 7. The Raid: Redemption\\nA S.W.A.T. team becomes trapped in a tenement run by a ruthless mobster and his army of killers and thugs.\\nDirector: Gareth Evans\\nStars: Iko Uwais, Ananda George, Ray Sahetapy\\n\\n* 8. Skyfall\\nJames Bond's loyalty to M is tested when her past comes back to haunt her. When MI6 comes under attack, 007 must track down and destroy the threat, no matter how personal the cost.\\nDirector: Sam Mendes\\nStars: Daniel Craig, Javier Bardem, Naomie Harris\\n\\n* 9. Mad Max: Fury Road\\nIn a post-apocalyptic wasteland, a woman rebels against a tyrannical ruler in search for her homeland with the aid of a group of female prisoners, a psychotic worshipper and a drifter named Max.\\nDirector: George Miller\\nStars: Tom Hardy, Charlize Theron, Nicholas Hoult\\n\\n* 10. John Wick: Chapter 2\\nAfter returning to the criminal underworld to repay a debt, John Wick discovers that a large bounty has been put on his life.\\nDirector: Chad Stahelski\\nStars: Keanu Reeves, Riccardo Scamarcio, Ian McShane\\n\\n* 11. Sicario\\nAn idealistic FBI agent is enlisted by a government task force to aid in the escalating war against drugs at the border area between the U.S. and Mexico.\\nDirector: Denis Villeneuve\\nStars: Emily Blunt, Josh Brolin, Benicio Del Toro\\n\\n* 12. Kill Bill: Vol. 2\\nThe Bride continues her quest of vengeance against her former boss and lover Bill, the reclusive bouncer Budd, and the treacherous, one-eyed Elle.\\nDirector: Quentin Tarantino\\nStars: Uma Thurman, David Carradine, Michael Madsen\\n\\n* 13. Warrior\\nThe youngest son of an alcoholic former boxer returns home, where he's trained by his father for competition in a mixed martial arts tournament - a path that puts the fighter on a collision course with his estranged, older brother.\\nDirector: Gavin O'Connor\\nStars: Tom Hardy, Nick Nolte, Joel Edgerton\")]}\n"
     ]
    },
    {
     "name": "stderr",
     "output_type": "stream",
     "text": [
      "INFO:httpx:HTTP Request: POST https://api.groq.com/openai/v1/chat/completions \"HTTP/1.1 200 OK\"\n",
      "INFO:httpx:HTTP Request: POST https://api.groq.com/openai/v1/chat/completions \"HTTP/1.1 200 OK\"\n"
     ]
    },
    {
     "name": "stdout",
     "output_type": "stream",
     "text": [
      "Olá Jeferson! Se você está procurando por um filme de ação, eu recomendo \"Atomic Blonde\". É um filme de ação e espionagem estrelado por Charlize Theron, que interpreta uma agente secreta britânica que é enviada a Berlim durante a Guerra Fria para investigar o assassinato de um agente e recuperar uma lista de agentes duplos. O filme é conhecido por suas cenas de ação intensas e emocionais. Você gostaria de saber mais sobre o filme ou tem algum outro gênero em mente?\n",
      "----------\n",
      "Me fale um filme de acao brasileiro\n"
     ]
    },
    {
     "name": "stderr",
     "output_type": "stream",
     "text": [
      "INFO:httpx:HTTP Request: POST https://api.groq.com/openai/v1/chat/completions \"HTTP/1.1 200 OK\"\n"
     ]
    },
    {
     "name": "stdout",
     "output_type": "stream",
     "text": [
      "{'messages': [('assistant', 'Yes.')]}\n"
     ]
    },
    {
     "name": "stderr",
     "output_type": "stream",
     "text": [
      "INFO:httpx:HTTP Request: GET https://api.linkup.so/v1/search?q=me%20fale%20um%20filme%20de%20acao%20brasileiro&depth=standard&outputType=searchResults&includeImages=false \"HTTP/1.1 200 OK\"\n"
     ]
    },
    {
     "name": "stdout",
     "output_type": "stream",
     "text": [
      "https://melhoresbr.docomomo.org.br/glossario/melhores-filmes-de-acao-do-brasil-top-10-imperdiveis/\n"
     ]
    },
    {
     "name": "stderr",
     "output_type": "stream",
     "text": [
      "Fetching pages: 100%|##########| 1/1 [00:04<00:00,  4.38s/it]\n"
     ]
    },
    {
     "name": "stdout",
     "output_type": "stream",
     "text": [
      "https://falauniversidades.com.br/melhores-filmes-de-acao-brasileiros/\n"
     ]
    },
    {
     "name": "stderr",
     "output_type": "stream",
     "text": [
      "Fetching pages: 100%|##########| 1/1 [00:01<00:00,  1.88s/it]\n"
     ]
    },
    {
     "name": "stdout",
     "output_type": "stream",
     "text": [
      "https://www.adorocinema.com/noticias/filmes/noticia-1000117727/\n"
     ]
    },
    {
     "name": "stderr",
     "output_type": "stream",
     "text": [
      "Fetching pages: 100%|##########| 1/1 [00:01<00:00,  1.45s/it]\n"
     ]
    },
    {
     "name": "stdout",
     "output_type": "stream",
     "text": [
      "https://gauchazh.clicrbs.com.br/cultura-e-lazer/noticia/2019/11/carcereiros-e-um-dos-melhores-filmes-de-acao-ja-produzidos-no-brasil-ck3hww3fe00kj01n62ol98dy1.html\n"
     ]
    },
    {
     "name": "stderr",
     "output_type": "stream",
     "text": [
      "Fetching pages: 100%|##########| 1/1 [00:00<00:00,  1.10it/s]\n"
     ]
    },
    {
     "name": "stdout",
     "output_type": "stream",
     "text": [
      "https://alternativanerd.com.br/filmes/novo-filme-de-acao-kraven-o-cacador-estreia-amanha-nos-cinemas-brasileiros/\n"
     ]
    },
    {
     "name": "stderr",
     "output_type": "stream",
     "text": [
      "Fetching pages: 100%|##########| 1/1 [00:02<00:00,  2.49s/it]\n",
      "INFO:httpx:HTTP Request: POST https://api.groq.com/openai/v1/chat/completions \"HTTP/1.1 200 OK\"\n"
     ]
    },
    {
     "name": "stdout",
     "output_type": "stream",
     "text": [
      "{'messages': [('user', 'me fale um filme de acao brasileiro\\n%%%\\nPor Fala! Universidades\\n\\nOs filmes de ação brasileiros estão cada vez mais ganhando espaço no mercado nacional e internacional, trazendo histórias empolgantes e muita adrenalina para as telas.\\n\\n## Confira os melhores filmes de ação brasileiros já lançados\\n\\n### Tropa de Elite (2007)\\n\\nUm dos filmes mais icônicos do gênero é _Tropa de Elite_ (2007), dirigido por José Padilha. O longa mostra a rotina dos policiais do BOPE (Batalhão de Operações Policiais Especiais) no combate ao tráfico de drogas no Rio de Janeiro.\\n\\n### Cidade de Deus (2002)\\n\\nOutro filme de ação que carrega o DNA nacional é _Cidade de Deus_ (2002), dirigido por Fernando Meirelles e Kátia Lund. A trama se passa na favela Cidade de Deus, no Rio de Janeiro, e mostra a história de jovens que crescem em meio ao tráfico de drogas.\\n\\n### Bacurau (2019)\\n\\nMais recentemente, um dos filmes de ação brasileiros mais comentados foi _Bacurau_ (2019), dirigido por Kleber Mendonça Filho e Juliano Dornelles. O longa se passa em um futuro próximo, em uma cidade fictícia no interior do Nordeste brasileiro, que sofre com a invasão de um grupo de estrangeiros em busca de diversão e caça.\\n\\n### O Doutrinador (2018)\\n\\nAlém desses filmes, outro título que merece destaque é _O Doutrinador_ (2018), dirigido por Gustavo Bonafé e Fábio Mendonça, que retrata um vigilante que combate a corrupção no Brasil.\\n\\nE aí, curtiu a lista de filmes de ação brasileiros?')]}\n"
     ]
    },
    {
     "name": "stderr",
     "output_type": "stream",
     "text": [
      "INFO:httpx:HTTP Request: POST https://api.groq.com/openai/v1/chat/completions \"HTTP/1.1 200 OK\"\n",
      "INFO:httpx:HTTP Request: POST https://api.groq.com/openai/v1/chat/completions \"HTTP/1.1 200 OK\"\n"
     ]
    },
    {
     "name": "stdout",
     "output_type": "stream",
     "text": [
      "Um filme de ação brasileiro que posso recomendar é Tropa de Elite, dirigido por José Padilha, que mostra a rotina dos policiais do BOPE no combate ao tráfico de drogas no Rio de Janeiro. Está disponível na Netflix.\n",
      "----------\n",
      "Me fale o que estreias em dezembro de 2024 na netflix\n"
     ]
    },
    {
     "name": "stderr",
     "output_type": "stream",
     "text": [
      "INFO:httpx:HTTP Request: POST https://api.groq.com/openai/v1/chat/completions \"HTTP/1.1 200 OK\"\n"
     ]
    },
    {
     "name": "stdout",
     "output_type": "stream",
     "text": [
      "{'messages': [('assistant', 'Yes.')]}\n"
     ]
    },
    {
     "name": "stderr",
     "output_type": "stream",
     "text": [
      "INFO:httpx:HTTP Request: GET https://api.linkup.so/v1/search?q=me%20fale%20o%20que%20estreias%20em%20dezembro%20de%202024%20na%20netflix&depth=standard&outputType=searchResults&includeImages=false \"HTTP/1.1 200 OK\"\n"
     ]
    },
    {
     "name": "stdout",
     "output_type": "stream",
     "text": [
      "https://exame.com/pop/lancamentos-da-netflix-em-dezembro-de-2024-veja-os-filmes-e-as-series/\n"
     ]
    },
    {
     "name": "stderr",
     "output_type": "stream",
     "text": [
      "Fetching pages: 100%|##########| 1/1 [00:00<00:00, 14.62it/s]\n"
     ]
    },
    {
     "name": "stdout",
     "output_type": "stream",
     "text": [
      "https://www.techshake.com/netflix-confira-todos-os-lancamentos-em-dezembro-de-2024/\n"
     ]
    },
    {
     "name": "stderr",
     "output_type": "stream",
     "text": [
      "Fetching pages: 100%|##########| 1/1 [00:01<00:00,  1.09s/it]\n"
     ]
    },
    {
     "name": "stdout",
     "output_type": "stream",
     "text": [
      "https://oglobo.globo.com/cultura/noticia/2024/12/06/netflix-confira-as-estreias-de-dezembro-de-2024-da-plataforma.ghtml\n"
     ]
    },
    {
     "name": "stderr",
     "output_type": "stream",
     "text": [
      "Fetching pages: 100%|##########| 1/1 [00:00<00:00,  2.50it/s]\n"
     ]
    },
    {
     "name": "stdout",
     "output_type": "stream",
     "text": [
      "https://www.guiadasemana.com.br/filmes-e-series/noticia/netflix-revela-lancamentos-de-dezembro-de-2024-veja-lista\n"
     ]
    },
    {
     "name": "stderr",
     "output_type": "stream",
     "text": [
      "Fetching pages: 100%|##########| 1/1 [00:00<00:00, 12.33it/s]\n"
     ]
    },
    {
     "name": "stdout",
     "output_type": "stream",
     "text": [
      "https://www.nerdmaldito.com/2024/12/netflix-novidades-de-dezembro-de-2024.html\n"
     ]
    },
    {
     "name": "stderr",
     "output_type": "stream",
     "text": [
      "Fetching pages: 100%|##########| 1/1 [00:02<00:00,  2.26s/it]\n",
      "INFO:httpx:HTTP Request: POST https://api.groq.com/openai/v1/chat/completions \"HTTP/1.1 200 OK\"\n"
     ]
    },
    {
     "name": "stdout",
     "output_type": "stream",
     "text": [
      "{'messages': [('user', 'me fale o que estreias em dezembro de 2024 na netflix\\n%%%\\nOne Love (03/12)\\nA Nonsense Chistmas with Sabrina Carpenter (06/12)\\nVirgem Maria (06/12)\\nBagagem de Risco (13/12)\\nAnaconda (15/12)\\nDesejo e Reparação (16/12)\\nTropa de Elite (16/12)\\nBatalhão 6888 (20/12)\\nA Presepada (21/12)\\nLara Croft: Tomb Raider (22/12)\\nLara Croft: Tomb Raider – A Origem da Vida (22/12)\\nO Último Mestre do Ar (22/12)\\n\\nProduções asiáticas\\nRugby: Vencer ou Morrer (10/12)\\n\\nDocumentários\\nJamie Foxx: What Had Happened Was… (10/12)\\n\\nStand-ups, talk-shows e reality shows\\nO Ultimato: Ou Casa ou Vaza (04/12)\\nQueer Eye – 9ª temporada (11/12)\\nA Culpa é do Cabral – 1ª temporada (14/12)\\nRonny Chieng: Love to Hate (17/12)\\n\\nEventos ao vivo\\nNFL no Natal: Ravens vs. Texans (25/12)\\nNFL no Natal: Chief vs. Steelers (25/12)\\n\\nDesenhos, animes e animações\\nNaruto Shippuden – temporadas 1 e 2 (01/12)\\nO Grinch (01/12)\\nAquele Natal (04/12)\\nO Show da Luna! – 4ª temporada (09/12)\\nICarly – 4ª temporada (31/12)\\n\\nO que é a Netflix?\\nEsse é um dos vários serviços de streaming de vídeo que surgiram com o passar do tempo.\\nA era dos dados digitais fez surgirem também novas possibilidades.\\nAs redes de Streaming dominaram tudo, se popularizando primeiro com a Netflix, mas logo ganhando força pra todo lado!\\n\\nOnde posso assistir Netflix?\\nEm tempos modernos, praticamente qualquer sistema de streaming pode ser acessado de tudo quanto é aparelho.\\nA escolha é sua sobre que equipamento vai usar.\\n\\nQual o melhor sistema de streaming?\\nEssa é uma opinião completamente pessoal de cada pessoa.\\nDa mesma forma que tem gente que prefere algo do tipo Vudu, com sistema de aluguel ou algo focado em um público específico como Kanopy, cada serviço, por mais que seja parecido, tem suas peculiaridades.\\n\\nPor que a Netflix fica mudando o catálogo?\\nA Netflix é uma das principais plataformas de streaming de filmes e séries, e todo mês ela atualiza seu catálogo adicionando novos títulos e removendo outros.\\nA adição de novos títulos inclui desde filmes de sucesso de bilheteria até séries originais da Netflix.')]}\n"
     ]
    },
    {
     "name": "stderr",
     "output_type": "stream",
     "text": [
      "INFO:httpx:HTTP Request: POST https://api.groq.com/openai/v1/chat/completions \"HTTP/1.1 200 OK\"\n",
      "INFO:httpx:HTTP Request: POST https://api.groq.com/openai/v1/chat/completions \"HTTP/1.1 200 OK\"\n"
     ]
    },
    {
     "name": "stdout",
     "output_type": "stream",
     "text": [
      "Em dezembro de 2024, a Netflix estreia vários títulos interessantes! Algumas das estreias incluem:\n",
      "\n",
      "* One Love (03/12)\n",
      "* A Nonsense Chistmas with Sabrina Carpenter (06/12)\n",
      "* Virgem Maria (06/12)\n",
      "* Bagagem de Risco (13/12)\n",
      "* Anaconda (15/12)\n",
      "* Desejo e Reparação (16/12)\n",
      "* Tropa de Elite (16/12)\n",
      "* Batalhão 6888 (20/12)\n",
      "* A Presepada (21/12)\n",
      "* Lara Croft: Tomb Raider (22/12)\n",
      "* O Último Mestre do Ar (22/12)\n",
      "\n",
      "Além disso, também há estreias de produções asiáticas, documentários, stand-ups, talk-shows e reality shows, como Rugby: Vencer ou Morrer (10/12), Jamie Foxx: What Had Happened Was… (10/12) e Queer Eye – 9ª temporada (11/12).\n",
      "\n",
      "Se você está procurando por algo específico, posso tentar ajudar! Qual é o seu gênero favorito ou o que você está procurando assistir?\n",
      "----------\n",
      "Me fale o que estreias em dezembro de 2024 na prime video\n"
     ]
    },
    {
     "name": "stderr",
     "output_type": "stream",
     "text": [
      "INFO:httpx:HTTP Request: POST https://api.groq.com/openai/v1/chat/completions \"HTTP/1.1 200 OK\"\n"
     ]
    },
    {
     "name": "stdout",
     "output_type": "stream",
     "text": [
      "{'messages': [('assistant', 'Yes.')]}\n"
     ]
    },
    {
     "name": "stderr",
     "output_type": "stream",
     "text": [
      "INFO:httpx:HTTP Request: GET https://api.linkup.so/v1/search?q=me%20fale%20o%20que%20estreias%20em%20dezembro%20de%202024%20na%20prime%20video&depth=standard&outputType=searchResults&includeImages=false \"HTTP/1.1 200 OK\"\n"
     ]
    },
    {
     "name": "stdout",
     "output_type": "stream",
     "text": [
      "https://oglobo.globo.com/cultura/noticia/2024/12/06/prime-video-confira-as-estreias-de-dezembro-de-2024-na-plataforma.ghtml\n"
     ]
    },
    {
     "name": "stderr",
     "output_type": "stream",
     "text": [
      "Fetching pages: 100%|##########| 1/1 [00:00<00:00,  3.41it/s]\n"
     ]
    },
    {
     "name": "stdout",
     "output_type": "stream",
     "text": [
      "https://www.msn.com/pt-br/entretenimento/streaming-filmes-e-tv/secret-level-megatubar%C3%A3o-2-e-mais-as-estreias-do-amazon-prime-video-em-dezembro-de-2024/ar-AA1v82fF\n"
     ]
    },
    {
     "name": "stderr",
     "output_type": "stream",
     "text": [
      "Fetching pages: 100%|##########| 1/1 [00:00<00:00,  1.97it/s]\n"
     ]
    },
    {
     "name": "stdout",
     "output_type": "stream",
     "text": [
      "https://www.tecmundo.com.br/minha-serie/600151-prime-video-tera-estreias-de-peso-em-dezembro-veja-a-lista-completa-de-lancamentos.htm\n"
     ]
    },
    {
     "name": "stderr",
     "output_type": "stream",
     "text": [
      "Fetching pages: 100%|##########| 1/1 [00:00<00:00,  1.71it/s]\n"
     ]
    },
    {
     "name": "stdout",
     "output_type": "stream",
     "text": [
      "https://www.tudocelular.com/novos-produtos/noticias/n228967/amazon-prime-video-estreias-dezembro-2025.html\n"
     ]
    },
    {
     "name": "stderr",
     "output_type": "stream",
     "text": [
      "Fetching pages: 100%|##########| 1/1 [00:00<00:00, 12.30it/s]\n"
     ]
    },
    {
     "name": "stdout",
     "output_type": "stream",
     "text": [
      "https://discussingfilm.net/2024/11/30/new-on-prime-video-december-2024/\n"
     ]
    },
    {
     "name": "stderr",
     "output_type": "stream",
     "text": [
      "Fetching pages: 100%|##########| 1/1 [00:00<00:00,  2.63it/s]\n",
      "INFO:httpx:HTTP Request: POST https://api.groq.com/openai/v1/chat/completions \"HTTP/1.1 200 OK\"\n"
     ]
    },
    {
     "name": "stdout",
     "output_type": "stream",
     "text": [
      "{'messages': [('user', 'me fale o que estreias em dezembro de 2024 na prime video\\n%%%\\nAqui está o texto extraído do Markdown, sem formatação, links, imagens ou outros elementos irrelevantes:\\n\\nA Garota da Vez (10 de dezembro)\\nCheryl Bradshaw, uma solteira em busca de um pretendente em um programa de TV de sucesso dos anos 1970, escolhe o solteiro charmoso Rodney Alcala, sem saber que, por trás da fachada gentil do homem, havia um segredo mortal.\\n\\nPearl (11 de dezembro)\\nEm 1918, uma jovem à beira da loucura busca o estrelato em uma tentativa desesperada de escapar do trabalho penoso, do isolamento e da falta de amor da vida na fazenda dos pais.\\n\\nTár (11 de dezembro)\\nSituado no mundo internacional da música clássica ocidental, o filme é centrado em Lydia Tár, amplamente considerada uma das maiores compositoras-regentes vivas e a primeira diretora musical de uma grande orquestra alemã.\\n\\nOperação Natal (12 de dezembro)\\nApós um sequestro chocante no Pólo Norte, o Comandante da Força-Tarefa E.L.F. faz uma parceria com o caçador de recompensas mais infame do mundo para salvar\\n\\nLigação Sombria (17 de dezembro)\\nUm motorista se encontra em um jogo de gato e rato de alto risco depois de ser forçado a dirigir para um homem misterioso conhecido como O Passageiro.\\n\\nBatem à Porta (18 de dezembro)\\nDurante as férias, uma garota e seus pais são feitos reféns por estranhos armados que exigem que a família faça uma escolha para evitar o apocalipse.\\n\\nBeast Games - Temporada 1 (19 de dezembro)\\nUm reality show de competição no qual mais de 1.000 participantes disputam um único prêmio de US$ 5 milhões em dinheiro.\\n\\nQue Horas Eu Te Pego? (20 de dezembro)\\nMaddie, à beira da falência, é contratada por pais superprotetores para ajudar seu filho introvertido a se tornar mais confiante antes da faculdade. Ela tem apenas um verão para completar sua missão.\\n\\nClube dos Vândalos (23 de dezembro)\\nAcompanha a ascensão de um clube de motociclistas do meio-oeste americano por meio da vida de seus membros.\\n\\nMovimento de Jesus (25 de dezembro)\\nUm olhar sobre a verdadeira história de um despertar espiritual nacional que ocorreu no início dos anos 1970 e suas origens em uma comunidade de adolescentes hippies no sul da Califórnia.\\n\\nSua Culpa (27 de dezembro)\\nApesar dos esforços dos pais para separá-los, o amor de Noah e Nick parece inquebrável. No entanto, o trabalho e a faculdade abrem suas vidas para novos relacionamentos.\\n\\nMegatubarão 2 (29 de dezembro)\\nA viagem de uma equipe de pesquisa nas profundezas do oceano se transforma em um caos quando uma operação de mineração os força a entrar em uma batalha pela sobrevivência, enfrentando Mega Tubarões e saqueadores ambientais implacáveis.\\n\\nTerrifier 3\\nArt, o Palhaço, está pronto para espalhar o caos sobre os moradores inocentes do Condado de Miles enquanto eles dormem pacificamente na véspera de Natal.\\n\\nTodo o Tempo Que Temos\\nApós um encontro inusitado, uma talentosa chef de cozinha e um homem recém-divorciado se apaixonam e constroem o lar e a família que sempre sonharam, até que uma verdade dolorosa põe à prova essa história de amor.')]}\n"
     ]
    },
    {
     "name": "stderr",
     "output_type": "stream",
     "text": [
      "INFO:httpx:HTTP Request: POST https://api.groq.com/openai/v1/chat/completions \"HTTP/1.1 200 OK\"\n",
      "INFO:httpx:HTTP Request: POST https://api.groq.com/openai/v1/chat/completions \"HTTP/1.1 200 OK\"\n"
     ]
    },
    {
     "name": "stdout",
     "output_type": "stream",
     "text": [
      "Em dezembro de 2024, a Amazon Prime Video estreia vários títulos, incluindo:\n",
      "\n",
      "* A Garota da Vez (10 de dezembro)\n",
      "* Pearl (11 de dezembro)\n",
      "* Tár (11 de dezembro)\n",
      "* Operação Natal (12 de dezembro)\n",
      "* Ligação Sombria (17 de dezembro)\n",
      "* Batem à Porta (18 de dezembro)\n",
      "* Beast Games - Temporada 1 (19 de dezembro)\n",
      "* Que Horas Eu Te Pego? (20 de dezembro)\n",
      "* Clube dos Vândalos (23 de dezembro)\n",
      "* Movimento de Jesus (25 de dezembro)\n",
      "* Sua Culpa (27 de dezembro)\n",
      "* Megatubarão 2 (29 de dezembro)\n",
      "* Terrifier 3\n",
      "* Todo o Tempo Que Temos\n",
      "\n",
      "Esses títulos oferecem uma variedade de gêneros e estilos, desde dramas e thrillers até comédias e filmes de ação.\n",
      "----------\n",
      "Me fale o que estreias em dezembro de 2024 na disney plus\n"
     ]
    },
    {
     "name": "stderr",
     "output_type": "stream",
     "text": [
      "INFO:httpx:HTTP Request: POST https://api.groq.com/openai/v1/chat/completions \"HTTP/1.1 429 Too Many Requests\"\n",
      "INFO:groq._base_client:Retrying request to /openai/v1/chat/completions in 3.000000 seconds\n",
      "INFO:httpx:HTTP Request: POST https://api.groq.com/openai/v1/chat/completions \"HTTP/1.1 200 OK\"\n"
     ]
    },
    {
     "name": "stdout",
     "output_type": "stream",
     "text": [
      "{'messages': [('assistant', 'Não tenho informações em tempo real sobre as novas estreias em Dezembro de 2024 na Disney+. No entanto, posso sugerir algumas opções para você descobrir:\\n\\n1. Acesse o site oficial da Disney+: Você pode visitar o site da Disney+ e procurar por \"estreias em Dezembro de 2024\" ou \"novidades em Dezembro de 2024\".\\n2. Verifique as redes sociais da Disney+: As redes sociais da Disney+ frequentemente compartilham informações sobre novas estreias e lançamentos.\\n3. Busque por notícias e artigos online: Você pode procurar por notícias e artigos online que mencionem as novas estreias em Dezembro de 2024 na Disney+.\\n4. Verifique a seção de \"Novidades\" no aplicativo da Disney+: Se você tiver o aplicativo da Disney+ instalado em seu dispositivo, você pode verificar a seção de \"Novidades\" para descobrir as novas estreias em Dezembro de 2024.\\n\\nLembre-se de que as informações sobre novas estreias podem estar sujeitas a alterações, então é sempre uma boa ideia verificar as fontes mais recentes e atualizadas.\\n\\nEvaluando a sua pergunta, a resposta é: Yes.')]}\n"
     ]
    },
    {
     "name": "stderr",
     "output_type": "stream",
     "text": [
      "INFO:httpx:HTTP Request: GET https://api.linkup.so/v1/search?q=me%20fale%20o%20que%20estreias%20em%20dezembro%20de%202024%20na%20disney%20plus&depth=standard&outputType=searchResults&includeImages=false \"HTTP/1.1 200 OK\"\n"
     ]
    },
    {
     "name": "stdout",
     "output_type": "stream",
     "text": [
      "https://www.nerdmaldito.com/2024/12/disney-plus-novidades-de-dezembro-2024.html\n"
     ]
    },
    {
     "name": "stderr",
     "output_type": "stream",
     "text": [
      "Fetching pages: 100%|##########| 1/1 [00:02<00:00,  2.03s/it]\n"
     ]
    },
    {
     "name": "stdout",
     "output_type": "stream",
     "text": [
      "https://www.indopraorlando.com.br/disney-estreias-e-destaques-dezembro-2024/\n"
     ]
    },
    {
     "name": "stderr",
     "output_type": "stream",
     "text": [
      "Fetching pages: 100%|##########| 1/1 [00:01<00:00,  1.28s/it]\n"
     ]
    },
    {
     "name": "stdout",
     "output_type": "stream",
     "text": [
      "https://oglobo.globo.com/cultura/noticia/2024/12/06/disney-confira-as-estreias-de-dezembro-de-2024-na-plataforma.ghtml\n"
     ]
    },
    {
     "name": "stderr",
     "output_type": "stream",
     "text": [
      "Fetching pages: 100%|##########| 1/1 [00:00<00:00,  2.73it/s]\n"
     ]
    },
    {
     "name": "stdout",
     "output_type": "stream",
     "text": [
      "https://www.tudocelular.com/novos-produtos/noticias/n229021/disney-plus-lancamentos-catalogo-dezembro-2024.html\n"
     ]
    },
    {
     "name": "stderr",
     "output_type": "stream",
     "text": [
      "Fetching pages: 100%|##########| 1/1 [00:00<00:00, 10.56it/s]\n"
     ]
    },
    {
     "name": "stdout",
     "output_type": "stream",
     "text": [
      "https://observatoriodocinema.uol.com.br/streaming/disney-plus/skeleton-crew-what-if-e-mais-as-estreias-de-dezembro-no-disney/\n"
     ]
    },
    {
     "name": "stderr",
     "output_type": "stream",
     "text": [
      "Fetching pages: 100%|##########| 1/1 [00:01<00:00,  1.23s/it]\n",
      "INFO:httpx:HTTP Request: POST https://api.groq.com/openai/v1/chat/completions \"HTTP/1.1 429 Too Many Requests\"\n",
      "INFO:groq._base_client:Retrying request to /openai/v1/chat/completions in 3.000000 seconds\n",
      "INFO:httpx:HTTP Request: POST https://api.groq.com/openai/v1/chat/completions \"HTTP/1.1 200 OK\"\n"
     ]
    },
    {
     "name": "stdout",
     "output_type": "stream",
     "text": [
      "{'messages': [('user', 'me fale o que estreias em dezembro de 2024 na disney plus\\n%%%\\nque escolheu levar uma vida normal e mortal com sua família, Giada, Roman e Milo. Quando sua irmã, Alex, traz Billie para casa para pedir ajuda, Justin percebe que precisa tirar suas habilidades mágicas da gaveta para guiar a aprendiz de feiticeira, enquanto cuida de suas responsabilidades diárias e protege o Mundo Mágico.\\n\\nA série é estrelada por David Henrie (como Justin Russo), Janice LeAnn Brown (como Billie), Alkaio Thiele (como Roman Russo), Max Matenko (como Milo Russo), Taylor Cora (como Winter) e Mimi Gianopulos (como Giada Russo). Selena Gomez (como Alex Russo) será a estrela convidada do primeiro episódio.\\n\\nA série animada da Marvel What if…? retorna para sua terceira temporada para culminar a aventura pelo Multiverso. Personagens clássicos tomam decisões inesperadas que mudarão seus mundos em espetaculares versões alternativas do Universo Cinematográfico Marvel (MCU).\\n\\nA série apresenta um grande elenco de vozes em inglês que inclui uma série de talentos que reprisam seus papéis icônicos. A terceira temporada apresenta os personagens favoritos dos fãs, como o Capitão América (Sam Wilson), o Soldado Invernal (Bucky Barnes), o Hulk (Bruce Banner), o Guardião Vermelho, a Capitã Peggy Carter, Agatha Harkness, Shang-Chi, Tempestade, a Deusa do Trovão e muitos outros.\\n\\nA série documental Jung Kook: I Am Still acompanha Jung Kook em sua trajetória de membro da banda pop BTS até se tornar um artista solo de sucesso. Apresentando colaborações com alguns dos maiores produtores do mundo, a série captura a arte única de Jung Kook enquanto ele viaja pelo mundo para cidades como Nova York, Londres e Seul, gravando, se apresentando e filmando videoclipes como parte de uma vertiginosa turnê promocional de seu primeiro álbum solo, Golden.\\n\\nA série Original de Star Light Shop: entre a vida e a morte acompanha seis estranhos que lidam com um evento traumático de seus passados. Enquanto vivem suas vidas cotidianas, eles começam lentamente a perceber que algo não está certo, mas não conseguem descobrir o que é.')]}\n"
     ]
    },
    {
     "name": "stderr",
     "output_type": "stream",
     "text": [
      "INFO:httpx:HTTP Request: POST https://api.groq.com/openai/v1/chat/completions \"HTTP/1.1 429 Too Many Requests\"\n",
      "INFO:groq._base_client:Retrying request to /openai/v1/chat/completions in 7.000000 seconds\n",
      "INFO:httpx:HTTP Request: POST https://api.groq.com/openai/v1/chat/completions \"HTTP/1.1 200 OK\"\n",
      "INFO:httpx:HTTP Request: POST https://api.groq.com/openai/v1/chat/completions \"HTTP/1.1 200 OK\"\n"
     ]
    },
    {
     "name": "stdout",
     "output_type": "stream",
     "text": [
      "Em dezembro de 2024, a Disney+ estreia várias séries e programas, incluindo:\n",
      "\n",
      "* A série \"Justin Russo\" que segue a vida de Justin Russo, um feiticeiro que escolheu levar uma vida normal com sua família, mas precisa usar suas habilidades mágicas para guiar a aprendiz de feiticeira Billie.\n",
      "* A terceira temporada da série animada \"What if…?\" que apresenta versões alternativas do Universo Cinematográfico Marvel.\n",
      "* A série documental \"Jung Kook: I Am Still\" que acompanha a trajetória do cantor Jung Kook, membro da banda BTS, em sua carreira solo.\n",
      "* A série \"Star Light Shop: entre a vida e a morte\" que segue a vida de seis estranhos que lidam com um evento traumático de seus passados e começam a perceber que algo não está certo em suas vidas.\n",
      "----------\n",
      "Me fale o que estreias em dezembro de 2024 na hulu\n"
     ]
    },
    {
     "name": "stderr",
     "output_type": "stream",
     "text": [
      "INFO:httpx:HTTP Request: POST https://api.groq.com/openai/v1/chat/completions \"HTTP/1.1 429 Too Many Requests\"\n",
      "INFO:groq._base_client:Retrying request to /openai/v1/chat/completions in 4.000000 seconds\n",
      "INFO:httpx:HTTP Request: POST https://api.groq.com/openai/v1/chat/completions \"HTTP/1.1 200 OK\"\n"
     ]
    },
    {
     "name": "stdout",
     "output_type": "stream",
     "text": [
      "{'messages': [('assistant', 'Não tenho acesso a informações em tempo real sobre lançamentos futuros em plataformas de streaming. No entanto, posso sugerir algumas opções para você encontrar as respostas que você está procurando:\\n\\n1. Verifique o site oficial da Hulu para obter informações sobre lançamentos futuros.\\n2. Busque em sites de notícias e blogs de entretenimento que cubram lançamentos de filmes e séries em plataformas de streaming.\\n3. Siga as contas de redes sociais da Hulu e das produtoras de conteúdo para obter atualizações sobre lançamentos futuros.\\n\\nLembre-se de que as informações sobre lançamentos futuros podem ser sujeitas a mudanças, então é sempre uma boa ideia verificar as fontes mais recentes.\\n\\nCom base na sua pergunta, a resposta é: Sim.')]}\n"
     ]
    },
    {
     "name": "stderr",
     "output_type": "stream",
     "text": [
      "INFO:httpx:HTTP Request: GET https://api.linkup.so/v1/search?q=me%20fale%20o%20que%20estreias%20em%20dezembro%20de%202024%20na%20hulu&depth=standard&outputType=searchResults&includeImages=false \"HTTP/1.1 200 OK\"\n"
     ]
    },
    {
     "name": "stdout",
     "output_type": "stream",
     "text": [
      "https://collider.com/new-on-hulu-december-2024/\n"
     ]
    },
    {
     "name": "stderr",
     "output_type": "stream",
     "text": [
      "Fetching pages: 100%|##########| 1/1 [00:01<00:00,  1.48s/it]\n"
     ]
    },
    {
     "name": "stdout",
     "output_type": "stream",
     "text": [
      "https://deadline.com/feature/new-on-hulu-streaming-1234823120/\n"
     ]
    },
    {
     "name": "stderr",
     "output_type": "stream",
     "text": [
      "Fetching pages: 100%|##########| 1/1 [00:00<00:00,  1.07it/s]\n"
     ]
    },
    {
     "name": "stdout",
     "output_type": "stream",
     "text": [
      "https://press.hulu.com/schedule/december-2024/\n"
     ]
    },
    {
     "name": "stderr",
     "output_type": "stream",
     "text": [
      "Fetching pages: 100%|##########| 1/1 [00:01<00:00,  1.11s/it]\n"
     ]
    },
    {
     "name": "stdout",
     "output_type": "stream",
     "text": [
      "https://www.msn.com/en-us/tv/news/hulu-schedule-december-16-22-2024-new-tv-shows-movies-being-added/ar-AA1vRKpW\n"
     ]
    },
    {
     "name": "stderr",
     "output_type": "stream",
     "text": [
      "Fetching pages: 100%|##########| 1/1 [00:00<00:00,  2.02it/s]\n"
     ]
    },
    {
     "name": "stdout",
     "output_type": "stream",
     "text": [
      "https://www.hulu.com/guides\n"
     ]
    },
    {
     "name": "stderr",
     "output_type": "stream",
     "text": [
      "Fetching pages: 100%|##########| 1/1 [00:01<00:00,  1.45s/it]\n",
      "INFO:httpx:HTTP Request: POST https://api.groq.com/openai/v1/chat/completions \"HTTP/1.1 200 OK\"\n"
     ]
    },
    {
     "name": "stdout",
     "output_type": "stream",
     "text": [
      "{'messages': [('user', 'me fale o que estreias em dezembro de 2024 na hulu\\n%%%\\nMarley & Me (2008)\\nMarley & Me: The Puppy Years (2011)\\nSummer Camp (2024)\\n\\nDoctor Dolittle (1998)\\nDoctor Dolittle 2 (2001)\\nFlycatcher (2024)\\n\\nStep Up (2006)\\nDocumentary\\nRelease Date: August 11, 2006\\nDirector: Anne Fletcher\\nWriters: Duane Adler, Melissa Rosenberg\\nStep Up 2 The Streets (2008)\\nStep Up 3D (2010)\\n\\nDiners, Drive-Ins, and Dives Complete Seasons 45-49\\nDisappeared Complete Seasons 5 and 8-12\\nExpedition Unknown Complete Seasons 1-5\\nGold Rush: Parker’s Trail Complete Seasons 1-2\\nGold Rush: South America Complete Season 1\\nGold Rush: White Water Complete Seasons 4-8\\nHoarding: Buried Alive Complete Seasons 1-2\\nHow It’s Made Complete Seasons 23-24\\nI (Almost) Got Away With It Complete Seasons 1-2\\nKids Baking Championship Complete Seasons 1-4 and 11\\nMILF Manor Complete Seasons 1-2\\n\\nCuckoo (2024)\\nSeventeen-year-old Gretchen reluctantly leaves America to live with her father\\nat a resort in the German Alps. Plagued by strange noises and bloody visions,\\nshe soon discovers a shocking secret that concerns her own family.\\n\\nThe Suspicions of Mr. Whicher Complete Seasons 1-4\\n\\nA Model Murder (2024)\\n\\nLost Treasures of the Bible Series Premiere\\nIlana Glazer: Human Magic (2024)\\nDarkness of Man (2024)\\nThe Inheritance (2024)\\n\\nArctic Convoy (2023)\\n\\nAmerica’s 10 Most Hated Complete Season 1\\nCourt Cam Complete Season 7A\\nFull Metal Jousting Complete Season 1\\n200% Wolf (2024)\\n\\nThe Year: 2024 Special Premiere\\nBreaking (2022)\\nDon’t Tell Comedy (2024)\\n\\nAlice, Darling (2022)\\nAmber Alert (2024)')]}\n"
     ]
    },
    {
     "name": "stderr",
     "output_type": "stream",
     "text": [
      "INFO:httpx:HTTP Request: POST https://api.groq.com/openai/v1/chat/completions \"HTTP/1.1 429 Too Many Requests\"\n",
      "INFO:groq._base_client:Retrying request to /openai/v1/chat/completions in 5.000000 seconds\n",
      "INFO:httpx:HTTP Request: POST https://api.groq.com/openai/v1/chat/completions \"HTTP/1.1 200 OK\"\n",
      "INFO:httpx:HTTP Request: POST https://api.groq.com/openai/v1/chat/completions \"HTTP/1.1 200 OK\"\n"
     ]
    },
    {
     "name": "stdout",
     "output_type": "stream",
     "text": [
      "Em dezembro de 2024, a Hulu estreia vários títulos, incluindo:\n",
      "- Cuckoo (2024), um filme de suspense sobre uma adolescente que descobre um segredo sombrio em um resort nos Alpes alemães.\n",
      "- A Model Murder (2024), um thriller que explora um assassinato misterioso.\n",
      "- Lost Treasures of the Bible, uma série que busca descobrir segredos bíblicos.\n",
      "- Ilana Glazer: Human Magic (2024), um especial de comédia.\n",
      "- Darkness of Man (2024) e The Inheritance (2024), filmes de suspense e drama.\n",
      "- Amber Alert (2024), um thriller sobre uma busca desesperada.\n",
      "- 200% Wolf (2024), uma animação emocionante.\n",
      "- The Year: 2024 Special Premiere, um especial de revisão do ano.\n",
      "- Don’t Tell Comedy (2024), um especial de comédia.\n",
      "----------\n",
      "Me fale o que estreias em dezembro de 2024 no cinema\n"
     ]
    },
    {
     "name": "stderr",
     "output_type": "stream",
     "text": [
      "INFO:httpx:HTTP Request: POST https://api.groq.com/openai/v1/chat/completions \"HTTP/1.1 429 Too Many Requests\"\n",
      "INFO:groq._base_client:Retrying request to /openai/v1/chat/completions in 4.000000 seconds\n",
      "INFO:httpx:HTTP Request: POST https://api.groq.com/openai/v1/chat/completions \"HTTP/1.1 200 OK\"\n"
     ]
    },
    {
     "name": "stdout",
     "output_type": "stream",
     "text": [
      "{'messages': [('assistant', 'Yes.')]}\n"
     ]
    },
    {
     "name": "stderr",
     "output_type": "stream",
     "text": [
      "INFO:httpx:HTTP Request: GET https://api.linkup.so/v1/search?q=me%20fale%20o%20que%20estreias%20em%20dezembro%20de%202024%20no%20cinema&depth=standard&outputType=searchResults&includeImages=false \"HTTP/1.1 200 OK\"\n"
     ]
    },
    {
     "name": "stdout",
     "output_type": "stream",
     "text": [
      "https://www.oficinadanet.com.br/entretenimento/58631-filmes-cinemas-dezembro-2024\n"
     ]
    },
    {
     "name": "stderr",
     "output_type": "stream",
     "text": [
      "Fetching pages:   0%|          | 0/1 [00:00<?, ?it/s]ERROR:langchain_community.document_loaders.async_html:Failed to decode content from https://www.oficinadanet.com.br/entretenimento/58631-filmes-cinemas-dezembro-2024\n",
      "Fetching pages: 100%|##########| 1/1 [00:00<00:00, 10.25it/s]\n"
     ]
    },
    {
     "name": "stdout",
     "output_type": "stream",
     "text": [
      "https://gauchazh.clicrbs.com.br/cultura-e-lazer/cinema/noticia/2024/11/cinco-filmes-que-estreiam-em-dezembro-de-2024-nos-cinemas-cm3yy50rt00c601e88bf2grap.html\n"
     ]
    },
    {
     "name": "stderr",
     "output_type": "stream",
     "text": [
      "Fetching pages: 100%|##########| 1/1 [00:00<00:00,  1.61it/s]\n"
     ]
    },
    {
     "name": "stdout",
     "output_type": "stream",
     "text": [
      "https://www.adorocinema.com/filmes/agenda/mes/\n"
     ]
    },
    {
     "name": "stderr",
     "output_type": "stream",
     "text": [
      "Fetching pages: 100%|##########| 1/1 [00:00<00:00, 13.30it/s]\n"
     ]
    },
    {
     "name": "stdout",
     "output_type": "stream",
     "text": [
      "https://www.guiadasemana.com.br/cinema/noticia/estreias-cinemas-dezembro-2024\n"
     ]
    },
    {
     "name": "stderr",
     "output_type": "stream",
     "text": [
      "Fetching pages: 100%|##########| 1/1 [00:01<00:00,  1.02s/it]\n"
     ]
    },
    {
     "name": "stdout",
     "output_type": "stream",
     "text": [
      "https://alternativanerd.com.br/filmes/as-10-estreias-de-filmes-imperdiveis-em-dezembro-de-2024/\n"
     ]
    },
    {
     "name": "stderr",
     "output_type": "stream",
     "text": [
      "Fetching pages: 100%|##########| 1/1 [00:02<00:00,  2.15s/it]\n",
      "INFO:httpx:HTTP Request: POST https://api.groq.com/openai/v1/chat/completions \"HTTP/1.1 429 Too Many Requests\"\n",
      "INFO:groq._base_client:Retrying request to /openai/v1/chat/completions in 2.000000 seconds\n",
      "INFO:httpx:HTTP Request: POST https://api.groq.com/openai/v1/chat/completions \"HTTP/1.1 200 OK\"\n"
     ]
    },
    {
     "name": "stdout",
     "output_type": "stream",
     "text": [
      "{'messages': [('user', \"me fale o que estreias em dezembro de 2024 no cinema\\n%%%\\nSonic 3 - O Filme\\nDireção: Jeff Fowler\\nElenco: Ben Schwartz, Idris Elba, Colleen O'Shaughnessey\")]}\n"
     ]
    },
    {
     "name": "stderr",
     "output_type": "stream",
     "text": [
      "INFO:httpx:HTTP Request: POST https://api.groq.com/openai/v1/chat/completions \"HTTP/1.1 429 Too Many Requests\"\n",
      "INFO:groq._base_client:Retrying request to /openai/v1/chat/completions in 5.000000 seconds\n",
      "INFO:httpx:HTTP Request: POST https://api.groq.com/openai/v1/chat/completions \"HTTP/1.1 200 OK\"\n",
      "INFO:httpx:HTTP Request: POST https://api.groq.com/openai/v1/chat/completions \"HTTP/1.1 200 OK\"\n"
     ]
    },
    {
     "name": "stdout",
     "output_type": "stream",
     "text": [
      "Em dezembro de 2024, um filme que estreia nos cinemas é Sonic 3 - O Filme, dirigido por Jeff Fowler e com o elenco de Ben Schwartz, Idris Elba e Colleen O'Shaughnessey. É uma aventura emocionante com o nosso herói azul favorito!\n",
      "----------\n",
      "Me fale o dia de hoje\n"
     ]
    },
    {
     "name": "stderr",
     "output_type": "stream",
     "text": [
      "INFO:httpx:HTTP Request: POST https://api.groq.com/openai/v1/chat/completions \"HTTP/1.1 429 Too Many Requests\"\n",
      "INFO:groq._base_client:Retrying request to /openai/v1/chat/completions in 5.000000 seconds\n",
      "INFO:httpx:HTTP Request: POST https://api.groq.com/openai/v1/chat/completions \"HTTP/1.1 200 OK\"\n"
     ]
    },
    {
     "name": "stdout",
     "output_type": "stream",
     "text": [
      "{'messages': [('assistant', 'No.')]}\n"
     ]
    },
    {
     "name": "stderr",
     "output_type": "stream",
     "text": [
      "INFO:httpx:HTTP Request: POST https://api.groq.com/openai/v1/chat/completions \"HTTP/1.1 200 OK\"\n",
      "INFO:httpx:HTTP Request: POST https://api.groq.com/openai/v1/chat/completions \"HTTP/1.1 200 OK\"\n"
     ]
    },
    {
     "name": "stdout",
     "output_type": "stream",
     "text": [
      "Hoje é 17 de dezembro de 2024, mas como eu sou um modelo de linguagem treinado, não tenho acesso em tempo real ao calendário, então essa informação pode não estar atualizada. No entanto, posso dizer que estou aqui para ajudar com suas perguntas sobre filmes e séries!\n",
      "----------\n",
      "Qual e acor do ceu\n"
     ]
    },
    {
     "name": "stderr",
     "output_type": "stream",
     "text": [
      "INFO:httpx:HTTP Request: POST https://api.groq.com/openai/v1/chat/completions \"HTTP/1.1 429 Too Many Requests\"\n",
      "INFO:groq._base_client:Retrying request to /openai/v1/chat/completions in 1.000000 seconds\n",
      "INFO:httpx:HTTP Request: POST https://api.groq.com/openai/v1/chat/completions \"HTTP/1.1 200 OK\"\n"
     ]
    },
    {
     "name": "stdout",
     "output_type": "stream",
     "text": [
      "{'messages': [('assistant', 'No.')]}\n"
     ]
    },
    {
     "name": "stderr",
     "output_type": "stream",
     "text": [
      "INFO:httpx:HTTP Request: POST https://api.groq.com/openai/v1/chat/completions \"HTTP/1.1 200 OK\"\n",
      "INFO:httpx:HTTP Request: POST https://api.groq.com/openai/v1/chat/completions \"HTTP/1.1 200 OK\"\n"
     ]
    },
    {
     "name": "stdout",
     "output_type": "stream",
     "text": [
      "Uma pergunta interessante! No entanto, como sou um modelo de linguagem treinado para responder perguntas sobre filmes e séries, não posso fornecer informações sobre o clima ou o estado atual do céu. Posso ajudar com algo relacionado a filmes ou séries?\n",
      "----------\n",
      "Quem foi napoleaoQuem \n"
     ]
    },
    {
     "name": "stderr",
     "output_type": "stream",
     "text": [
      "INFO:httpx:HTTP Request: POST https://api.groq.com/openai/v1/chat/completions \"HTTP/1.1 200 OK\"\n"
     ]
    },
    {
     "name": "stdout",
     "output_type": "stream",
     "text": [
      "{'messages': [('assistant', 'Yes.')]}\n"
     ]
    },
    {
     "name": "stderr",
     "output_type": "stream",
     "text": [
      "INFO:httpx:HTTP Request: GET https://api.linkup.so/v1/search?q=quem%20foi%20napoleaoquem%20&depth=standard&outputType=searchResults&includeImages=false \"HTTP/1.1 200 OK\"\n"
     ]
    },
    {
     "name": "stdout",
     "output_type": "stream",
     "text": [
      "https://escolaeducacao.com.br/quem-foi-napoleao-bonaparte/\n"
     ]
    },
    {
     "name": "stderr",
     "output_type": "stream",
     "text": [
      "Fetching pages: 100%|##########| 1/1 [00:01<00:00,  1.23s/it]\n"
     ]
    },
    {
     "name": "stdout",
     "output_type": "stream",
     "text": [
      "https://www.todamateria.com.br/napoleao-bonaparte/\n"
     ]
    },
    {
     "name": "stderr",
     "output_type": "stream",
     "text": [
      "Fetching pages: 100%|##########| 1/1 [00:01<00:00,  1.11s/it]\n"
     ]
    },
    {
     "name": "stdout",
     "output_type": "stream",
     "text": [
      "https://www.portalsaofrancisco.com.br/biografias/napoleao-bonaparte\n"
     ]
    },
    {
     "name": "stderr",
     "output_type": "stream",
     "text": [
      "Fetching pages: 100%|##########| 1/1 [00:01<00:00,  1.41s/it]\n"
     ]
    },
    {
     "name": "stdout",
     "output_type": "stream",
     "text": [
      "https://mundoeducacao.uol.com.br/historiageral/napoleao-bonaparte.htm\n"
     ]
    },
    {
     "name": "stderr",
     "output_type": "stream",
     "text": [
      "Fetching pages: 100%|##########| 1/1 [00:00<00:00,  2.32it/s]\n"
     ]
    },
    {
     "name": "stdout",
     "output_type": "stream",
     "text": [
      "https://www.ebiografia.com/napoleao_bonaparte/\n"
     ]
    },
    {
     "name": "stderr",
     "output_type": "stream",
     "text": [
      "Fetching pages: 100%|##########| 1/1 [00:00<00:00,  1.07it/s]\n",
      "INFO:httpx:HTTP Request: POST https://api.groq.com/openai/v1/chat/completions \"HTTP/1.1 429 Too Many Requests\"\n",
      "INFO:groq._base_client:Retrying request to /openai/v1/chat/completions in 1.000000 seconds\n",
      "INFO:httpx:HTTP Request: POST https://api.groq.com/openai/v1/chat/completions \"HTTP/1.1 200 OK\"\n"
     ]
    },
    {
     "name": "stdout",
     "output_type": "stream",
     "text": [
      "{'messages': [('user', 'quem foi napoleaoquem \\n%%%\\nNapoleão Bonaparte foi um militar francês que tomou o poder de seu país em 1799. Liderou a França por 15 anos, travando inúmeras batalhas por toda a Europa.\\n\\nNapoleão Bonaparte ficou conhecido por ser um grande estrategista militar. Ele ganhou prestigio ao liderar tropas francesas na luta contra as forças contrarrevolucionarias que procuravam por fim a Revolução Francesa.\\n\\nEle tornou-se consul da França por meio de um golpe, realizado em 1799. Em 1804, autocoroou-se imperador. Foi derrotado em definitivo depois da Batalha de Waterloo.\\n\\nNapoleão Bonaparte nasceu no dia 15 de agosto de 1769, em Ajaccio, cidade francesa localizada na ilha de Corsega. Sua família tinha descendência na nobreza italiana que habitava aquela ilha.\\n\\nNapoleão Bonaparte nasceu em Ajaccio, em 1769, e era de uma família descendente da pequena nobreza italiana.\\n\\nEm 1768, a ilha foi conquistada pelos franceses, mas os laços culturais com a Itália que existiam na ilha e na própria família de Napoleão permaneceram.\\n\\nNapoleão, ao longo de sua vida, deixou marcas importantes na história da França e da Europa.')]}\n"
     ]
    },
    {
     "name": "stderr",
     "output_type": "stream",
     "text": [
      "INFO:httpx:HTTP Request: POST https://api.groq.com/openai/v1/chat/completions \"HTTP/1.1 429 Too Many Requests\"\n",
      "INFO:groq._base_client:Retrying request to /openai/v1/chat/completions in 6.000000 seconds\n",
      "INFO:httpx:HTTP Request: POST https://api.groq.com/openai/v1/chat/completions \"HTTP/1.1 200 OK\"\n",
      "INFO:httpx:HTTP Request: POST https://api.groq.com/openai/v1/chat/completions \"HTTP/1.1 200 OK\"\n"
     ]
    },
    {
     "name": "stdout",
     "output_type": "stream",
     "text": [
      "Parece que você está procurando informações sobre Napoleão Bonaparte, mas como eu sou um modelo de linguagem treinado para falar sobre filmes e séries, não posso fornecer informações sobre história ou biografias. Posso ajudar com recomendações de filmes ou séries?\n",
      "----------\n"
     ]
    }
   ],
   "source": [
    "from chat_bots import chat_bot, chat_summarize_messages\n",
    "from funcoes_auxiliares import condicional_edges\n",
    "from funcoes_auxiliares import InMemoryHistory\n",
    "from langchain_core.chat_history import BaseChatMessageHistory\n",
    "from langchain_core.messages import HumanMessage, AIMessage\n",
    "store = {}\n",
    "config = {\"configurable\": {\"session_id\": \"foo\"}} \n",
    "def get_by_session_id(session_id: str) -> BaseChatMessageHistory:\n",
    "    if session_id not in store:\n",
    "        store[session_id] = InMemoryHistory()\n",
    "        \n",
    "    if store[session_id].messages:\n",
    "        for message in store[session_id].messages[-2:]:  \n",
    "            if isinstance(message, HumanMessage):\n",
    "                if \"\\n%%%\\n\" in message.content:\n",
    "                    store[session_id].messages[store[session_id].messages.index(message)] = HumanMessage(content=message.content.split('\\n%%%\\n')[0])           \n",
    "            if isinstance(message, AIMessage):\n",
    "                store[session_id].messages[store[session_id].messages.index(message)] = AIMessage(content=chat_summarize_messages(message.content)) \n",
    "    \n",
    "    # Removendo as duas primeiras mensagens\n",
    "    tamanho_memoria = sum([len(message.content) for message in store[session_id].messages])\n",
    "    if tamanho_memoria > 6500:\n",
    "        del store[session_id].messages[:2]      \n",
    "    return store[session_id]\n",
    "\n",
    "def chat_reposta_condicional(input, memory, config):\n",
    "    input = {\"messages\": [{\"content\": input}]}\n",
    "    resposta_incorporada = condicional_edges(input)\n",
    "    try:\n",
    "        if isinstance(resposta_incorporada, dict):\n",
    "            resposta_incorporada = resposta_incorporada['messages'][0][1]\n",
    "    except KeyError:\n",
    "        resposta_incorporada = resposta_incorporada['messages'][0]['content']\n",
    "        \n",
    "    resposta_concluida = chat_bot(resposta_incorporada, memory, config)\n",
    "    \n",
    "    return resposta_concluida['messages'][0][1]\n",
    "\n",
    "perguntas = ['Boa noite meu nome e jeferson', \n",
    "             'qual e o meu nome', \n",
    "             'Me fale um filme de acao', \n",
    "             'Me fale um filme de acao brasileiro',\n",
    "             'Me fale o que estreias em dezembro de 2024 na netflix',\n",
    "             'Me fale o que estreias em dezembro de 2024 na prime video',\n",
    "             'Me fale o que estreias em dezembro de 2024 na disney plus',\n",
    "             'Me fale o que estreias em dezembro de 2024 na hulu',\n",
    "             'Me fale o que estreias em dezembro de 2024 no cinema',\n",
    "             'Me fale o dia de hoje',\n",
    "             'Qual e acor do ceu',\n",
    "             'Quem foi napoleao'\n",
    "             'Quem '\n",
    "             ]\n",
    "for pergunta in perguntas:\n",
    "    print(pergunta)\n",
    "    print(chat_reposta_condicional(pergunta, get_by_session_id, config))\n",
    "    print('-'*10)"
   ]
  },
  {
   "cell_type": "markdown",
   "metadata": {},
   "source": [
    "# Chat perguntas ofencivas"
   ]
  },
  {
   "cell_type": "code",
   "execution_count": 94,
   "metadata": {},
   "outputs": [],
   "source": [
    "from langchain.prompts.chat import (\n",
    "    ChatPromptTemplate,\n",
    "    SystemMessagePromptTemplate,\n",
    "    HumanMessagePromptTemplate\n",
    ")\n",
    "from langchain_groq import ChatGroq\n",
    "from langchain_core.output_parsers import StrOutputParser\n",
    "import os\n",
    "from funcoes_auxiliares.funcoes_auxiliares import search_and_incorporateta_LinkupClient\n",
    "\n",
    "def chat_avaliacao_perguntas_ofensivas(mensagem):\n",
    "    model = ChatGroq(\n",
    "            api_key=os.getenv(\"GROQ_API_KEY\"),\n",
    "            model=\"llama-3.2-11b-vision-preview\",\n",
    "            temperature=0.5,\n",
    "        )\n",
    "        \n",
    "        \n",
    "    prompt = ChatPromptTemplate.from_messages(\n",
    "            [\n",
    "                SystemMessagePromptTemplate.from_template(\"\"\"\n",
    "                                                        You are an evaluator of offensive questions about movies and series.\n",
    "                                                        Your role is to analyze each question submitted by the user and determine whether it contains offensive, discriminatory, or inappropriate content. \n",
    "                                                        Answer so \"Yes\" if the input is offensive, and \"No\" if it is not. Below are examples to help you understand the task.\n",
    "                                                        \n",
    "                                                        Examples:\n",
    "\n",
    "                                                        Input:\n",
    "                                                        \"Why are movies directed by women bad?\"\n",
    "                                                        Evaluation: Yes.\n",
    "                                                        \n",
    "\n",
    "                                                        Input:\n",
    "                                                        \"What are the best science fiction movies of the last 10 years?\"\n",
    "                                                        Evaluation: No.\n",
    "\n",
    "                                                        Input:\n",
    "                                                        \"Why are actors from a certain country terrible?\"\n",
    "                                                        Evaluation: Yes.\n",
    "                                                       \n",
    "\n",
    "                                                        Input:\n",
    "                                                        \"What is the most popular Netflix series currently?\"\n",
    "                                                        Evaluation: No.\n",
    "                                                        \n",
    "\n",
    "                                                        Input:\n",
    "                                                        \"Why is a certain ethnicity never good in hero roles?\"\n",
    "                                                        Evaluation: Yes.\n",
    "                                                        \n",
    "\n",
    "                                                        Input:\n",
    "                                                        \"What are the best documentaries about classic cinema?\"\n",
    "                                                        Evaluation: No.\n",
    "                                                        \n",
    "                                                        Input:\n",
    "                                                        \"I only like movies with white people; recommend a movie like that.\"\n",
    "                                                        Evaluation: Yes.\n",
    "                                                        \n",
    "                                                    \n",
    "            \n",
    "                                                        \"\"\"),\n",
    "                HumanMessagePromptTemplate.from_template(\"{input}\"),\n",
    "            ]\n",
    "        )\n",
    "        \n",
    "        \n",
    "    llm_chain = prompt | model| StrOutputParser()\n",
    "        \n",
    "        \n",
    "        \n",
    "    resposta = llm_chain.invoke({\"input\": mensagem})\n",
    "        \n",
    "        \n",
    "    return {\"messages\": [(\"assistant\", resposta)]}"
   ]
  },
  {
   "cell_type": "code",
   "execution_count": 95,
   "metadata": {},
   "outputs": [
    {
     "data": {
      "text/plain": [
       "{'messages': [('assistant',\n",
       "   'Não posso atender a esse pedido. Posso ajudar com outra coisa?')]}"
      ]
     },
     "execution_count": 95,
     "metadata": {},
     "output_type": "execute_result"
    }
   ],
   "source": [
    "chat_avaliacao_perguntas_ofensivas('Vem chupar minha rola')"
   ]
  },
  {
   "cell_type": "code",
   "execution_count": 92,
   "metadata": {},
   "outputs": [],
   "source": [
    "from langchain_core.prompts import PromptTemplate\n",
    "from langchain_core.output_parsers import JsonOutputParser\n",
    "from pydantic import BaseModel, Field\n",
    "from langchain_groq import ChatGroq\n",
    "import os\n",
    "\n",
    "\n",
    "\n",
    "def chat_avaliacao_perguntas_ofensivas(mensagem):\n",
    "    \n",
    "    class resposta(BaseModel):\n",
    "        boleano: str = Field(description=\"If the question is offensive, respond 'Yes', and if the question is not offensive, respond 'No'.\")\n",
    "        comentario: str = Field(description=\"Comment about the question, explaining why it was offensive.\")\n",
    "    \n",
    "        \n",
    "    parser = JsonOutputParser(pydantic_object=resposta)\n",
    "    \n",
    "    model = ChatGroq(\n",
    "            api_key=os.getenv(\"GROQ_API_KEY\"),\n",
    "            model=\"llama-3.2-11b-vision-preview\",\n",
    "            temperature=0.5,\n",
    "        )\n",
    "\n",
    "    prompt = PromptTemplate(\n",
    "        template=\"\"\"You are an evaluator of offensive questions.\n",
    "        Your role is to analyze each question submitted by the user and determine whether it contains offensive, discriminatory, or inappropriate content.\n",
    "    \n",
    "    Answer the user query:\\n{format_instructions}\\n{query}\\n\n",
    "    \n",
    "   If the question is offensive, respond with \"Yes\" in Response and explain why it is inappropriate in Comment.\n",
    "    If the question is not offensive, respond with \"No\" in Response and indicate that it meets acceptable standards.\n",
    "    \n",
    "    \n",
    "    Examples:\n",
    "\n",
    "    Input:\n",
    "    \"Why are movies directed by women bad?\"\n",
    "    Response:\n",
    "    \"This question contains discriminatory content and is not allowed. We kindly ask you to avoid generalizations and rephrase your question respectfully.\"\n",
    "\n",
    "    Input:\n",
    "    \"What are the best science fiction movies of the last 10 years?\"\n",
    "    Response:\n",
    "    \"The question meets acceptable standards.\"\n",
    "\n",
    "    Input:\n",
    "    \"Why are actors from a certain country terrible?\"\n",
    "    Response:\n",
    "    \"This question is offensive and not allowed. We kindly ask you to avoid generalizations and rephrase your question respectfully.\"\n",
    "\n",
    "    Input:\n",
    "    \"What is the most popular Netflix series currently?\"\n",
    "    Response:\n",
    "    \"The question meets acceptable standards.\"\n",
    "\n",
    "    Input:\n",
    "    \"Why is a certain ethnicity never good in hero roles?\"\n",
    "    Response:\n",
    "    \"This question contains discriminatory content and is not allowed. We kindly ask you to address the topic with respect and avoid offensive remarks.\"\n",
    "\n",
    "    Input:\n",
    "    \"What are the best documentaries about classic cinema?\"\n",
    "    Response:\n",
    "    \"The question meets acceptable standards.\"\n",
    "\n",
    "    Input:\n",
    "    \"I only like movies with white people; recommend a movie like that.\"\n",
    "    Response:\n",
    "    \"This question is offensive and not allowed.\"  \n",
    "                                                \n",
    "    \n",
    "    \"\"\",\n",
    "    input_variables=[\"query\"],\n",
    "    partial_variables={\"format_instructions\": parser.get_format_instructions()},\n",
    "    )                                             \n",
    "                                                                        \n",
    "    chain = prompt | model |  parser\n",
    "\n",
    "    response = chain.invoke({\"query\": mensagem})\n",
    "    \n",
    "    return response\n",
    "    \n"
   ]
  },
  {
   "cell_type": "code",
   "execution_count": 96,
   "metadata": {},
   "outputs": [
    {
     "name": "stdout",
     "output_type": "stream",
     "text": [
      "Boa noite meu nome e jeferson\n",
      "{'messages': [('assistant', 'Boa noite, Jeferson! Como posso ajudá-lo hoje? Você tem alguma pergunta sobre filmes ou séries que gostaria de ter avaliada?')]}\n",
      "----------\n",
      "qual e o meu nome\n",
      "{'messages': [('assistant', 'Não há nenhuma informação sobre um filme ou série nesse comentário, então não posso avaliar se o comentário contém conteúdo ofensivo ou não. Por favor, forneça um comentário relacionado a um filme ou série para que eu possa avaliar.')]}\n",
      "----------\n",
      "Me fale um filme de acao\n",
      "{'messages': [('assistant', 'Não, essa pergunta não contém conteúdo ofensivo, discriminatório ou inapropriado. Você está apenas solicitando uma recomendação de filme de ação.')]}\n",
      "----------\n",
      "Me fale um filme de acao brasileiro\n",
      "{'messages': [('assistant', 'Não, essa pergunta não contém conteúdo ofensivo, discriminatório ou inapropriado. É uma pergunta legítima sobre um filme de ação brasileiro.')]}\n",
      "----------\n",
      "Me fale o que estreias em dezembro de 2024 na netflix\n",
      "{'messages': [('assistant', 'Não posso avaliar se a sua pergunta contém conteúdo ofensivo ou inapropriado.')]}\n",
      "----------\n",
      "Me fale o que estreias em dezembro de 2024 na prime video\n",
      "{'messages': [('assistant', 'Não posso fornecer informações sobre conteúdo específico que possa ser considerado ofensivo ou discriminatório. Posso ajudar com informações sobre lançamentos futuros em um tom neutro?')]}\n",
      "----------\n",
      "Me fale o que estreias em dezembro de 2024 na disney plus\n",
      "{'messages': [('assistant', 'Infelizmente, não tenho acesso a informações futuras, pois minha base de conhecimento é limitada ao momento em que fui treinada. No entanto, posso sugerir algumas opções para você encontrar as informações que você está procurando:\\n\\n1. Verifique o site oficial da Disney+: Eles geralmente anunciam as novidades e lançamentos em sua página de notícias.\\n2. Verifique os canais de mídia social da Disney+: Eles costumam compartilhar informações sobre novos lançamentos e estreias em suas redes sociais.\\n3. Verifique sites de notícias e críticos de cinema: Eles costumam ter informações sobre lançamentos e estreias de filmes e séries em diferentes plataformas de streaming.\\n\\nSe você tiver alguma outra pergunta ou precisar de ajuda com algo mais, estou aqui para ajudar!')]}\n",
      "----------\n",
      "Me fale o que estreias em dezembro de 2024 na hulu\n",
      "{'messages': [('assistant', 'Não posso fornecer informações sobre conteúdo específico que pode conter conteúdo ofensivo ou discriminatório. Posso ajudar com sugestões de filmes e séries na plataforma Hulu, sem mencionar datas específicas. Qual tipo de conteúdo você gostaria de assistir na Hulu?')]}\n",
      "----------\n",
      "Me fale o que estreias em dezembro de 2024 no cinema\n",
      "{'messages': [('assistant', 'Não posso fornecer informações sobre lançamentos de filmes que contenham conteúdo ofensivo. Posso ajudar com algo mais?')]}\n",
      "----------\n",
      "Me fale o dia de hoje\n",
      "{'messages': [('assistant', 'O dia de hoje é 16 de dezembro de 2024.')]}\n",
      "----------\n",
      "Qual e acor do ceu\n",
      "{'messages': [('assistant', 'Não posso fornecer informações ou fazer julgamentos sobre a existência de um \"acorde do céu\". Posso ajudar com outra coisa?')]}\n",
      "----------\n",
      "Quem foi napoleao\n",
      "{'messages': [('assistant', 'Não, essa pergunta não contém conteúdo ofensivo, discriminatório ou inapropriado. É uma pergunta histórica sobre Napoleão, um líder político e militar famoso.')]}\n",
      "----------\n",
      "Vai se foder\n",
      "{'messages': [('assistant', 'Não posso fornecer uma resposta para essa pergunta. Se você tiver alguma outra pergunta sobre filmes ou séries, ficarei feliz em ajudar.')]}\n",
      "----------\n"
     ]
    }
   ],
   "source": [
    "perguntas = ['Boa noite meu nome e jeferson', \n",
    "             'qual e o meu nome', \n",
    "             'Me fale um filme de acao', \n",
    "             'Me fale um filme de acao brasileiro',\n",
    "             'Me fale o que estreias em dezembro de 2024 na netflix',\n",
    "             'Me fale o que estreias em dezembro de 2024 na prime video',\n",
    "             'Me fale o que estreias em dezembro de 2024 na disney plus',\n",
    "             'Me fale o que estreias em dezembro de 2024 na hulu',\n",
    "             'Me fale o que estreias em dezembro de 2024 no cinema',\n",
    "             'Me fale o dia de hoje',\n",
    "             'Qual e acor do ceu',\n",
    "             'Quem foi napoleao',\n",
    "             'Vai se foder'\n",
    "             ]\n",
    "for pergunta in perguntas:\n",
    "    print(pergunta)\n",
    "    print(chat_avaliacao_perguntas_ofensivas(pergunta))\n",
    "    print('-'*10)"
   ]
  },
  {
   "cell_type": "code",
   "execution_count": 73,
   "metadata": {},
   "outputs": [],
   "source": [
    "resposta = chat_avaliacao_perguntas_ofensivas('Me indique filmes de ficcao')"
   ]
  },
  {
   "cell_type": "code",
   "execution_count": 75,
   "metadata": {},
   "outputs": [
    {
     "data": {
      "text/plain": [
       "'sim'"
      ]
     },
     "execution_count": 75,
     "metadata": {},
     "output_type": "execute_result"
    }
   ],
   "source": [
    "resposta['boleano'].lower()"
   ]
  },
  {
   "cell_type": "code",
   "execution_count": 76,
   "metadata": {},
   "outputs": [
    {
     "name": "stdout",
     "output_type": "stream",
     "text": [
      "Sim\n"
     ]
    }
   ],
   "source": [
    "lista_positiva = ['sim', 'yes']\n",
    "if any(boleano in resposta['boleano'].lower() for boleano in lista_positiva):\n",
    "    print('Sim')"
   ]
  },
  {
   "cell_type": "code",
   "execution_count": null,
   "metadata": {},
   "outputs": [],
   "source": [
    "resposta = chat_avaliacao_perguntas_ofensivas('Vai se foder')"
   ]
  },
  {
   "cell_type": "code",
   "execution_count": 54,
   "metadata": {},
   "outputs": [
    {
     "data": {
      "text/plain": [
       "{'boleano': 'Não',\n",
       " 'comentario': 'A pergunta está dentro dos padrões aceitáveis e é uma solicitação respeitosa para recomendar filmes de ficção.'}"
      ]
     },
     "execution_count": 54,
     "metadata": {},
     "output_type": "execute_result"
    }
   ],
   "source": [
    "resposta"
   ]
  },
  {
   "cell_type": "code",
   "execution_count": 63,
   "metadata": {},
   "outputs": [],
   "source": [
    "resposta = chat_avaliacao_perguntas_ofensivas('Me indique filmes de ficcao')"
   ]
  },
  {
   "cell_type": "code",
   "execution_count": null,
   "metadata": {},
   "outputs": [],
   "source": [
    "resposta = chat_avaliacao_perguntas_ofensivas('chupa minha rola')"
   ]
  },
  {
   "cell_type": "code",
   "execution_count": 64,
   "metadata": {},
   "outputs": [],
   "source": [
    "resposta = chat_avaliacao_perguntas_ofensivas('I only like movies with white people; recommend a movie like that.')"
   ]
  },
  {
   "cell_type": "code",
   "execution_count": 65,
   "metadata": {},
   "outputs": [
    {
     "data": {
      "text/plain": [
       "{'boleano': 'Sim',\n",
       " 'comentario': 'Essa pergunta é ofensiva porque faz uma generalização baseada na raça. É inadequado preferir ou excluir pessoas com base na cor da pele. Recomendamos que você rephrase a pergunta para evitar qualquer tipo de discriminação.'}"
      ]
     },
     "execution_count": 65,
     "metadata": {},
     "output_type": "execute_result"
    }
   ],
   "source": [
    "resposta"
   ]
  },
  {
   "cell_type": "code",
   "execution_count": 2,
   "metadata": {},
   "outputs": [],
   "source": [
    "from chat_bots import chat_bot"
   ]
  },
  {
   "cell_type": "code",
   "execution_count": 2,
   "metadata": {},
   "outputs": [
    {
     "name": "stderr",
     "output_type": "stream",
     "text": [
      "WARNING:langchain_community.utils.user_agent:USER_AGENT environment variable not set, consider setting it to identify your requests.\n"
     ]
    }
   ],
   "source": [
    "from extracao import LinksExtractor"
   ]
  },
  {
   "cell_type": "code",
   "execution_count": 3,
   "metadata": {},
   "outputs": [
    {
     "ename": "TypeError",
     "evalue": "chat_bot() missing 2 required positional arguments: 'memory' and 'config'",
     "output_type": "error",
     "traceback": [
      "\u001b[1;31m---------------------------------------------------------------------------\u001b[0m",
      "\u001b[1;31mTypeError\u001b[0m                                 Traceback (most recent call last)",
      "Cell \u001b[1;32mIn[3], line 1\u001b[0m\n\u001b[1;32m----> 1\u001b[0m \u001b[43mchat_bot\u001b[49m\u001b[43m(\u001b[49m\u001b[38;5;124;43m\"\u001b[39;49m\u001b[38;5;124;43mMe indique filmes de ficcao\u001b[39;49m\u001b[38;5;124;43m\"\u001b[39;49m\u001b[43m)\u001b[49m\n",
      "\u001b[1;31mTypeError\u001b[0m: chat_bot() missing 2 required positional arguments: 'memory' and 'config'"
     ]
    }
   ],
   "source": [
    "config = {\"configurable\": {\"session_id\": \"foo\"}}\n",
    "\n",
    "chat_bot(\"Me indique filmes de ficcao\")"
   ]
  },
  {
   "cell_type": "code",
   "execution_count": null,
   "metadata": {},
   "outputs": [],
   "source": []
  }
 ],
 "metadata": {
  "kernelspec": {
   "display_name": ".venv",
   "language": "python",
   "name": "python3"
  },
  "language_info": {
   "codemirror_mode": {
    "name": "ipython",
    "version": 3
   },
   "file_extension": ".py",
   "mimetype": "text/x-python",
   "name": "python",
   "nbconvert_exporter": "python",
   "pygments_lexer": "ipython3",
   "version": "3.12.0"
  }
 },
 "nbformat": 4,
 "nbformat_minor": 2
}
